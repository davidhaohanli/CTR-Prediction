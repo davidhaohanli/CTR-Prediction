{
 "cells": [
  {
   "cell_type": "markdown",
   "metadata": {
    "nbpresent": {
     "id": "1c3ec838-e96e-4832-ad81-b5bc9f53f258"
    }
   },
   "source": [
    "# StackPros\n",
    "\n",
    "## Data Scientists Assessment - Coding Test\n",
    "\n",
    "<br/>\n",
    "\n",
    "<div style=\"text-align: right\"> Author: Haohan (David) Li</div>\n",
    "<div style=\"text-align: right\"> Data Source: StackPros </div>"
   ]
  },
  {
   "cell_type": "markdown",
   "metadata": {
    "nbpresent": {
     "id": "232df07d-dc19-4ac4-b09b-e2f1713bf7d3"
    }
   },
   "source": [
    "___\n",
    "### This notebook demonstrates the process of building a pipeline for view-to-click probability based on 7 features\n",
    "- ID: unique user IDs\n",
    "- Action Time: the time when action (View/Click) happened, in microseconds format\n",
    "- Website: the website where the ad was published\n",
    "- Banner Size: the banner size of ad\n",
    "- Brand: the brand name that the ad was promoting\n",
    "- Colour: the colour of product showcased in the ad\n",
    "- Interaction Time: user’s interaction time with each ad (sec)\n",
    "\n",
    "\n",
    "\n",
    "### The pipeline structure is: \n",
    "##### -> Data Cleaning  \n",
    "&nbsp;&nbsp;&nbsp;&nbsp;&nbsp;&nbsp;&nbsp;&nbsp; Missing Value Filling -> Convert to Lower Case\n",
    "##### -> EDA (Exploratory Data Analysis)  \n",
    "&nbsp;&nbsp;&nbsp;&nbsp;&nbsp;&nbsp;&nbsp;&nbsp; Univariate Distribution and Plot -> Correlation with Labels and Plot -> Unrelated Features Drop\n",
    "##### -> Feature Engineering\n",
    "&nbsp;&nbsp;&nbsp;&nbsp;&nbsp;&nbsp;&nbsp;&nbsp; Feature Creation -> Feature Encoding -> Feature Selection -> Dimensionality Reduction -> Normalization\n",
    "##### -> Modelling  \n",
    "&nbsp;&nbsp;&nbsp;&nbsp;&nbsp;&nbsp;&nbsp;&nbsp; Model Construction -> Hyper-Parameter Tuning -> Evaluation Metrics -> Model Selection"
   ]
  },
  {
   "cell_type": "markdown",
   "metadata": {
    "nbpresent": {
     "id": "15bb45bf-9d17-4613-8632-330529f37040"
    }
   },
   "source": [
    "### Dependencies"
   ]
  },
  {
   "cell_type": "code",
   "execution_count": null,
   "metadata": {
    "nbpresent": {
     "id": "81883dd0-9e3f-4255-9bb4-2ff42724867f"
    }
   },
   "outputs": [],
   "source": [
    "#Dependencies Check\n",
    "!pip install sklearn --upgrade\n",
    "!pip install xgboost --upgrade\n",
    "\n",
    "#General\n",
    "import numpy as np\n",
    "import scipy as sp\n",
    "import pandas as pd\n",
    "import os\n",
    "\n",
    "#Feature Selection\n",
    "from sklearn.feature_selection import chi2\n",
    "from sklearn.feature_selection import VarianceThreshold\n",
    "from sklearn.decomposition import PCA\n",
    "\n",
    "#Preprocessing\n",
    "from sklearn.preprocessing import normalize\n",
    "from sklearn.preprocessing import MinMaxScaler\n",
    "from sklearn.preprocessing import binarize\n",
    "\n",
    "#Model Selection\n",
    "from sklearn.model_selection import GridSearchCV\n",
    "from sklearn.model_selection import train_test_split\n",
    "\n",
    "#Models\n",
    "from sklearn.linear_model import LogisticRegression as LR\n",
    "from sklearn.svm import SVC\n",
    "from xgboost import XGBClassifier as XG\n",
    "\n",
    "#Metrics\n",
    "from sklearn.metrics import fbeta_score\n",
    "from sklearn.metrics import roc_curve\n",
    "from sklearn.metrics import roc_auc_score\n",
    "from sklearn.metrics import confusion_matrix\n",
    "\n",
    "#Visualization\n",
    "import matplotlib.pyplot as plt\n",
    "import seaborn as sns\n",
    "plt.style.use(\"ggplot\")\n",
    "\n",
    "#Jupyter Notebook Magic\n",
    "%matplotlib inline"
   ]
  },
  {
   "cell_type": "markdown",
   "metadata": {
    "nbpresent": {
     "id": "e40d0bbc-6ca9-4a9a-a530-4edc0a9e7c6f"
    }
   },
   "source": [
    "### Data Loading"
   ]
  },
  {
   "cell_type": "code",
   "execution_count": 434,
   "metadata": {
    "nbpresent": {
     "id": "14a4e1d2-b99d-4969-9167-ae72ea7eebb3"
    }
   },
   "outputs": [],
   "source": [
    "class Data_Loader(object):\n",
    "    \n",
    "    #which column to use as index\n",
    "    indCol = 0\n",
    "    \n",
    "    #file name\n",
    "    fileName = 'StackPros_Assessment_DataScientist_S_file.csv'\n",
    "    \n",
    "    def __init__(self, dir:str=os.getcwd()):\n",
    "        '''\n",
    "        dir: the directory keepping data source, default as current directory\n",
    "        '''\n",
    "        self.path = dir + '/' + Data_Loader.fileName\n",
    "    \n",
    "    def load(self)->pd.DataFrame:\n",
    "        '''\n",
    "        return: the data frame contains the data\n",
    "        '''\n",
    "        return pd.read_csv(self.path,index_col=Data_Loader.indCol)"
   ]
  },
  {
   "cell_type": "code",
   "execution_count": 435,
   "metadata": {
    "nbpresent": {
     "id": "128564db-0bc8-4291-99d0-9283edc07b6b"
    }
   },
   "outputs": [],
   "source": [
    "#load the data from csv file \n",
    "loader = Data_Loader()\n",
    "df = loader.load()"
   ]
  },
  {
   "cell_type": "code",
   "execution_count": 436,
   "metadata": {
    "nbpresent": {
     "id": "d5d985a0-0795-46f9-9bd1-aca5a5b0fe44"
    }
   },
   "outputs": [
    {
     "data": {
      "text/html": [
       "<div>\n",
       "<style scoped>\n",
       "    .dataframe tbody tr th:only-of-type {\n",
       "        vertical-align: middle;\n",
       "    }\n",
       "\n",
       "    .dataframe tbody tr th {\n",
       "        vertical-align: top;\n",
       "    }\n",
       "\n",
       "    .dataframe thead th {\n",
       "        text-align: right;\n",
       "    }\n",
       "</style>\n",
       "<table border=\"1\" class=\"dataframe\">\n",
       "  <thead>\n",
       "    <tr style=\"text-align: right;\">\n",
       "      <th></th>\n",
       "      <th>ID</th>\n",
       "      <th>ActionTime</th>\n",
       "      <th>Action</th>\n",
       "      <th>Website</th>\n",
       "      <th>BannerSize</th>\n",
       "      <th>Brand</th>\n",
       "      <th>colour</th>\n",
       "      <th>InteractionTime</th>\n",
       "    </tr>\n",
       "  </thead>\n",
       "  <tbody>\n",
       "    <tr>\n",
       "      <th>1</th>\n",
       "      <td>AMsySZbNg8SBwPtj7IGHnip_8aY0</td>\n",
       "      <td>1508761859495365</td>\n",
       "      <td>View</td>\n",
       "      <td>Facebook</td>\n",
       "      <td>300x600</td>\n",
       "      <td>Carter's</td>\n",
       "      <td>Pink</td>\n",
       "      <td>0.171601</td>\n",
       "    </tr>\n",
       "    <tr>\n",
       "      <th>2</th>\n",
       "      <td>AMsySZZcUFNGOJs-lfC9j-ZDlV7Z</td>\n",
       "      <td>1502847469736117</td>\n",
       "      <td>View</td>\n",
       "      <td>Facebook</td>\n",
       "      <td>300x250</td>\n",
       "      <td>Burberry</td>\n",
       "      <td>Red</td>\n",
       "      <td>4.303945</td>\n",
       "    </tr>\n",
       "    <tr>\n",
       "      <th>3</th>\n",
       "      <td>AMsySZYoK8_bD0hGv4zu0iRn1TFo</td>\n",
       "      <td>1514169431528120</td>\n",
       "      <td>View</td>\n",
       "      <td>Facebook</td>\n",
       "      <td>728x90</td>\n",
       "      <td>Disney</td>\n",
       "      <td>Yellow</td>\n",
       "      <td>0.868106</td>\n",
       "    </tr>\n",
       "    <tr>\n",
       "      <th>4</th>\n",
       "      <td>AMsySZahxpwLOWnMJj6RGATgwEOc</td>\n",
       "      <td>1515527952591896</td>\n",
       "      <td>View</td>\n",
       "      <td>Facebook</td>\n",
       "      <td>320x50</td>\n",
       "      <td>Carter's</td>\n",
       "      <td>Yellow</td>\n",
       "      <td>0.802647</td>\n",
       "    </tr>\n",
       "    <tr>\n",
       "      <th>5</th>\n",
       "      <td>AMsySZbqgfMBDtAqZz1jVRaOmX00</td>\n",
       "      <td>1507514809374045</td>\n",
       "      <td>View</td>\n",
       "      <td>instagram.com</td>\n",
       "      <td>300x250</td>\n",
       "      <td>Gap</td>\n",
       "      <td>Gold</td>\n",
       "      <td>0.627148</td>\n",
       "    </tr>\n",
       "  </tbody>\n",
       "</table>\n",
       "</div>"
      ],
      "text/plain": [
       "                             ID        ActionTime Action        Website  \\\n",
       "1  AMsySZbNg8SBwPtj7IGHnip_8aY0  1508761859495365   View       Facebook   \n",
       "2  AMsySZZcUFNGOJs-lfC9j-ZDlV7Z  1502847469736117   View       Facebook   \n",
       "3  AMsySZYoK8_bD0hGv4zu0iRn1TFo  1514169431528120   View       Facebook   \n",
       "4  AMsySZahxpwLOWnMJj6RGATgwEOc  1515527952591896   View       Facebook   \n",
       "5  AMsySZbqgfMBDtAqZz1jVRaOmX00  1507514809374045   View  instagram.com   \n",
       "\n",
       "  BannerSize     Brand  colour  InteractionTime  \n",
       "1    300x600  Carter's    Pink         0.171601  \n",
       "2    300x250  Burberry     Red         4.303945  \n",
       "3     728x90    Disney  Yellow         0.868106  \n",
       "4     320x50  Carter's  Yellow         0.802647  \n",
       "5    300x250       Gap    Gold         0.627148  "
      ]
     },
     "execution_count": 436,
     "metadata": {},
     "output_type": "execute_result"
    }
   ],
   "source": [
    "df.head()"
   ]
  },
  {
   "cell_type": "code",
   "execution_count": 437,
   "metadata": {
    "nbpresent": {
     "id": "44113c3c-0571-43c4-b362-940f8ea5e185"
    }
   },
   "outputs": [],
   "source": [
    "#sample and feature size\n",
    "sampleSize = df.shape[0]\n",
    "attrSize = df.shape[1]"
   ]
  },
  {
   "cell_type": "code",
   "execution_count": 438,
   "metadata": {
    "nbpresent": {
     "id": "9d8a0a4a-838d-4f94-9460-bf1395c56ba6"
    },
    "scrolled": true
   },
   "outputs": [
    {
     "name": "stdout",
     "output_type": "stream",
     "text": [
      "1000000\n"
     ]
    }
   ],
   "source": [
    "print(sampleSize)"
   ]
  },
  {
   "cell_type": "code",
   "execution_count": 439,
   "metadata": {},
   "outputs": [
    {
     "name": "stdout",
     "output_type": "stream",
     "text": [
      "8\n"
     ]
    }
   ],
   "source": [
    "print(attrSize)"
   ]
  },
  {
   "cell_type": "markdown",
   "metadata": {},
   "source": [
    "There are totally 1,000,000 samples loaded. It is a medium size dataset.\n",
    "For each sample, there consists of 8 attributes (7 features and 1 label). It is relatively low in dimension"
   ]
  },
  {
   "cell_type": "markdown",
   "metadata": {
    "nbpresent": {
     "id": "2931feac-6064-4ac5-857c-95d3ebc9072c"
    }
   },
   "source": [
    "### Data Cleaning"
   ]
  },
  {
   "cell_type": "code",
   "execution_count": 440,
   "metadata": {
    "nbpresent": {
     "id": "9346b060-76cb-437e-beb0-36aa4bd4f4e5"
    }
   },
   "outputs": [],
   "source": [
    "# a decorator that could be used in many functions after, sort the columns into continous or categorical types\n",
    "def updateVarInfo(labelCol:str='Action',abandon:list=['ID','RealTime']):\n",
    "    \n",
    "    '''\n",
    "    labelCol: whether need label column type, default as using 'Action'\n",
    "    abandon: abandoned column to sort\n",
    "    '''\n",
    "    \n",
    "    def wrapper(func):\n",
    "        \n",
    "        #contious variable data types\n",
    "        ContinousTypes = [np.dtype('float')]\n",
    "        #for data type not in ContinousTypes, but still could be regarded as continous \n",
    "        ForceToContinous = ['ActionTime']\n",
    "        #for data type in ContinousTypes, but should be regarded as categorical\n",
    "        ForceToCat = ['BannerArea','BannerRatio']\n",
    "\n",
    "        def _wrapper(self, *args, **kwargs):\n",
    "            \n",
    "            self.varCategories = {'ContinousVars':list(),'CategoricalVars':list(),'LabelVars':labelCol}\n",
    "    \n",
    "            for col in self.df.columns:\n",
    "                #sort column into continous or categorical\n",
    "                if col!=labelCol and col not in abandon:\n",
    "                    if (self.df[col].dtype in ContinousTypes or col in ForceToContinous) and \\\n",
    "                    col not in ForceToCat:\n",
    "                        self.varCategories['ContinousVars'].append(col)\n",
    "                    else:\n",
    "                        self.varCategories['CategoricalVars'].append(col)\n",
    "                        \n",
    "            #if the label column exits, give the label size as well\n",
    "            if labelCol:\n",
    "                self.labelCounts = self.df.groupby(labelCol).size()\n",
    "             \n",
    "            return func(self, *args, **kwargs)\n",
    "        return _wrapper\n",
    "    return wrapper"
   ]
  },
  {
   "cell_type": "markdown",
   "metadata": {
    "nbpresent": {
     "id": "c2233220-4f96-4fb4-a7c7-206cd91dd90f"
    }
   },
   "source": [
    "##### Analysis on Attributes\n",
    "In this section, a general analyzer is generated for the data frame that could be used to print the data type of each column, null value percentage and value range (for continous) or number of unique values."
   ]
  },
  {
   "cell_type": "code",
   "execution_count": 441,
   "metadata": {
    "nbpresent": {
     "id": "359d7a5f-d529-48a9-91f5-ff09fbf08cc6"
    }
   },
   "outputs": [],
   "source": [
    "class General_Analyzer(object):\n",
    "    \n",
    "    #column names for the general report\n",
    "    colNames = ['Data Type','Null Percentage','Variable Range or Value Count']\n",
    "    \n",
    "    def __init__(self,df:pd.DataFrame):\n",
    "        '''\n",
    "        df: the data frame to analyze\n",
    "        '''\n",
    "        self.df = df\n",
    "        \n",
    "    def null_check(self)->pd.Series:\n",
    "        '''\n",
    "        return: a report in series for null value count in percentage format\n",
    "        '''\n",
    "        return self.df.isnull().sum().apply(lambda x:str(x/self.df.shape[0]*100)[:8]+'%')\n",
    "    \n",
    "    def dtype_check(self)->pd.Series:\n",
    "        '''\n",
    "        return: a report in series for data type in each column\n",
    "        '''\n",
    "        return self.df.dtypes\n",
    "    \n",
    "    @updateVarInfo(None,[])\n",
    "    def unique_count_or_range(self)->pd.Series:\n",
    "        '''\n",
    "        return: a report in series for number of unique values in each column\n",
    "        '''\n",
    "        variables = {}\n",
    "        for col in self.df.columns:\n",
    "            #if column dtype is contious, find its range. if the column dtype is categorical, find the total number \n",
    "            #      of unique values\n",
    "            if col in self.varCategories['ContinousVars']:\n",
    "                variables[col] = '{} -- {}'.format('%.5g'% self.df[col].min(),'%.5g'% self.df[col].max())\n",
    "            else:\n",
    "                variables[col] = len(self.df[col].unique())\n",
    "        return pd.Series(variables)\n",
    "        \n",
    "    def generate_report(self)->pd.Series:\n",
    "        '''\n",
    "        return: a report concate null check and data type check\n",
    "        '''\n",
    "        newDf = pd.concat((self.dtype_check(),self.null_check(),self.unique_count_or_range()),axis=1)\n",
    "        newDf.columns = General_Analyzer.colNames\n",
    "        return newDf"
   ]
  },
  {
   "cell_type": "code",
   "execution_count": 442,
   "metadata": {
    "nbpresent": {
     "id": "8bb1ad12-15ff-41bd-9fb5-a0ed99a82e23"
    },
    "scrolled": false
   },
   "outputs": [
    {
     "data": {
      "text/html": [
       "<div>\n",
       "<style scoped>\n",
       "    .dataframe tbody tr th:only-of-type {\n",
       "        vertical-align: middle;\n",
       "    }\n",
       "\n",
       "    .dataframe tbody tr th {\n",
       "        vertical-align: top;\n",
       "    }\n",
       "\n",
       "    .dataframe thead th {\n",
       "        text-align: right;\n",
       "    }\n",
       "</style>\n",
       "<table border=\"1\" class=\"dataframe\">\n",
       "  <thead>\n",
       "    <tr style=\"text-align: right;\">\n",
       "      <th></th>\n",
       "      <th>Data Type</th>\n",
       "      <th>Null Percentage</th>\n",
       "      <th>Variable Range or Value Count</th>\n",
       "    </tr>\n",
       "  </thead>\n",
       "  <tbody>\n",
       "    <tr>\n",
       "      <th>Action</th>\n",
       "      <td>object</td>\n",
       "      <td>0.0%</td>\n",
       "      <td>2</td>\n",
       "    </tr>\n",
       "    <tr>\n",
       "      <th>ActionTime</th>\n",
       "      <td>int64</td>\n",
       "      <td>0.0%</td>\n",
       "      <td>1.501e+15 -- 1.5174e+15</td>\n",
       "    </tr>\n",
       "    <tr>\n",
       "      <th>BannerSize</th>\n",
       "      <td>object</td>\n",
       "      <td>0.0%</td>\n",
       "      <td>15</td>\n",
       "    </tr>\n",
       "    <tr>\n",
       "      <th>Brand</th>\n",
       "      <td>object</td>\n",
       "      <td>0.0%</td>\n",
       "      <td>10</td>\n",
       "    </tr>\n",
       "    <tr>\n",
       "      <th>ID</th>\n",
       "      <td>object</td>\n",
       "      <td>0.0%</td>\n",
       "      <td>218686</td>\n",
       "    </tr>\n",
       "    <tr>\n",
       "      <th>InteractionTime</th>\n",
       "      <td>float64</td>\n",
       "      <td>0.000799%</td>\n",
       "      <td>2.0979e-06 -- 13.385</td>\n",
       "    </tr>\n",
       "    <tr>\n",
       "      <th>Website</th>\n",
       "      <td>object</td>\n",
       "      <td>0.0%</td>\n",
       "      <td>16</td>\n",
       "    </tr>\n",
       "    <tr>\n",
       "      <th>colour</th>\n",
       "      <td>object</td>\n",
       "      <td>0.0%</td>\n",
       "      <td>7</td>\n",
       "    </tr>\n",
       "  </tbody>\n",
       "</table>\n",
       "</div>"
      ],
      "text/plain": [
       "                Data Type Null Percentage Variable Range or Value Count\n",
       "Action             object            0.0%                             2\n",
       "ActionTime          int64            0.0%       1.501e+15 -- 1.5174e+15\n",
       "BannerSize         object            0.0%                            15\n",
       "Brand              object            0.0%                            10\n",
       "ID                 object            0.0%                        218686\n",
       "InteractionTime   float64       0.000799%          2.0979e-06 -- 13.385\n",
       "Website            object            0.0%                            16\n",
       "colour             object            0.0%                             7"
      ]
     },
     "execution_count": 442,
     "metadata": {},
     "output_type": "execute_result"
    }
   ],
   "source": [
    "generalAnalyzer = General_Analyzer(df)\n",
    "generalAnalyzer.generate_report()"
   ]
  },
  {
   "cell_type": "code",
   "execution_count": 443,
   "metadata": {},
   "outputs": [],
   "source": [
    "df.drop(['ID'],axis=1,inplace=True)"
   ]
  },
  {
   "cell_type": "markdown",
   "metadata": {},
   "source": [
    "From the report, we could tell that there are only missing value in the InteractionTime column and the percentage is relatively low. In this case, I choose the technique that filling the NAN with mean value by each category labelled because I don't want to loose any information. As in the ID column, we may tell that the unique values are as high as 218686, which may lead to a noise feature. And, after observation on the data in the frame, the ID section is an encryted value that is impossible to perform feature engineering. Therefore, I choose to drop this column."
   ]
  },
  {
   "cell_type": "markdown",
   "metadata": {
    "nbpresent": {
     "id": "9f3cc209-df8f-47f5-b522-e647da8c1dd1"
    }
   },
   "source": [
    "##### Missing Values\n",
    "In this section, a NAN value filler is generated for the data frame that is used for filling the missing values in each column based on the label. "
   ]
  },
  {
   "cell_type": "code",
   "execution_count": 444,
   "metadata": {
    "nbpresent": {
     "id": "8f5ec8bc-1ab5-4031-bd7a-8e76915a2be8"
    }
   },
   "outputs": [],
   "source": [
    "class Nan_Filler(object):\n",
    "    \n",
    "    #define the label column\n",
    "    labelCol = 'Action'\n",
    "    \n",
    "    def __init__(self, df:pd.DataFrame):\n",
    "        '''\n",
    "        df: Data frame to operate\n",
    "        '''\n",
    "        self.df = df\n",
    "    \n",
    "    def getFillValByLabel(self, col:str, mode:str='mean')->dict:\n",
    "        '''\n",
    "        col: the column to fill\n",
    "        mode: fill with ceratin method, mean, max, or min\n",
    "        return: a dictionary contains the column 'mode' value for each label\n",
    "        '''\n",
    "        #find the 'mode' value on the column based on each label value\n",
    "        fillVal = dict()\n",
    "        for label in self.df[Nan_Filler.labelCol].unique():\n",
    "            fillVal[label] = getattr(self.df[self.df[Nan_Filler.labelCol]==label][col],mode)()\n",
    "        return fillVal\n",
    "    \n",
    "    #TODO faster algorithm\n",
    "    def fillByLabel(self, col:str, mode:str='mean', inplace:bool=True)->pd.Series or None:\n",
    "        '''\n",
    "        col: the column to fill\n",
    "        mode: fill with ceratin method, mean, max, or min\n",
    "        inplace: operate inplace or not\n",
    "        return: nan filled collumn or None for inplace operation\n",
    "        '''\n",
    "        fillVal = self.getFillValByLabel(col,mode)\n",
    "        \n",
    "        #fill based on label if the value is missing\n",
    "        filledCol = self.df.apply(lambda row: row[col] if not np.isnan(row[col]) \\\n",
    "                             else fillVal[row[Nan_Filler.labelCol]],axis=1)\n",
    "        \n",
    "        if not inplace:\n",
    "            return filledCol\n",
    "        else:\n",
    "            self.df[col] = filledCol"
   ]
  },
  {
   "cell_type": "code",
   "execution_count": 445,
   "metadata": {
    "nbpresent": {
     "id": "d30f534b-87b5-4e42-aac8-0addd2ed42b6"
    }
   },
   "outputs": [],
   "source": [
    "nan_filler = Nan_Filler(df)\n",
    "\n",
    "#filling the only column with missing value  \n",
    "nan_filler.fillByLabel('InteractionTime')"
   ]
  },
  {
   "cell_type": "code",
   "execution_count": 446,
   "metadata": {
    "nbpresent": {
     "id": "8840b8c7-6b4a-44f3-9681-27f44bedef3e"
    },
    "scrolled": true
   },
   "outputs": [
    {
     "data": {
      "text/plain": [
       "ActionTime         0.0%\n",
       "Action             0.0%\n",
       "Website            0.0%\n",
       "BannerSize         0.0%\n",
       "Brand              0.0%\n",
       "colour             0.0%\n",
       "InteractionTime    0.0%\n",
       "dtype: object"
      ]
     },
     "execution_count": 446,
     "metadata": {},
     "output_type": "execute_result"
    }
   ],
   "source": [
    "#double check for all the missing values filled\n",
    "generalAnalyzer.null_check()"
   ]
  },
  {
   "cell_type": "markdown",
   "metadata": {
    "nbpresent": {
     "id": "82d0944c-ce8f-4f4d-954e-d90068f2a55e"
    }
   },
   "source": [
    "##### Lower Cases"
   ]
  },
  {
   "cell_type": "markdown",
   "metadata": {},
   "source": [
    "Convert all the string information in BannerSize column to lower cases. It may cause noise"
   ]
  },
  {
   "cell_type": "code",
   "execution_count": 447,
   "metadata": {
    "nbpresent": {
     "id": "3ece8904-24b7-42b0-9de5-fe4c0364bbad"
    }
   },
   "outputs": [],
   "source": [
    "df['BannerSize']=df['BannerSize'].map(lambda x:x.lower())"
   ]
  },
  {
   "cell_type": "markdown",
   "metadata": {
    "nbpresent": {
     "id": "a5fc1809-98b2-4e10-ae0e-cf31f646243d"
    }
   },
   "source": [
    "### Exploratory Data Analysis\n",
    "\n",
    "In this section, a plotter is generated. It could dynamicly procude 4 kinds of plots:\n",
    "- Single Plot\n",
    " - The distribution of continous data and their mean and variance \n",
    " - The pi plot of categorical data\n",
    "- Plot based on different lables\n",
    " - The distribution of continous data on different labels \n",
    " - The bar plot of categorical data on different labels"
   ]
  },
  {
   "cell_type": "code",
   "execution_count": 448,
   "metadata": {
    "nbpresent": {
     "id": "96c09986-71c2-4160-9cf0-d3e0cdd49ead"
    }
   },
   "outputs": [],
   "source": [
    "class Plotter(object):\n",
    "    \n",
    "    labelCol = 'Action'\n",
    "    \n",
    "    def __init__(self,df):\n",
    "        self.df = df\n",
    "    \n",
    "    #dynamicly draw a canvas based on no. of plots\n",
    "    def canvas(self,varCat,cols=2):\n",
    "        plt.close()\n",
    "        cols = cols\n",
    "        rows = int(len(self.varCategories[varCat])/cols)+1\n",
    "        fig = plt.figure(figsize=(10,10*rows//cols))\n",
    "        return fig,cols,rows\n",
    "    \n",
    "    @updateVarInfo()\n",
    "    def continousPlot(self):\n",
    "        fig,cols,rows = self.canvas('ContinousVars')\n",
    "        for n,col in enumerate(self.varCategories['ContinousVars']):\n",
    "            ax = fig.add_subplot(rows,cols,n+1)\n",
    "            ax.set_title(col)\n",
    "            bw = (self.df[col].max()-self.df[col].min())/20\n",
    "            \n",
    "            #draw kde based on different labeld\n",
    "            for label in self.df[Plotter.labelCol].unique():\n",
    "                sns.kdeplot(self.df[self.df[Plotter.labelCol]==label][col], bw=bw ,label=label)\n",
    "                \n",
    "            plt.legend(loc='upper right')\n",
    "            plt.xticks(fontsize=10,rotation=90)\n",
    "        plt.tight_layout()\n",
    "    \n",
    "    @updateVarInfo(None)\n",
    "    def continousSinglePlot(self):\n",
    "        fig,cols,rows = self.canvas('ContinousVars')\n",
    "        for n,col in enumerate(self.varCategories['ContinousVars']):\n",
    "            ax = fig.add_subplot(rows,cols,n+1)\n",
    "            ax.set_title(col)\n",
    "            bw = (self.df[col].max()-self.df[col].min())/20\n",
    "            \n",
    "            #single kde plot\n",
    "            sns.kdeplot(self.df[col], bw=bw, legend=False)\n",
    "            \n",
    "            text = 'Mean: {}\\nVariance: {}'.format('%.5g'% self.df[col].mean(),'%.5g'% self.df[col].var())\n",
    "            ax.text(0.5, 0.95, text,transform=ax.transAxes, fontsize=14,verticalalignment='top')\n",
    "            plt.xticks(fontsize=10,rotation=90)\n",
    "        plt.tight_layout()\n",
    "    \n",
    "    @updateVarInfo()\n",
    "    def catgoricalPlot(self):\n",
    "        fig,cols,rows = self.canvas('CategoricalVars')\n",
    "        for n,col in enumerate(self.varCategories['CategoricalVars']):\n",
    "            ax = fig.add_subplot(rows,cols,n+1)\n",
    "            ax.set_title(col)\n",
    "            \n",
    "            #create a dateframe which contains count on values for different label\n",
    "            seriesAll = []\n",
    "            colNames = []\n",
    "            \n",
    "            for label in self.df[Plotter.labelCol].unique():\n",
    "                seriesAll.append(self.df[self.df[Plotter.labelCol]==label].groupby([col]).size()/\n",
    "                                 self.labelCounts[label])\n",
    "                colNames.append(label)\n",
    "            newDf = pd.concat(seriesAll,axis=1)\n",
    "            \n",
    "            newDf.columns = colNames\n",
    "            newDf.plot(kind = 'bar',ax=ax)\n",
    "            plt.legend(loc='upper right')\n",
    "            plt.xticks(fontsize=10,rotation=90)\n",
    "        plt.tight_layout()\n",
    "        \n",
    "    @updateVarInfo(None) \n",
    "    def catgoricalSinglePlot(self,mergeThreshold=0.021):\n",
    "        fig,cols,rows = self.canvas('CategoricalVars')\n",
    "        for n,col in enumerate(self.varCategories['CategoricalVars']):\n",
    "            ax = fig.add_subplot(rows,cols,n+1)\n",
    "            ax.set_title(col)\n",
    "            \n",
    "            #plot the pi chart, merge portion lower that mergeThreshold\n",
    "            if col != Plotter.labelCol:\n",
    "                each = self.df[col].value_counts().to_dict()\n",
    "                SUM = sum(each.values())\n",
    "                new = {'others':0}\n",
    "                for key in each.keys():\n",
    "                    if each[key]/SUM < mergeThreshold or key == 'other':\n",
    "                        new['others'] += each[key]\n",
    "                    else:\n",
    "                        new[key] = each[key]\n",
    "                if new['others'] == 0:\n",
    "                    new.pop('others')\n",
    "                plt.pie(x=new.values(),labels=new.keys(),autopct='%1.1f%%')\n",
    "            else:\n",
    "                plt.pie(x=self.df[col].value_counts().values,labels=self.df[col].value_counts().index,\\\n",
    "                        autopct='%1.1f%%')\n",
    "                \n",
    "            centre_circle=plt.Circle((0,0),0.7,color='white',fc='white',linewidth=1)\n",
    "            fig.gca().add_artist(centre_circle)\n",
    "        plt.tight_layout()"
   ]
  },
  {
   "cell_type": "code",
   "execution_count": 449,
   "metadata": {
    "nbpresent": {
     "id": "bd367efc-19ac-4397-910d-ff427e959b62"
    }
   },
   "outputs": [
    {
     "data": {
      "image/png": "[encoded data removed]",
      "text/plain": [
       "<matplotlib.figure.Figure at 0x7f4026517390>"
      ]
     },
     "metadata": {},
     "output_type": "display_data"
    }
   ],
   "source": [
    "plotter = Plotter(df)\n",
    "plotter.continousSinglePlot()"
   ]
  },
  {
   "cell_type": "markdown",
   "metadata": {},
   "source": [
    "From the plots above, we may find that the InteractionTime variance is relatively low. However, we could not draw the conclusion that it should be abandoned since the unit is not standerized. It would be demonstrated in the section afterwards."
   ]
  },
  {
   "cell_type": "code",
   "execution_count": 450,
   "metadata": {
    "nbpresent": {
     "id": "a62cc2bc-5570-4393-813e-0bbe05785291"
    }
   },
   "outputs": [
    {
     "data": {
      "image/png": "[encoded data removed]",
      "text/plain": [
       "<matplotlib.figure.Figure at 0x7f3fae4543c8>"
      ]
     },
     "metadata": {},
     "output_type": "display_data"
    }
   ],
   "source": [
    "plotter.catgoricalSinglePlot()"
   ]
  },
  {
   "cell_type": "markdown",
   "metadata": {},
   "source": [
    "From the plots above, we could say that this dataset is extremely imbalanced. Nearly all the ads are remaining view not clicked. That would cause a problem in the modelling section. Therefore, we need to focus on this part and find a way to balance the data\n",
    "\n",
    "From the website section we may find that this online shopping mall focus more on the online ads of Facebook. That's reasonable because Facebook is the largest SNS nowadays and people spend huge amount of time on it. That would be better for brand promotion"
   ]
  },
  {
   "cell_type": "code",
   "execution_count": 451,
   "metadata": {
    "nbpresent": {
     "id": "27cc3635-edc5-4e34-a5e0-1395a428d2a1"
    },
    "scrolled": false
   },
   "outputs": [
    {
     "data": {
      "image/png": "[encoded data removed]",
      "text/plain": [
       "<matplotlib.figure.Figure at 0x7f3fab16e080>"
      ]
     },
     "metadata": {},
     "output_type": "display_data"
    }
   ],
   "source": [
    "plotter.continousPlot()"
   ]
  },
  {
   "cell_type": "code",
   "execution_count": 452,
   "metadata": {
    "nbpresent": {
     "id": "1ab75c2e-37c3-4c77-89d3-84292dd754ec"
    },
    "scrolled": false
   },
   "outputs": [
    {
     "data": {
      "image/png": "[encoded data removed]",
      "text/plain": [
       "<matplotlib.figure.Figure at 0x7f3fab163588>"
      ]
     },
     "metadata": {},
     "output_type": "display_data"
    }
   ],
   "source": [
    "plotter.catgoricalPlot()"
   ]
  },
  {
   "cell_type": "code",
   "execution_count": 453,
   "metadata": {
    "nbpresent": {
     "id": "5a7aba6d-edb0-44d0-bdf4-007797e6916a"
    }
   },
   "outputs": [],
   "source": [
    "df.drop(['colour'],axis=1,inplace=True)"
   ]
  },
  {
   "cell_type": "markdown",
   "metadata": {},
   "source": [
    "From this section, we could draw a conclusion that ActionTime and BannerSize are more likely to drive the view or click distribution. That make sense because action time contains a lot of inofrmation as the month, day, and what date the action happens. That may reveal some information but still needs to do a feature engineering. Huge banner size may attract people's eyes. However, ads with size too big may also leads to lose of users' interests. Besides, the ratio also affects, based on aesthetic research. Therefore, ActionTime and BannerSize could change the distribution of view or click. On the other hand, InteractionTime and Color seems not influence the distribution too much, especially the color feature. It could not be discriminated by naked eye. Therefore, choose to drop the color column may further help reduce data noise."
   ]
  },
  {
   "cell_type": "markdown",
   "metadata": {
    "nbpresent": {
     "id": "7d746260-354e-45ed-8167-cc5f0807193e"
    }
   },
   "source": [
    "### Feature Enigneering"
   ]
  },
  {
   "cell_type": "markdown",
   "metadata": {
    "nbpresent": {
     "id": "cd537052-b145-4a9d-96f8-0a003ca7c089"
    }
   },
   "source": [
    "##### Feature Creation\n",
    "In this section, I'll mainly focus on the most influential features and create more distiguishable features based ActionTime and BannerSzie.  \n",
    "BannerSize could be processed and create 2 more features, banner area which represents how large the ad is, and banner ratio which represents ratio of banner width to length."
   ]
  },
  {
   "cell_type": "code",
   "execution_count": 454,
   "metadata": {
    "nbpresent": {
     "id": "2542855a-f083-4029-9e0d-95bb235111db"
    }
   },
   "outputs": [],
   "source": [
    "def getArea(size):\n",
    "    if size == 'other':\n",
    "        return np.nan\n",
    "    sizeInInt = [int(num) for num in size.split('x')]\n",
    "    return sizeInInt[0]*sizeInInt[1]"
   ]
  },
  {
   "cell_type": "code",
   "execution_count": 455,
   "metadata": {
    "nbpresent": {
     "id": "8fb3afc9-edcb-43d6-b704-cb6458963df7"
    }
   },
   "outputs": [],
   "source": [
    "df['BannerArea'] = df['BannerSize'].map(getArea)"
   ]
  },
  {
   "cell_type": "code",
   "execution_count": 456,
   "metadata": {
    "nbpresent": {
     "id": "6aa591b0-1ff5-4970-824b-e52ae18b5151"
    }
   },
   "outputs": [],
   "source": [
    "def getRatio(size):\n",
    "    if size == 'other':\n",
    "        return np.nan\n",
    "    sizeInInt = [int(num) for num in size.split('x')]\n",
    "    return sizeInInt[0]/sizeInInt[1]"
   ]
  },
  {
   "cell_type": "code",
   "execution_count": 457,
   "metadata": {
    "nbpresent": {
     "id": "c3d037f7-e91d-4559-9af1-482fc8324a78"
    }
   },
   "outputs": [],
   "source": [
    "df['BannerRatio'] = df['BannerSize'].map(getRatio)"
   ]
  },
  {
   "cell_type": "code",
   "execution_count": 458,
   "metadata": {
    "nbpresent": {
     "id": "f5c476f2-e2cf-4343-bc87-1d8cb1e781d0"
    },
    "scrolled": true
   },
   "outputs": [
    {
     "data": {
      "text/html": [
       "<div>\n",
       "<style scoped>\n",
       "    .dataframe tbody tr th:only-of-type {\n",
       "        vertical-align: middle;\n",
       "    }\n",
       "\n",
       "    .dataframe tbody tr th {\n",
       "        vertical-align: top;\n",
       "    }\n",
       "\n",
       "    .dataframe thead th {\n",
       "        text-align: right;\n",
       "    }\n",
       "</style>\n",
       "<table border=\"1\" class=\"dataframe\">\n",
       "  <thead>\n",
       "    <tr style=\"text-align: right;\">\n",
       "      <th></th>\n",
       "      <th>Data Type</th>\n",
       "      <th>Null Percentage</th>\n",
       "      <th>Variable Range or Value Count</th>\n",
       "    </tr>\n",
       "  </thead>\n",
       "  <tbody>\n",
       "    <tr>\n",
       "      <th>Action</th>\n",
       "      <td>object</td>\n",
       "      <td>0.0%</td>\n",
       "      <td>2</td>\n",
       "    </tr>\n",
       "    <tr>\n",
       "      <th>ActionTime</th>\n",
       "      <td>int64</td>\n",
       "      <td>0.0%</td>\n",
       "      <td>1.501e+15 -- 1.5174e+15</td>\n",
       "    </tr>\n",
       "    <tr>\n",
       "      <th>BannerArea</th>\n",
       "      <td>float64</td>\n",
       "      <td>16.2246%</td>\n",
       "      <td>14</td>\n",
       "    </tr>\n",
       "    <tr>\n",
       "      <th>BannerRatio</th>\n",
       "      <td>float64</td>\n",
       "      <td>16.2246%</td>\n",
       "      <td>12</td>\n",
       "    </tr>\n",
       "    <tr>\n",
       "      <th>BannerSize</th>\n",
       "      <td>object</td>\n",
       "      <td>0.0%</td>\n",
       "      <td>14</td>\n",
       "    </tr>\n",
       "    <tr>\n",
       "      <th>Brand</th>\n",
       "      <td>object</td>\n",
       "      <td>0.0%</td>\n",
       "      <td>10</td>\n",
       "    </tr>\n",
       "    <tr>\n",
       "      <th>InteractionTime</th>\n",
       "      <td>float64</td>\n",
       "      <td>0.0%</td>\n",
       "      <td>2.0979e-06 -- 13.385</td>\n",
       "    </tr>\n",
       "    <tr>\n",
       "      <th>Website</th>\n",
       "      <td>object</td>\n",
       "      <td>0.0%</td>\n",
       "      <td>16</td>\n",
       "    </tr>\n",
       "  </tbody>\n",
       "</table>\n",
       "</div>"
      ],
      "text/plain": [
       "                Data Type Null Percentage Variable Range or Value Count\n",
       "Action             object            0.0%                             2\n",
       "ActionTime          int64            0.0%       1.501e+15 -- 1.5174e+15\n",
       "BannerArea        float64        16.2246%                            14\n",
       "BannerRatio       float64        16.2246%                            12\n",
       "BannerSize         object            0.0%                            14\n",
       "Brand              object            0.0%                            10\n",
       "InteractionTime   float64            0.0%          2.0979e-06 -- 13.385\n",
       "Website            object            0.0%                            16"
      ]
     },
     "execution_count": 458,
     "metadata": {},
     "output_type": "execute_result"
    }
   ],
   "source": [
    "#check or nan\n",
    "generalAnalyzer.generate_report()"
   ]
  },
  {
   "cell_type": "markdown",
   "metadata": {},
   "source": [
    "Since there are \"other\" values in BannerSize, I treated them as missing data and filling by mean method"
   ]
  },
  {
   "cell_type": "code",
   "execution_count": 459,
   "metadata": {
    "nbpresent": {
     "id": "005730e4-9998-44a6-9b2a-092791b8b30b"
    }
   },
   "outputs": [],
   "source": [
    "nan_filler.fillByLabel('BannerArea')\n",
    "nan_filler.fillByLabel('BannerRatio')"
   ]
  },
  {
   "cell_type": "code",
   "execution_count": 460,
   "metadata": {
    "nbpresent": {
     "id": "b128f9fa-c843-4c2a-a0da-a19f25c1fa9d"
    }
   },
   "outputs": [
    {
     "data": {
      "text/plain": [
       "ActionTime         0.0%\n",
       "Action             0.0%\n",
       "Website            0.0%\n",
       "BannerSize         0.0%\n",
       "Brand              0.0%\n",
       "InteractionTime    0.0%\n",
       "BannerArea         0.0%\n",
       "BannerRatio        0.0%\n",
       "dtype: object"
      ]
     },
     "execution_count": 460,
     "metadata": {},
     "output_type": "execute_result"
    }
   ],
   "source": [
    "#double check\n",
    "generalAnalyzer.null_check()"
   ]
  },
  {
   "cell_type": "code",
   "execution_count": 461,
   "metadata": {
    "nbpresent": {
     "id": "8f4ff7c4-cc9e-46c5-92fd-cad7a852b816"
    }
   },
   "outputs": [
    {
     "data": {
      "text/html": [
       "<div>\n",
       "<style scoped>\n",
       "    .dataframe tbody tr th:only-of-type {\n",
       "        vertical-align: middle;\n",
       "    }\n",
       "\n",
       "    .dataframe tbody tr th {\n",
       "        vertical-align: top;\n",
       "    }\n",
       "\n",
       "    .dataframe thead th {\n",
       "        text-align: right;\n",
       "    }\n",
       "</style>\n",
       "<table border=\"1\" class=\"dataframe\">\n",
       "  <thead>\n",
       "    <tr style=\"text-align: right;\">\n",
       "      <th></th>\n",
       "      <th>ActionTime</th>\n",
       "      <th>Action</th>\n",
       "      <th>Website</th>\n",
       "      <th>BannerSize</th>\n",
       "      <th>Brand</th>\n",
       "      <th>InteractionTime</th>\n",
       "      <th>BannerArea</th>\n",
       "      <th>BannerRatio</th>\n",
       "    </tr>\n",
       "  </thead>\n",
       "  <tbody>\n",
       "    <tr>\n",
       "      <th>1</th>\n",
       "      <td>1508761859495365</td>\n",
       "      <td>View</td>\n",
       "      <td>Facebook</td>\n",
       "      <td>300x600</td>\n",
       "      <td>Carter's</td>\n",
       "      <td>0.171601</td>\n",
       "      <td>180000.0</td>\n",
       "      <td>0.500000</td>\n",
       "    </tr>\n",
       "    <tr>\n",
       "      <th>2</th>\n",
       "      <td>1502847469736117</td>\n",
       "      <td>View</td>\n",
       "      <td>Facebook</td>\n",
       "      <td>300x250</td>\n",
       "      <td>Burberry</td>\n",
       "      <td>4.303945</td>\n",
       "      <td>75000.0</td>\n",
       "      <td>1.200000</td>\n",
       "    </tr>\n",
       "    <tr>\n",
       "      <th>3</th>\n",
       "      <td>1514169431528120</td>\n",
       "      <td>View</td>\n",
       "      <td>Facebook</td>\n",
       "      <td>728x90</td>\n",
       "      <td>Disney</td>\n",
       "      <td>0.868106</td>\n",
       "      <td>65520.0</td>\n",
       "      <td>8.088889</td>\n",
       "    </tr>\n",
       "    <tr>\n",
       "      <th>4</th>\n",
       "      <td>1515527952591896</td>\n",
       "      <td>View</td>\n",
       "      <td>Facebook</td>\n",
       "      <td>320x50</td>\n",
       "      <td>Carter's</td>\n",
       "      <td>0.802647</td>\n",
       "      <td>16000.0</td>\n",
       "      <td>6.400000</td>\n",
       "    </tr>\n",
       "    <tr>\n",
       "      <th>5</th>\n",
       "      <td>1507514809374045</td>\n",
       "      <td>View</td>\n",
       "      <td>instagram.com</td>\n",
       "      <td>300x250</td>\n",
       "      <td>Gap</td>\n",
       "      <td>0.627148</td>\n",
       "      <td>75000.0</td>\n",
       "      <td>1.200000</td>\n",
       "    </tr>\n",
       "  </tbody>\n",
       "</table>\n",
       "</div>"
      ],
      "text/plain": [
       "         ActionTime Action        Website BannerSize     Brand  \\\n",
       "1  1508761859495365   View       Facebook    300x600  Carter's   \n",
       "2  1502847469736117   View       Facebook    300x250  Burberry   \n",
       "3  1514169431528120   View       Facebook     728x90    Disney   \n",
       "4  1515527952591896   View       Facebook     320x50  Carter's   \n",
       "5  1507514809374045   View  instagram.com    300x250       Gap   \n",
       "\n",
       "   InteractionTime  BannerArea  BannerRatio  \n",
       "1         0.171601    180000.0     0.500000  \n",
       "2         4.303945     75000.0     1.200000  \n",
       "3         0.868106     65520.0     8.088889  \n",
       "4         0.802647     16000.0     6.400000  \n",
       "5         0.627148     75000.0     1.200000  "
      ]
     },
     "execution_count": 461,
     "metadata": {},
     "output_type": "execute_result"
    }
   ],
   "source": [
    "df.head()"
   ]
  },
  {
   "cell_type": "markdown",
   "metadata": {},
   "source": [
    "The second feature we could play with is the ActionTime. First, it is in ms format. Therefore, we need to transform it into year-month-day-time"
   ]
  },
  {
   "cell_type": "code",
   "execution_count": 462,
   "metadata": {
    "nbpresent": {
     "id": "bbc2e487-bc45-4c94-ab32-9ef00f4dd40c"
    }
   },
   "outputs": [],
   "source": [
    "df['RealTime'] = pd.to_datetime(df['ActionTime'], unit='us')\n",
    "df['Year'] = df['RealTime'].dt.year\n",
    "df['Month'] = df['RealTime'].dt.month\n",
    "df['Day'] = df['RealTime'].dt.day\n",
    "df['Hour'] = df['RealTime'].dt.hour"
   ]
  },
  {
   "cell_type": "code",
   "execution_count": 463,
   "metadata": {
    "nbpresent": {
     "id": "7c989a9b-e08a-4a77-b630-99fd671d46e5"
    },
    "scrolled": false
   },
   "outputs": [
    {
     "data": {
      "text/html": [
       "<div>\n",
       "<style scoped>\n",
       "    .dataframe tbody tr th:only-of-type {\n",
       "        vertical-align: middle;\n",
       "    }\n",
       "\n",
       "    .dataframe tbody tr th {\n",
       "        vertical-align: top;\n",
       "    }\n",
       "\n",
       "    .dataframe thead th {\n",
       "        text-align: right;\n",
       "    }\n",
       "</style>\n",
       "<table border=\"1\" class=\"dataframe\">\n",
       "  <thead>\n",
       "    <tr style=\"text-align: right;\">\n",
       "      <th></th>\n",
       "      <th>ActionTime</th>\n",
       "      <th>Action</th>\n",
       "      <th>Website</th>\n",
       "      <th>BannerSize</th>\n",
       "      <th>Brand</th>\n",
       "      <th>InteractionTime</th>\n",
       "      <th>BannerArea</th>\n",
       "      <th>BannerRatio</th>\n",
       "      <th>RealTime</th>\n",
       "      <th>Year</th>\n",
       "      <th>Month</th>\n",
       "      <th>Day</th>\n",
       "      <th>Hour</th>\n",
       "    </tr>\n",
       "  </thead>\n",
       "  <tbody>\n",
       "    <tr>\n",
       "      <th>1</th>\n",
       "      <td>1508761859495365</td>\n",
       "      <td>View</td>\n",
       "      <td>Facebook</td>\n",
       "      <td>300x600</td>\n",
       "      <td>Carter's</td>\n",
       "      <td>0.171601</td>\n",
       "      <td>180000.0</td>\n",
       "      <td>0.500000</td>\n",
       "      <td>2017-10-23 12:30:59.495365</td>\n",
       "      <td>2017</td>\n",
       "      <td>10</td>\n",
       "      <td>23</td>\n",
       "      <td>12</td>\n",
       "    </tr>\n",
       "    <tr>\n",
       "      <th>2</th>\n",
       "      <td>1502847469736117</td>\n",
       "      <td>View</td>\n",
       "      <td>Facebook</td>\n",
       "      <td>300x250</td>\n",
       "      <td>Burberry</td>\n",
       "      <td>4.303945</td>\n",
       "      <td>75000.0</td>\n",
       "      <td>1.200000</td>\n",
       "      <td>2017-08-16 01:37:49.736117</td>\n",
       "      <td>2017</td>\n",
       "      <td>8</td>\n",
       "      <td>16</td>\n",
       "      <td>1</td>\n",
       "    </tr>\n",
       "    <tr>\n",
       "      <th>3</th>\n",
       "      <td>1514169431528120</td>\n",
       "      <td>View</td>\n",
       "      <td>Facebook</td>\n",
       "      <td>728x90</td>\n",
       "      <td>Disney</td>\n",
       "      <td>0.868106</td>\n",
       "      <td>65520.0</td>\n",
       "      <td>8.088889</td>\n",
       "      <td>2017-12-25 02:37:11.528120</td>\n",
       "      <td>2017</td>\n",
       "      <td>12</td>\n",
       "      <td>25</td>\n",
       "      <td>2</td>\n",
       "    </tr>\n",
       "    <tr>\n",
       "      <th>4</th>\n",
       "      <td>1515527952591896</td>\n",
       "      <td>View</td>\n",
       "      <td>Facebook</td>\n",
       "      <td>320x50</td>\n",
       "      <td>Carter's</td>\n",
       "      <td>0.802647</td>\n",
       "      <td>16000.0</td>\n",
       "      <td>6.400000</td>\n",
       "      <td>2018-01-09 19:59:12.591896</td>\n",
       "      <td>2018</td>\n",
       "      <td>1</td>\n",
       "      <td>9</td>\n",
       "      <td>19</td>\n",
       "    </tr>\n",
       "    <tr>\n",
       "      <th>5</th>\n",
       "      <td>1507514809374045</td>\n",
       "      <td>View</td>\n",
       "      <td>instagram.com</td>\n",
       "      <td>300x250</td>\n",
       "      <td>Gap</td>\n",
       "      <td>0.627148</td>\n",
       "      <td>75000.0</td>\n",
       "      <td>1.200000</td>\n",
       "      <td>2017-10-09 02:06:49.374045</td>\n",
       "      <td>2017</td>\n",
       "      <td>10</td>\n",
       "      <td>9</td>\n",
       "      <td>2</td>\n",
       "    </tr>\n",
       "  </tbody>\n",
       "</table>\n",
       "</div>"
      ],
      "text/plain": [
       "         ActionTime Action        Website BannerSize     Brand  \\\n",
       "1  1508761859495365   View       Facebook    300x600  Carter's   \n",
       "2  1502847469736117   View       Facebook    300x250  Burberry   \n",
       "3  1514169431528120   View       Facebook     728x90    Disney   \n",
       "4  1515527952591896   View       Facebook     320x50  Carter's   \n",
       "5  1507514809374045   View  instagram.com    300x250       Gap   \n",
       "\n",
       "   InteractionTime  BannerArea  BannerRatio                   RealTime  Year  \\\n",
       "1         0.171601    180000.0     0.500000 2017-10-23 12:30:59.495365  2017   \n",
       "2         4.303945     75000.0     1.200000 2017-08-16 01:37:49.736117  2017   \n",
       "3         0.868106     65520.0     8.088889 2017-12-25 02:37:11.528120  2017   \n",
       "4         0.802647     16000.0     6.400000 2018-01-09 19:59:12.591896  2018   \n",
       "5         0.627148     75000.0     1.200000 2017-10-09 02:06:49.374045  2017   \n",
       "\n",
       "   Month  Day  Hour  \n",
       "1     10   23    12  \n",
       "2      8   16     1  \n",
       "3     12   25     2  \n",
       "4      1    9    19  \n",
       "5     10    9     2  "
      ]
     },
     "execution_count": 463,
     "metadata": {},
     "output_type": "execute_result"
    }
   ],
   "source": [
    "df.head()"
   ]
  },
  {
   "cell_type": "code",
   "execution_count": 464,
   "metadata": {
    "nbpresent": {
     "id": "20275d6a-f41f-4953-8898-2c73c3c745d6"
    }
   },
   "outputs": [],
   "source": [
    "df.drop(['ActionTime','BannerSize','RealTime'],axis=1,inplace=True)"
   ]
  },
  {
   "cell_type": "code",
   "execution_count": 465,
   "metadata": {
    "nbpresent": {
     "id": "1731c7e8-de6e-4897-84d4-ac3f47d1d34d"
    }
   },
   "outputs": [
    {
     "data": {
      "text/html": [
       "<div>\n",
       "<style scoped>\n",
       "    .dataframe tbody tr th:only-of-type {\n",
       "        vertical-align: middle;\n",
       "    }\n",
       "\n",
       "    .dataframe tbody tr th {\n",
       "        vertical-align: top;\n",
       "    }\n",
       "\n",
       "    .dataframe thead th {\n",
       "        text-align: right;\n",
       "    }\n",
       "</style>\n",
       "<table border=\"1\" class=\"dataframe\">\n",
       "  <thead>\n",
       "    <tr style=\"text-align: right;\">\n",
       "      <th></th>\n",
       "      <th>Action</th>\n",
       "      <th>Website</th>\n",
       "      <th>Brand</th>\n",
       "      <th>InteractionTime</th>\n",
       "      <th>BannerArea</th>\n",
       "      <th>BannerRatio</th>\n",
       "      <th>Year</th>\n",
       "      <th>Month</th>\n",
       "      <th>Day</th>\n",
       "      <th>Hour</th>\n",
       "    </tr>\n",
       "  </thead>\n",
       "  <tbody>\n",
       "    <tr>\n",
       "      <th>1</th>\n",
       "      <td>View</td>\n",
       "      <td>Facebook</td>\n",
       "      <td>Carter's</td>\n",
       "      <td>0.171601</td>\n",
       "      <td>180000.0</td>\n",
       "      <td>0.500000</td>\n",
       "      <td>2017</td>\n",
       "      <td>10</td>\n",
       "      <td>23</td>\n",
       "      <td>12</td>\n",
       "    </tr>\n",
       "    <tr>\n",
       "      <th>2</th>\n",
       "      <td>View</td>\n",
       "      <td>Facebook</td>\n",
       "      <td>Burberry</td>\n",
       "      <td>4.303945</td>\n",
       "      <td>75000.0</td>\n",
       "      <td>1.200000</td>\n",
       "      <td>2017</td>\n",
       "      <td>8</td>\n",
       "      <td>16</td>\n",
       "      <td>1</td>\n",
       "    </tr>\n",
       "    <tr>\n",
       "      <th>3</th>\n",
       "      <td>View</td>\n",
       "      <td>Facebook</td>\n",
       "      <td>Disney</td>\n",
       "      <td>0.868106</td>\n",
       "      <td>65520.0</td>\n",
       "      <td>8.088889</td>\n",
       "      <td>2017</td>\n",
       "      <td>12</td>\n",
       "      <td>25</td>\n",
       "      <td>2</td>\n",
       "    </tr>\n",
       "    <tr>\n",
       "      <th>4</th>\n",
       "      <td>View</td>\n",
       "      <td>Facebook</td>\n",
       "      <td>Carter's</td>\n",
       "      <td>0.802647</td>\n",
       "      <td>16000.0</td>\n",
       "      <td>6.400000</td>\n",
       "      <td>2018</td>\n",
       "      <td>1</td>\n",
       "      <td>9</td>\n",
       "      <td>19</td>\n",
       "    </tr>\n",
       "    <tr>\n",
       "      <th>5</th>\n",
       "      <td>View</td>\n",
       "      <td>instagram.com</td>\n",
       "      <td>Gap</td>\n",
       "      <td>0.627148</td>\n",
       "      <td>75000.0</td>\n",
       "      <td>1.200000</td>\n",
       "      <td>2017</td>\n",
       "      <td>10</td>\n",
       "      <td>9</td>\n",
       "      <td>2</td>\n",
       "    </tr>\n",
       "  </tbody>\n",
       "</table>\n",
       "</div>"
      ],
      "text/plain": [
       "  Action        Website     Brand  InteractionTime  BannerArea  BannerRatio  \\\n",
       "1   View       Facebook  Carter's         0.171601    180000.0     0.500000   \n",
       "2   View       Facebook  Burberry         4.303945     75000.0     1.200000   \n",
       "3   View       Facebook    Disney         0.868106     65520.0     8.088889   \n",
       "4   View       Facebook  Carter's         0.802647     16000.0     6.400000   \n",
       "5   View  instagram.com       Gap         0.627148     75000.0     1.200000   \n",
       "\n",
       "   Year  Month  Day  Hour  \n",
       "1  2017     10   23    12  \n",
       "2  2017      8   16     1  \n",
       "3  2017     12   25     2  \n",
       "4  2018      1    9    19  \n",
       "5  2017     10    9     2  "
      ]
     },
     "execution_count": 465,
     "metadata": {},
     "output_type": "execute_result"
    }
   ],
   "source": [
    "df.head()"
   ]
  },
  {
   "cell_type": "code",
   "execution_count": 467,
   "metadata": {},
   "outputs": [
    {
     "data": {
      "image/png": "[encoded data removed]",
      "text/plain": [
       "<matplotlib.figure.Figure at 0x7f4024c5b9e8>"
      ]
     },
     "metadata": {},
     "output_type": "display_data"
    }
   ],
   "source": [
    "plotter.catgoricalPlot()"
   ]
  },
  {
   "cell_type": "markdown",
   "metadata": {},
   "source": [
    "From the plots above, we may draw 4 conclusions:  \n",
    "- It appears that people have more view-to-click conversion ratio on the banner size of 87740 pixels, that is approximately equivelent to 350*250\n",
    "- It appears that people have more view-to-click conversion ratio on the banner ratio of 0.27 or 3, that indicates people would be more attracted on ads with ratio locates in these two numbers \n",
    "- People are more likely to click on Janurary and December. That make sense because Christmas and New Year's Festival lies in these 2 months\n",
    "- People are more likely to click after noon. Further information would be revealed in the following section"
   ]
  },
  {
   "cell_type": "code",
   "execution_count": 468,
   "metadata": {
    "nbpresent": {
     "id": "1ada6c6c-924a-4200-8daf-1ba454307f25"
    }
   },
   "outputs": [],
   "source": [
    "#bucket hour information into 4 sections\n",
    "def mapHour():\n",
    "    hourMap = {'Late Night':(0,7),'Morning':(7,12),'Afternoon':(12,18),'Night':(18,24)}\n",
    "    hourMapFlipped = dict()\n",
    "    for dayRange,hourRange in hourMap.items():\n",
    "        for hour in range(*hourRange):\n",
    "            hourMapFlipped[hour] = dayRange\n",
    "    return hourMapFlipped\n",
    "\n",
    "hourMap = mapHour()\n",
    "\n",
    "df['DayRange'] = df['Hour'].map(lambda x: hourMap[x])\n",
    "\n",
    "df.drop(['Hour'],axis=1,inplace=True)"
   ]
  },
  {
   "cell_type": "code",
   "execution_count": 469,
   "metadata": {
    "nbpresent": {
     "id": "f63eb5e7-2edb-4d69-bb02-d1f29e698b82"
    }
   },
   "outputs": [
    {
     "data": {
      "text/html": [
       "<div>\n",
       "<style scoped>\n",
       "    .dataframe tbody tr th:only-of-type {\n",
       "        vertical-align: middle;\n",
       "    }\n",
       "\n",
       "    .dataframe tbody tr th {\n",
       "        vertical-align: top;\n",
       "    }\n",
       "\n",
       "    .dataframe thead th {\n",
       "        text-align: right;\n",
       "    }\n",
       "</style>\n",
       "<table border=\"1\" class=\"dataframe\">\n",
       "  <thead>\n",
       "    <tr style=\"text-align: right;\">\n",
       "      <th></th>\n",
       "      <th>Action</th>\n",
       "      <th>Website</th>\n",
       "      <th>Brand</th>\n",
       "      <th>InteractionTime</th>\n",
       "      <th>BannerArea</th>\n",
       "      <th>BannerRatio</th>\n",
       "      <th>Year</th>\n",
       "      <th>Month</th>\n",
       "      <th>Day</th>\n",
       "      <th>DayRange</th>\n",
       "    </tr>\n",
       "  </thead>\n",
       "  <tbody>\n",
       "    <tr>\n",
       "      <th>1</th>\n",
       "      <td>View</td>\n",
       "      <td>Facebook</td>\n",
       "      <td>Carter's</td>\n",
       "      <td>0.171601</td>\n",
       "      <td>180000.0</td>\n",
       "      <td>0.500000</td>\n",
       "      <td>2017</td>\n",
       "      <td>10</td>\n",
       "      <td>23</td>\n",
       "      <td>Afternoon</td>\n",
       "    </tr>\n",
       "    <tr>\n",
       "      <th>2</th>\n",
       "      <td>View</td>\n",
       "      <td>Facebook</td>\n",
       "      <td>Burberry</td>\n",
       "      <td>4.303945</td>\n",
       "      <td>75000.0</td>\n",
       "      <td>1.200000</td>\n",
       "      <td>2017</td>\n",
       "      <td>8</td>\n",
       "      <td>16</td>\n",
       "      <td>Late Night</td>\n",
       "    </tr>\n",
       "    <tr>\n",
       "      <th>3</th>\n",
       "      <td>View</td>\n",
       "      <td>Facebook</td>\n",
       "      <td>Disney</td>\n",
       "      <td>0.868106</td>\n",
       "      <td>65520.0</td>\n",
       "      <td>8.088889</td>\n",
       "      <td>2017</td>\n",
       "      <td>12</td>\n",
       "      <td>25</td>\n",
       "      <td>Late Night</td>\n",
       "    </tr>\n",
       "    <tr>\n",
       "      <th>4</th>\n",
       "      <td>View</td>\n",
       "      <td>Facebook</td>\n",
       "      <td>Carter's</td>\n",
       "      <td>0.802647</td>\n",
       "      <td>16000.0</td>\n",
       "      <td>6.400000</td>\n",
       "      <td>2018</td>\n",
       "      <td>1</td>\n",
       "      <td>9</td>\n",
       "      <td>Night</td>\n",
       "    </tr>\n",
       "    <tr>\n",
       "      <th>5</th>\n",
       "      <td>View</td>\n",
       "      <td>instagram.com</td>\n",
       "      <td>Gap</td>\n",
       "      <td>0.627148</td>\n",
       "      <td>75000.0</td>\n",
       "      <td>1.200000</td>\n",
       "      <td>2017</td>\n",
       "      <td>10</td>\n",
       "      <td>9</td>\n",
       "      <td>Late Night</td>\n",
       "    </tr>\n",
       "  </tbody>\n",
       "</table>\n",
       "</div>"
      ],
      "text/plain": [
       "  Action        Website     Brand  InteractionTime  BannerArea  BannerRatio  \\\n",
       "1   View       Facebook  Carter's         0.171601    180000.0     0.500000   \n",
       "2   View       Facebook  Burberry         4.303945     75000.0     1.200000   \n",
       "3   View       Facebook    Disney         0.868106     65520.0     8.088889   \n",
       "4   View       Facebook  Carter's         0.802647     16000.0     6.400000   \n",
       "5   View  instagram.com       Gap         0.627148     75000.0     1.200000   \n",
       "\n",
       "   Year  Month  Day    DayRange  \n",
       "1  2017     10   23   Afternoon  \n",
       "2  2017      8   16  Late Night  \n",
       "3  2017     12   25  Late Night  \n",
       "4  2018      1    9       Night  \n",
       "5  2017     10    9  Late Night  "
      ]
     },
     "execution_count": 469,
     "metadata": {},
     "output_type": "execute_result"
    }
   ],
   "source": [
    "df.head()"
   ]
  },
  {
   "cell_type": "code",
   "execution_count": 470,
   "metadata": {
    "nbpresent": {
     "id": "b17f894d-aef9-4f03-bdc1-2d15714f4550"
    }
   },
   "outputs": [
    {
     "data": {
      "image/png": "[encoded data removed]",
      "text/plain": [
       "<matplotlib.figure.Figure at 0x7f3fae5c6240>"
      ]
     },
     "metadata": {},
     "output_type": "display_data"
    }
   ],
   "source": [
    "plotter.catgoricalPlot()"
   ]
  },
  {
   "cell_type": "markdown",
   "metadata": {},
   "source": [
    "Finally, we could draw the conclusion from the new generated feature DayRange that people are more likely to convert from viewer to clicker in the afternoon or night (evening). That could be explained that people would relax after morning or whole day's work and relief from busy work. At this time, they seems to have more time and interests on online shopping"
   ]
  },
  {
   "cell_type": "markdown",
   "metadata": {
    "nbpresent": {
     "id": "0cd59e65-5115-4d76-840f-eaddbe192a45"
    }
   },
   "source": [
    "##### Encoding"
   ]
  },
  {
   "cell_type": "markdown",
   "metadata": {},
   "source": [
    "I choose one-hot-encoding for every column except InteractionTime because there is no nature ordering in those 'Website','Brand','DayRange' categories. And as for 'BannerArea','BannerRatio','Year','Month','Day', I choose one-hot-encoding because the unique values in those categories are not too much. That would just slightly increase sparcity of encoded matrix but help a lot in reducing the non-linearity"
   ]
  },
  {
   "cell_type": "code",
   "execution_count": 471,
   "metadata": {
    "nbpresent": {
     "id": "1d061efe-01d9-42b0-aada-c7773d934a16"
    }
   },
   "outputs": [],
   "source": [
    "colToDummy = ['Website','Brand','DayRange','BannerArea','BannerRatio','Year','Month','Day']\n",
    "\n",
    "dummies = list()\n",
    "\n",
    "def getAllDummies(df):\n",
    "    for col in colToDummy:\n",
    "        dummies.append(pd.get_dummies(df[col],prefix=col))\n",
    "        \n",
    "getAllDummies(df)"
   ]
  },
  {
   "cell_type": "code",
   "execution_count": 472,
   "metadata": {
    "nbpresent": {
     "id": "344ea901-8c32-4f6e-a8cd-9cf12fd4d762"
    }
   },
   "outputs": [],
   "source": [
    "encodedDf = pd.concat([df.drop(colToDummy,axis=1),*dummies],axis=1)"
   ]
  },
  {
   "cell_type": "code",
   "execution_count": 473,
   "metadata": {
    "nbpresent": {
     "id": "9b640c54-9b96-467f-8b06-bca1c6a63fd0"
    },
    "scrolled": true
   },
   "outputs": [
    {
     "data": {
      "text/html": [
       "<div>\n",
       "<style scoped>\n",
       "    .dataframe tbody tr th:only-of-type {\n",
       "        vertical-align: middle;\n",
       "    }\n",
       "\n",
       "    .dataframe tbody tr th {\n",
       "        vertical-align: top;\n",
       "    }\n",
       "\n",
       "    .dataframe thead th {\n",
       "        text-align: right;\n",
       "    }\n",
       "</style>\n",
       "<table border=\"1\" class=\"dataframe\">\n",
       "  <thead>\n",
       "    <tr style=\"text-align: right;\">\n",
       "      <th></th>\n",
       "      <th>Action</th>\n",
       "      <th>InteractionTime</th>\n",
       "      <th>Website_AOL</th>\n",
       "      <th>Website_Amazon</th>\n",
       "      <th>Website_Atedra</th>\n",
       "      <th>Website_Craigslist.ca</th>\n",
       "      <th>Website_Expedia</th>\n",
       "      <th>Website_Facebook</th>\n",
       "      <th>Website_Kijiji</th>\n",
       "      <th>Website_Other</th>\n",
       "      <th>...</th>\n",
       "      <th>Day_22</th>\n",
       "      <th>Day_23</th>\n",
       "      <th>Day_24</th>\n",
       "      <th>Day_25</th>\n",
       "      <th>Day_26</th>\n",
       "      <th>Day_27</th>\n",
       "      <th>Day_28</th>\n",
       "      <th>Day_29</th>\n",
       "      <th>Day_30</th>\n",
       "      <th>Day_31</th>\n",
       "    </tr>\n",
       "  </thead>\n",
       "  <tbody>\n",
       "    <tr>\n",
       "      <th>1</th>\n",
       "      <td>View</td>\n",
       "      <td>0.171601</td>\n",
       "      <td>0</td>\n",
       "      <td>0</td>\n",
       "      <td>0</td>\n",
       "      <td>0</td>\n",
       "      <td>0</td>\n",
       "      <td>1</td>\n",
       "      <td>0</td>\n",
       "      <td>0</td>\n",
       "      <td>...</td>\n",
       "      <td>0</td>\n",
       "      <td>1</td>\n",
       "      <td>0</td>\n",
       "      <td>0</td>\n",
       "      <td>0</td>\n",
       "      <td>0</td>\n",
       "      <td>0</td>\n",
       "      <td>0</td>\n",
       "      <td>0</td>\n",
       "      <td>0</td>\n",
       "    </tr>\n",
       "    <tr>\n",
       "      <th>2</th>\n",
       "      <td>View</td>\n",
       "      <td>4.303945</td>\n",
       "      <td>0</td>\n",
       "      <td>0</td>\n",
       "      <td>0</td>\n",
       "      <td>0</td>\n",
       "      <td>0</td>\n",
       "      <td>1</td>\n",
       "      <td>0</td>\n",
       "      <td>0</td>\n",
       "      <td>...</td>\n",
       "      <td>0</td>\n",
       "      <td>0</td>\n",
       "      <td>0</td>\n",
       "      <td>0</td>\n",
       "      <td>0</td>\n",
       "      <td>0</td>\n",
       "      <td>0</td>\n",
       "      <td>0</td>\n",
       "      <td>0</td>\n",
       "      <td>0</td>\n",
       "    </tr>\n",
       "    <tr>\n",
       "      <th>3</th>\n",
       "      <td>View</td>\n",
       "      <td>0.868106</td>\n",
       "      <td>0</td>\n",
       "      <td>0</td>\n",
       "      <td>0</td>\n",
       "      <td>0</td>\n",
       "      <td>0</td>\n",
       "      <td>1</td>\n",
       "      <td>0</td>\n",
       "      <td>0</td>\n",
       "      <td>...</td>\n",
       "      <td>0</td>\n",
       "      <td>0</td>\n",
       "      <td>0</td>\n",
       "      <td>1</td>\n",
       "      <td>0</td>\n",
       "      <td>0</td>\n",
       "      <td>0</td>\n",
       "      <td>0</td>\n",
       "      <td>0</td>\n",
       "      <td>0</td>\n",
       "    </tr>\n",
       "    <tr>\n",
       "      <th>4</th>\n",
       "      <td>View</td>\n",
       "      <td>0.802647</td>\n",
       "      <td>0</td>\n",
       "      <td>0</td>\n",
       "      <td>0</td>\n",
       "      <td>0</td>\n",
       "      <td>0</td>\n",
       "      <td>1</td>\n",
       "      <td>0</td>\n",
       "      <td>0</td>\n",
       "      <td>...</td>\n",
       "      <td>0</td>\n",
       "      <td>0</td>\n",
       "      <td>0</td>\n",
       "      <td>0</td>\n",
       "      <td>0</td>\n",
       "      <td>0</td>\n",
       "      <td>0</td>\n",
       "      <td>0</td>\n",
       "      <td>0</td>\n",
       "      <td>0</td>\n",
       "    </tr>\n",
       "    <tr>\n",
       "      <th>5</th>\n",
       "      <td>View</td>\n",
       "      <td>0.627148</td>\n",
       "      <td>0</td>\n",
       "      <td>0</td>\n",
       "      <td>0</td>\n",
       "      <td>0</td>\n",
       "      <td>0</td>\n",
       "      <td>0</td>\n",
       "      <td>0</td>\n",
       "      <td>0</td>\n",
       "      <td>...</td>\n",
       "      <td>0</td>\n",
       "      <td>0</td>\n",
       "      <td>0</td>\n",
       "      <td>0</td>\n",
       "      <td>0</td>\n",
       "      <td>0</td>\n",
       "      <td>0</td>\n",
       "      <td>0</td>\n",
       "      <td>0</td>\n",
       "      <td>0</td>\n",
       "    </tr>\n",
       "  </tbody>\n",
       "</table>\n",
       "<p>5 rows × 100 columns</p>\n",
       "</div>"
      ],
      "text/plain": [
       "  Action  InteractionTime  Website_AOL  Website_Amazon  Website_Atedra  \\\n",
       "1   View         0.171601            0               0               0   \n",
       "2   View         4.303945            0               0               0   \n",
       "3   View         0.868106            0               0               0   \n",
       "4   View         0.802647            0               0               0   \n",
       "5   View         0.627148            0               0               0   \n",
       "\n",
       "   Website_Craigslist.ca  Website_Expedia  Website_Facebook  Website_Kijiji  \\\n",
       "1                      0                0                 1               0   \n",
       "2                      0                0                 1               0   \n",
       "3                      0                0                 1               0   \n",
       "4                      0                0                 1               0   \n",
       "5                      0                0                 0               0   \n",
       "\n",
       "   Website_Other   ...    Day_22  Day_23  Day_24  Day_25  Day_26  Day_27  \\\n",
       "1              0   ...         0       1       0       0       0       0   \n",
       "2              0   ...         0       0       0       0       0       0   \n",
       "3              0   ...         0       0       0       1       0       0   \n",
       "4              0   ...         0       0       0       0       0       0   \n",
       "5              0   ...         0       0       0       0       0       0   \n",
       "\n",
       "   Day_28  Day_29  Day_30  Day_31  \n",
       "1       0       0       0       0  \n",
       "2       0       0       0       0  \n",
       "3       0       0       0       0  \n",
       "4       0       0       0       0  \n",
       "5       0       0       0       0  \n",
       "\n",
       "[5 rows x 100 columns]"
      ]
     },
     "execution_count": 473,
     "metadata": {},
     "output_type": "execute_result"
    }
   ],
   "source": [
    "encodedDf.head()"
   ]
  },
  {
   "cell_type": "markdown",
   "metadata": {},
   "source": [
    "Binary encode Action (label) with 0 and 1"
   ]
  },
  {
   "cell_type": "code",
   "execution_count": 474,
   "metadata": {
    "nbpresent": {
     "id": "9bb06da9-5c12-4c78-a038-96f79338bdc0"
    }
   },
   "outputs": [],
   "source": [
    "encodedDf['Action'] = encodedDf['Action'].map(lambda x: 1 if x=='Click' else 0)"
   ]
  },
  {
   "cell_type": "code",
   "execution_count": 475,
   "metadata": {
    "nbpresent": {
     "id": "4b9f841e-87c8-4003-8108-18016612ac06"
    }
   },
   "outputs": [
    {
     "data": {
      "text/html": [
       "<div>\n",
       "<style scoped>\n",
       "    .dataframe tbody tr th:only-of-type {\n",
       "        vertical-align: middle;\n",
       "    }\n",
       "\n",
       "    .dataframe tbody tr th {\n",
       "        vertical-align: top;\n",
       "    }\n",
       "\n",
       "    .dataframe thead th {\n",
       "        text-align: right;\n",
       "    }\n",
       "</style>\n",
       "<table border=\"1\" class=\"dataframe\">\n",
       "  <thead>\n",
       "    <tr style=\"text-align: right;\">\n",
       "      <th></th>\n",
       "      <th>Action</th>\n",
       "      <th>InteractionTime</th>\n",
       "      <th>Website_AOL</th>\n",
       "      <th>Website_Amazon</th>\n",
       "      <th>Website_Atedra</th>\n",
       "      <th>Website_Craigslist.ca</th>\n",
       "      <th>Website_Expedia</th>\n",
       "      <th>Website_Facebook</th>\n",
       "      <th>Website_Kijiji</th>\n",
       "      <th>Website_Other</th>\n",
       "      <th>...</th>\n",
       "      <th>Day_22</th>\n",
       "      <th>Day_23</th>\n",
       "      <th>Day_24</th>\n",
       "      <th>Day_25</th>\n",
       "      <th>Day_26</th>\n",
       "      <th>Day_27</th>\n",
       "      <th>Day_28</th>\n",
       "      <th>Day_29</th>\n",
       "      <th>Day_30</th>\n",
       "      <th>Day_31</th>\n",
       "    </tr>\n",
       "  </thead>\n",
       "  <tbody>\n",
       "    <tr>\n",
       "      <th>1</th>\n",
       "      <td>0</td>\n",
       "      <td>0.171601</td>\n",
       "      <td>0</td>\n",
       "      <td>0</td>\n",
       "      <td>0</td>\n",
       "      <td>0</td>\n",
       "      <td>0</td>\n",
       "      <td>1</td>\n",
       "      <td>0</td>\n",
       "      <td>0</td>\n",
       "      <td>...</td>\n",
       "      <td>0</td>\n",
       "      <td>1</td>\n",
       "      <td>0</td>\n",
       "      <td>0</td>\n",
       "      <td>0</td>\n",
       "      <td>0</td>\n",
       "      <td>0</td>\n",
       "      <td>0</td>\n",
       "      <td>0</td>\n",
       "      <td>0</td>\n",
       "    </tr>\n",
       "    <tr>\n",
       "      <th>2</th>\n",
       "      <td>0</td>\n",
       "      <td>4.303945</td>\n",
       "      <td>0</td>\n",
       "      <td>0</td>\n",
       "      <td>0</td>\n",
       "      <td>0</td>\n",
       "      <td>0</td>\n",
       "      <td>1</td>\n",
       "      <td>0</td>\n",
       "      <td>0</td>\n",
       "      <td>...</td>\n",
       "      <td>0</td>\n",
       "      <td>0</td>\n",
       "      <td>0</td>\n",
       "      <td>0</td>\n",
       "      <td>0</td>\n",
       "      <td>0</td>\n",
       "      <td>0</td>\n",
       "      <td>0</td>\n",
       "      <td>0</td>\n",
       "      <td>0</td>\n",
       "    </tr>\n",
       "    <tr>\n",
       "      <th>3</th>\n",
       "      <td>0</td>\n",
       "      <td>0.868106</td>\n",
       "      <td>0</td>\n",
       "      <td>0</td>\n",
       "      <td>0</td>\n",
       "      <td>0</td>\n",
       "      <td>0</td>\n",
       "      <td>1</td>\n",
       "      <td>0</td>\n",
       "      <td>0</td>\n",
       "      <td>...</td>\n",
       "      <td>0</td>\n",
       "      <td>0</td>\n",
       "      <td>0</td>\n",
       "      <td>1</td>\n",
       "      <td>0</td>\n",
       "      <td>0</td>\n",
       "      <td>0</td>\n",
       "      <td>0</td>\n",
       "      <td>0</td>\n",
       "      <td>0</td>\n",
       "    </tr>\n",
       "    <tr>\n",
       "      <th>4</th>\n",
       "      <td>0</td>\n",
       "      <td>0.802647</td>\n",
       "      <td>0</td>\n",
       "      <td>0</td>\n",
       "      <td>0</td>\n",
       "      <td>0</td>\n",
       "      <td>0</td>\n",
       "      <td>1</td>\n",
       "      <td>0</td>\n",
       "      <td>0</td>\n",
       "      <td>...</td>\n",
       "      <td>0</td>\n",
       "      <td>0</td>\n",
       "      <td>0</td>\n",
       "      <td>0</td>\n",
       "      <td>0</td>\n",
       "      <td>0</td>\n",
       "      <td>0</td>\n",
       "      <td>0</td>\n",
       "      <td>0</td>\n",
       "      <td>0</td>\n",
       "    </tr>\n",
       "    <tr>\n",
       "      <th>5</th>\n",
       "      <td>0</td>\n",
       "      <td>0.627148</td>\n",
       "      <td>0</td>\n",
       "      <td>0</td>\n",
       "      <td>0</td>\n",
       "      <td>0</td>\n",
       "      <td>0</td>\n",
       "      <td>0</td>\n",
       "      <td>0</td>\n",
       "      <td>0</td>\n",
       "      <td>...</td>\n",
       "      <td>0</td>\n",
       "      <td>0</td>\n",
       "      <td>0</td>\n",
       "      <td>0</td>\n",
       "      <td>0</td>\n",
       "      <td>0</td>\n",
       "      <td>0</td>\n",
       "      <td>0</td>\n",
       "      <td>0</td>\n",
       "      <td>0</td>\n",
       "    </tr>\n",
       "  </tbody>\n",
       "</table>\n",
       "<p>5 rows × 100 columns</p>\n",
       "</div>"
      ],
      "text/plain": [
       "   Action  InteractionTime  Website_AOL  Website_Amazon  Website_Atedra  \\\n",
       "1       0         0.171601            0               0               0   \n",
       "2       0         4.303945            0               0               0   \n",
       "3       0         0.868106            0               0               0   \n",
       "4       0         0.802647            0               0               0   \n",
       "5       0         0.627148            0               0               0   \n",
       "\n",
       "   Website_Craigslist.ca  Website_Expedia  Website_Facebook  Website_Kijiji  \\\n",
       "1                      0                0                 1               0   \n",
       "2                      0                0                 1               0   \n",
       "3                      0                0                 1               0   \n",
       "4                      0                0                 1               0   \n",
       "5                      0                0                 0               0   \n",
       "\n",
       "   Website_Other   ...    Day_22  Day_23  Day_24  Day_25  Day_26  Day_27  \\\n",
       "1              0   ...         0       1       0       0       0       0   \n",
       "2              0   ...         0       0       0       0       0       0   \n",
       "3              0   ...         0       0       0       1       0       0   \n",
       "4              0   ...         0       0       0       0       0       0   \n",
       "5              0   ...         0       0       0       0       0       0   \n",
       "\n",
       "   Day_28  Day_29  Day_30  Day_31  \n",
       "1       0       0       0       0  \n",
       "2       0       0       0       0  \n",
       "3       0       0       0       0  \n",
       "4       0       0       0       0  \n",
       "5       0       0       0       0  \n",
       "\n",
       "[5 rows x 100 columns]"
      ]
     },
     "execution_count": 475,
     "metadata": {},
     "output_type": "execute_result"
    }
   ],
   "source": [
    "encodedDf.head()"
   ]
  },
  {
   "cell_type": "code",
   "execution_count": 476,
   "metadata": {
    "nbpresent": {
     "id": "f5e7e906-5bfb-4466-8313-30a0239745b9"
    }
   },
   "outputs": [],
   "source": [
    "labels = encodedDf['Action']"
   ]
  },
  {
   "cell_type": "code",
   "execution_count": 477,
   "metadata": {
    "nbpresent": {
     "id": "59046772-e998-4b59-87f5-4c5d8c1ae462"
    }
   },
   "outputs": [],
   "source": [
    "features = encodedDf.drop(['Action'],axis=1)"
   ]
  },
  {
   "cell_type": "code",
   "execution_count": 478,
   "metadata": {
    "nbpresent": {
     "id": "c3ceccc9-2c50-4b69-9621-bac6ef36948f"
    }
   },
   "outputs": [
    {
     "data": {
      "text/plain": [
       "(1000000, 99)"
      ]
     },
     "execution_count": 478,
     "metadata": {},
     "output_type": "execute_result"
    }
   ],
   "source": [
    "features.shape"
   ]
  },
  {
   "cell_type": "code",
   "execution_count": 479,
   "metadata": {
    "nbpresent": {
     "id": "596ade54-1c49-4f1b-9ab4-2229d0f9a805"
    }
   },
   "outputs": [
    {
     "data": {
      "text/plain": [
       "(1000000,)"
      ]
     },
     "execution_count": 479,
     "metadata": {},
     "output_type": "execute_result"
    }
   ],
   "source": [
    "labels.shape"
   ]
  },
  {
   "cell_type": "markdown",
   "metadata": {
    "nbpresent": {
     "id": "48512b5d-b52c-4e6f-811b-493df8c4adee"
    }
   },
   "source": [
    "##### Feature Selection"
   ]
  },
  {
   "cell_type": "markdown",
   "metadata": {},
   "source": [
    "The first step of feature selection is drop out the features with extremely low variance. Since our data is highly imbalanced, therefore, we should set the threshold high incase of neglection "
   ]
  },
  {
   "cell_type": "code",
   "execution_count": 480,
   "metadata": {
    "nbpresent": {
     "id": "e51fabc6-9214-4608-a70b-13ae2f29f7e0"
    }
   },
   "outputs": [
    {
     "data": {
      "text/plain": [
       "True"
      ]
     },
     "execution_count": 480,
     "metadata": {},
     "output_type": "execute_result"
    }
   ],
   "source": [
    "threshold = .999 * (1 - .999)\n",
    "\n",
    "#check the only continous variable after unit scaling\n",
    "scaler = MinMaxScaler()\n",
    "\n",
    "temp = scaler.fit_transform(features['InteractionTime'].values.reshape(-1,1))\n",
    "\n",
    "temp.var() > (threshold)"
   ]
  },
  {
   "cell_type": "code",
   "execution_count": 481,
   "metadata": {
    "nbpresent": {
     "id": "c61d5c3b-1201-49e3-b50d-98f759c57cd6"
    }
   },
   "outputs": [
    {
     "data": {
      "text/plain": [
       "VarianceThreshold(threshold=0.000999000000000001)"
      ]
     },
     "execution_count": 481,
     "metadata": {},
     "output_type": "execute_result"
    }
   ],
   "source": [
    "sel = VarianceThreshold(threshold=(threshold))\n",
    "\n",
    "sel.fit(features)"
   ]
  },
  {
   "cell_type": "code",
   "execution_count": 482,
   "metadata": {
    "nbpresent": {
     "id": "9249aae3-04af-426f-a44c-ac5148a7db23"
    }
   },
   "outputs": [
    {
     "data": {
      "text/plain": [
       "{'BannerArea_3145728.0': 0.00031889823899999993,\n",
       " 'BannerArea_87740.49765258215': 3.0999039000000026e-05,\n",
       " 'BannerArea_93750.0': 0.0005716728159999997,\n",
       " 'BannerRatio_2.9658969232727554': 3.0999039000000026e-05,\n",
       " 'Website_AOL': 0.0005596864000000002}"
      ]
     },
     "execution_count": 482,
     "metadata": {},
     "output_type": "execute_result"
    }
   ],
   "source": [
    "unselected = dict()\n",
    "\n",
    "for i,col in enumerate(features.columns):\n",
    "    if sel.variances_[i] <= threshold and col != 'InteractionTime':\n",
    "        unselected[col] = sel.variances_[i]\n",
    "        \n",
    "unselected"
   ]
  },
  {
   "cell_type": "code",
   "execution_count": 483,
   "metadata": {
    "nbpresent": {
     "id": "dc4a9f8c-8726-403a-a145-d96955304317"
    }
   },
   "outputs": [],
   "source": [
    "features.drop(list(unselected.keys()),axis=1,inplace=True)"
   ]
  },
  {
   "cell_type": "code",
   "execution_count": 484,
   "metadata": {
    "nbpresent": {
     "id": "225f5ec3-19bd-48fb-bc81-5fe099a0558b"
    }
   },
   "outputs": [
    {
     "data": {
      "text/html": [
       "<div>\n",
       "<style scoped>\n",
       "    .dataframe tbody tr th:only-of-type {\n",
       "        vertical-align: middle;\n",
       "    }\n",
       "\n",
       "    .dataframe tbody tr th {\n",
       "        vertical-align: top;\n",
       "    }\n",
       "\n",
       "    .dataframe thead th {\n",
       "        text-align: right;\n",
       "    }\n",
       "</style>\n",
       "<table border=\"1\" class=\"dataframe\">\n",
       "  <thead>\n",
       "    <tr style=\"text-align: right;\">\n",
       "      <th></th>\n",
       "      <th>InteractionTime</th>\n",
       "      <th>Website_Amazon</th>\n",
       "      <th>Website_Atedra</th>\n",
       "      <th>Website_Craigslist.ca</th>\n",
       "      <th>Website_Expedia</th>\n",
       "      <th>Website_Facebook</th>\n",
       "      <th>Website_Kijiji</th>\n",
       "      <th>Website_Other</th>\n",
       "      <th>Website_Sympatico</th>\n",
       "      <th>Website_TubeMogul</th>\n",
       "      <th>...</th>\n",
       "      <th>Day_22</th>\n",
       "      <th>Day_23</th>\n",
       "      <th>Day_24</th>\n",
       "      <th>Day_25</th>\n",
       "      <th>Day_26</th>\n",
       "      <th>Day_27</th>\n",
       "      <th>Day_28</th>\n",
       "      <th>Day_29</th>\n",
       "      <th>Day_30</th>\n",
       "      <th>Day_31</th>\n",
       "    </tr>\n",
       "  </thead>\n",
       "  <tbody>\n",
       "    <tr>\n",
       "      <th>1</th>\n",
       "      <td>0.171601</td>\n",
       "      <td>0</td>\n",
       "      <td>0</td>\n",
       "      <td>0</td>\n",
       "      <td>0</td>\n",
       "      <td>1</td>\n",
       "      <td>0</td>\n",
       "      <td>0</td>\n",
       "      <td>0</td>\n",
       "      <td>0</td>\n",
       "      <td>...</td>\n",
       "      <td>0</td>\n",
       "      <td>1</td>\n",
       "      <td>0</td>\n",
       "      <td>0</td>\n",
       "      <td>0</td>\n",
       "      <td>0</td>\n",
       "      <td>0</td>\n",
       "      <td>0</td>\n",
       "      <td>0</td>\n",
       "      <td>0</td>\n",
       "    </tr>\n",
       "    <tr>\n",
       "      <th>2</th>\n",
       "      <td>4.303945</td>\n",
       "      <td>0</td>\n",
       "      <td>0</td>\n",
       "      <td>0</td>\n",
       "      <td>0</td>\n",
       "      <td>1</td>\n",
       "      <td>0</td>\n",
       "      <td>0</td>\n",
       "      <td>0</td>\n",
       "      <td>0</td>\n",
       "      <td>...</td>\n",
       "      <td>0</td>\n",
       "      <td>0</td>\n",
       "      <td>0</td>\n",
       "      <td>0</td>\n",
       "      <td>0</td>\n",
       "      <td>0</td>\n",
       "      <td>0</td>\n",
       "      <td>0</td>\n",
       "      <td>0</td>\n",
       "      <td>0</td>\n",
       "    </tr>\n",
       "    <tr>\n",
       "      <th>3</th>\n",
       "      <td>0.868106</td>\n",
       "      <td>0</td>\n",
       "      <td>0</td>\n",
       "      <td>0</td>\n",
       "      <td>0</td>\n",
       "      <td>1</td>\n",
       "      <td>0</td>\n",
       "      <td>0</td>\n",
       "      <td>0</td>\n",
       "      <td>0</td>\n",
       "      <td>...</td>\n",
       "      <td>0</td>\n",
       "      <td>0</td>\n",
       "      <td>0</td>\n",
       "      <td>1</td>\n",
       "      <td>0</td>\n",
       "      <td>0</td>\n",
       "      <td>0</td>\n",
       "      <td>0</td>\n",
       "      <td>0</td>\n",
       "      <td>0</td>\n",
       "    </tr>\n",
       "    <tr>\n",
       "      <th>4</th>\n",
       "      <td>0.802647</td>\n",
       "      <td>0</td>\n",
       "      <td>0</td>\n",
       "      <td>0</td>\n",
       "      <td>0</td>\n",
       "      <td>1</td>\n",
       "      <td>0</td>\n",
       "      <td>0</td>\n",
       "      <td>0</td>\n",
       "      <td>0</td>\n",
       "      <td>...</td>\n",
       "      <td>0</td>\n",
       "      <td>0</td>\n",
       "      <td>0</td>\n",
       "      <td>0</td>\n",
       "      <td>0</td>\n",
       "      <td>0</td>\n",
       "      <td>0</td>\n",
       "      <td>0</td>\n",
       "      <td>0</td>\n",
       "      <td>0</td>\n",
       "    </tr>\n",
       "    <tr>\n",
       "      <th>5</th>\n",
       "      <td>0.627148</td>\n",
       "      <td>0</td>\n",
       "      <td>0</td>\n",
       "      <td>0</td>\n",
       "      <td>0</td>\n",
       "      <td>0</td>\n",
       "      <td>0</td>\n",
       "      <td>0</td>\n",
       "      <td>0</td>\n",
       "      <td>0</td>\n",
       "      <td>...</td>\n",
       "      <td>0</td>\n",
       "      <td>0</td>\n",
       "      <td>0</td>\n",
       "      <td>0</td>\n",
       "      <td>0</td>\n",
       "      <td>0</td>\n",
       "      <td>0</td>\n",
       "      <td>0</td>\n",
       "      <td>0</td>\n",
       "      <td>0</td>\n",
       "    </tr>\n",
       "  </tbody>\n",
       "</table>\n",
       "<p>5 rows × 94 columns</p>\n",
       "</div>"
      ],
      "text/plain": [
       "   InteractionTime  Website_Amazon  Website_Atedra  Website_Craigslist.ca  \\\n",
       "1         0.171601               0               0                      0   \n",
       "2         4.303945               0               0                      0   \n",
       "3         0.868106               0               0                      0   \n",
       "4         0.802647               0               0                      0   \n",
       "5         0.627148               0               0                      0   \n",
       "\n",
       "   Website_Expedia  Website_Facebook  Website_Kijiji  Website_Other  \\\n",
       "1                0                 1               0              0   \n",
       "2                0                 1               0              0   \n",
       "3                0                 1               0              0   \n",
       "4                0                 1               0              0   \n",
       "5                0                 0               0              0   \n",
       "\n",
       "   Website_Sympatico  Website_TubeMogul   ...    Day_22  Day_23  Day_24  \\\n",
       "1                  0                  0   ...         0       1       0   \n",
       "2                  0                  0   ...         0       0       0   \n",
       "3                  0                  0   ...         0       0       0   \n",
       "4                  0                  0   ...         0       0       0   \n",
       "5                  0                  0   ...         0       0       0   \n",
       "\n",
       "   Day_25  Day_26  Day_27  Day_28  Day_29  Day_30  Day_31  \n",
       "1       0       0       0       0       0       0       0  \n",
       "2       0       0       0       0       0       0       0  \n",
       "3       1       0       0       0       0       0       0  \n",
       "4       0       0       0       0       0       0       0  \n",
       "5       0       0       0       0       0       0       0  \n",
       "\n",
       "[5 rows x 94 columns]"
      ]
     },
     "execution_count": 484,
     "metadata": {},
     "output_type": "execute_result"
    }
   ],
   "source": [
    "features.head()"
   ]
  },
  {
   "cell_type": "code",
   "execution_count": 485,
   "metadata": {
    "nbpresent": {
     "id": "c0a3ed9d-92de-4028-943b-895f4308d17e"
    }
   },
   "outputs": [
    {
     "data": {
      "text/plain": [
       "(1000000, 94)"
      ]
     },
     "execution_count": 485,
     "metadata": {},
     "output_type": "execute_result"
    }
   ],
   "source": [
    "features.shape"
   ]
  },
  {
   "cell_type": "markdown",
   "metadata": {},
   "source": [
    "5 features dropped due to low variance  \n",
    "<br\\><br\\>\n",
    "The next step is Chi2 selection"
   ]
  },
  {
   "cell_type": "code",
   "execution_count": 486,
   "metadata": {
    "nbpresent": {
     "id": "a360f380-d41c-42a4-aa5a-f83d6ff76738"
    }
   },
   "outputs": [],
   "source": [
    "#set the alpha value for null rejection\n",
    "alpha = 0.05\n",
    "\n",
    "pValues = chi2(features,labels)[1]"
   ]
  },
  {
   "cell_type": "code",
   "execution_count": 487,
   "metadata": {
    "nbpresent": {
     "id": "be948095-b698-47db-834a-83ed545c297c"
    }
   },
   "outputs": [
    {
     "data": {
      "text/plain": [
       "{'BannerArea_153600.0': 0.0005716728159999997,\n",
       " 'BannerArea_16000.0': 0.0018186803160000005,\n",
       " 'BannerArea_180000.0': 0.05424507663599999,\n",
       " 'BannerArea_32000.0': 0.05829876143100001,\n",
       " 'BannerArea_65520.0': 0.001270382015999999,\n",
       " 'BannerArea_752400.0': 0.135901293775,\n",
       " 'BannerArea_786432.0': 0.007063391004000016,\n",
       " 'BannerRatio_0.5': 0.031823195163999986,\n",
       " 'BannerRatio_0.6666666666666666': 0.001165638111,\n",
       " 'BannerRatio_0.75': 0.00031889823899999993,\n",
       " 'BannerRatio_1.9138755980861244': 0.007063391004000016,\n",
       " 'BannerRatio_3.2': 0.008582056350999998,\n",
       " 'BannerRatio_6.4': 0.031823195163999986,\n",
       " 'BannerRatio_8.088888888888889': 3.0999039000000026e-05,\n",
       " 'Brand_Banana Republic': 0.052924379376,\n",
       " 'Brand_Burberry': 0.07703633967900002,\n",
       " \"Brand_Carter's\": 0.07639944428400001,\n",
       " 'Brand_Disney': 0.1730686567749999,\n",
       " 'Brand_Gap': 0.07628192797500001,\n",
       " 'Brand_JoeFresh': 0.029753755583999987,\n",
       " 'Brand_Old Navy': 0.15496467471599992,\n",
       " \"Brand_The Children's Place\": 0.127907760111,\n",
       " 'Brand_Zara': 0.027205615879000004,\n",
       " 'Brand_gymboree': 0.05248997475900001,\n",
       " 'DayRange_Morning': 0.21173007687100018,\n",
       " 'DayRange_Night': 0.08237444475900003,\n",
       " 'Day_1': 0.12358348639899996,\n",
       " 'Day_10': 0.028745477871000024,\n",
       " 'Day_12': 0.02993674611900002,\n",
       " 'Day_13': 0.031423179515999974,\n",
       " 'Day_14': 0.031591455036000006,\n",
       " 'Day_15': 0.030039937998999993,\n",
       " 'Day_16': 0.031328729871000015,\n",
       " 'Day_17': 0.03058176675899999,\n",
       " 'Day_18': 0.029794113878999988,\n",
       " 'Day_19': 0.030825278079000023,\n",
       " 'Day_2': 0.17485493612400005,\n",
       " 'Day_20': 0.03024999937500001,\n",
       " 'Day_21': 0.030294062016000014,\n",
       " 'Day_22': 0.028576109750999997,\n",
       " 'Day_23': 0.031892319599999976,\n",
       " 'Day_24': 0.03226110937499999,\n",
       " 'Day_25': 0.030975999999999983,\n",
       " 'Day_26': 0.03125109756399999,\n",
       " 'Day_27': 0.035850405831000014,\n",
       " 'Day_28': 0.030015549375000006,\n",
       " 'Day_29': 0.032262975870999994,\n",
       " 'Day_3': 0.19728292159600005,\n",
       " 'Day_30': 0.0368608111,\n",
       " 'Day_31': 0.036014192603999996,\n",
       " 'Day_4': 0.09202395855599999,\n",
       " 'Day_6': 0.027595326395999986,\n",
       " 'Day_8': 0.026763594558999976,\n",
       " 'Day_9': 0.028359600631,\n",
       " 'InteractionTime': 0.996335161122163,\n",
       " 'Month_7': 0.05829876143100001,\n",
       " 'Website_Amazon': 0.0005596864000000002,\n",
       " 'Website_Facebook': 0.006943111936000002,\n",
       " 'Website_Other': 0.007666308924000001,\n",
       " 'Website_Sympatico': 0.08808711654399998,\n",
       " 'Website_TubeMogul': 0.011224109391000004,\n",
       " 'Website_Wayfair': 0.020641380603999993,\n",
       " 'Website_Weather': 0.003985983996000001,\n",
       " 'Website_Yahoo': 0.005089826543999998,\n",
       " 'Website_Youtube': 0.03259321963899999,\n",
       " 'Website_instagram.com': 0.005123477500000002}"
      ]
     },
     "execution_count": 487,
     "metadata": {},
     "output_type": "execute_result"
    }
   ],
   "source": [
    "unselected = dict()\n",
    "\n",
    "for i,col in enumerate(features.columns):\n",
    "    if pValues[i] >= alpha:\n",
    "        unselected[col] = sel.variances_[i]\n",
    "        \n",
    "unselected"
   ]
  },
  {
   "cell_type": "code",
   "execution_count": 488,
   "metadata": {
    "nbpresent": {
     "id": "f298c487-e6fc-4bb6-8642-d0daa8f2047d"
    }
   },
   "outputs": [],
   "source": [
    "features.drop(list(unselected.keys()),axis=1,inplace=True)"
   ]
  },
  {
   "cell_type": "code",
   "execution_count": 489,
   "metadata": {
    "nbpresent": {
     "id": "f1c596dd-6ec1-41de-b378-f3d36e838f0a"
    }
   },
   "outputs": [
    {
     "data": {
      "text/html": [
       "<div>\n",
       "<style scoped>\n",
       "    .dataframe tbody tr th:only-of-type {\n",
       "        vertical-align: middle;\n",
       "    }\n",
       "\n",
       "    .dataframe tbody tr th {\n",
       "        vertical-align: top;\n",
       "    }\n",
       "\n",
       "    .dataframe thead th {\n",
       "        text-align: right;\n",
       "    }\n",
       "</style>\n",
       "<table border=\"1\" class=\"dataframe\">\n",
       "  <thead>\n",
       "    <tr style=\"text-align: right;\">\n",
       "      <th></th>\n",
       "      <th>Website_Atedra</th>\n",
       "      <th>Website_Craigslist.ca</th>\n",
       "      <th>Website_Expedia</th>\n",
       "      <th>Website_Kijiji</th>\n",
       "      <th>Website_Twitter</th>\n",
       "      <th>DayRange_Afternoon</th>\n",
       "      <th>DayRange_Late Night</th>\n",
       "      <th>BannerArea_1.0</th>\n",
       "      <th>BannerArea_15000.0</th>\n",
       "      <th>BannerArea_75000.0</th>\n",
       "      <th>...</th>\n",
       "      <th>Year_2018</th>\n",
       "      <th>Month_1</th>\n",
       "      <th>Month_8</th>\n",
       "      <th>Month_9</th>\n",
       "      <th>Month_10</th>\n",
       "      <th>Month_11</th>\n",
       "      <th>Month_12</th>\n",
       "      <th>Day_5</th>\n",
       "      <th>Day_7</th>\n",
       "      <th>Day_11</th>\n",
       "    </tr>\n",
       "  </thead>\n",
       "  <tbody>\n",
       "    <tr>\n",
       "      <th>1</th>\n",
       "      <td>0</td>\n",
       "      <td>0</td>\n",
       "      <td>0</td>\n",
       "      <td>0</td>\n",
       "      <td>0</td>\n",
       "      <td>1</td>\n",
       "      <td>0</td>\n",
       "      <td>0</td>\n",
       "      <td>0</td>\n",
       "      <td>0</td>\n",
       "      <td>...</td>\n",
       "      <td>0</td>\n",
       "      <td>0</td>\n",
       "      <td>0</td>\n",
       "      <td>0</td>\n",
       "      <td>1</td>\n",
       "      <td>0</td>\n",
       "      <td>0</td>\n",
       "      <td>0</td>\n",
       "      <td>0</td>\n",
       "      <td>0</td>\n",
       "    </tr>\n",
       "    <tr>\n",
       "      <th>2</th>\n",
       "      <td>0</td>\n",
       "      <td>0</td>\n",
       "      <td>0</td>\n",
       "      <td>0</td>\n",
       "      <td>0</td>\n",
       "      <td>0</td>\n",
       "      <td>1</td>\n",
       "      <td>0</td>\n",
       "      <td>0</td>\n",
       "      <td>1</td>\n",
       "      <td>...</td>\n",
       "      <td>0</td>\n",
       "      <td>0</td>\n",
       "      <td>1</td>\n",
       "      <td>0</td>\n",
       "      <td>0</td>\n",
       "      <td>0</td>\n",
       "      <td>0</td>\n",
       "      <td>0</td>\n",
       "      <td>0</td>\n",
       "      <td>0</td>\n",
       "    </tr>\n",
       "    <tr>\n",
       "      <th>3</th>\n",
       "      <td>0</td>\n",
       "      <td>0</td>\n",
       "      <td>0</td>\n",
       "      <td>0</td>\n",
       "      <td>0</td>\n",
       "      <td>0</td>\n",
       "      <td>1</td>\n",
       "      <td>0</td>\n",
       "      <td>0</td>\n",
       "      <td>0</td>\n",
       "      <td>...</td>\n",
       "      <td>0</td>\n",
       "      <td>0</td>\n",
       "      <td>0</td>\n",
       "      <td>0</td>\n",
       "      <td>0</td>\n",
       "      <td>0</td>\n",
       "      <td>1</td>\n",
       "      <td>0</td>\n",
       "      <td>0</td>\n",
       "      <td>0</td>\n",
       "    </tr>\n",
       "    <tr>\n",
       "      <th>4</th>\n",
       "      <td>0</td>\n",
       "      <td>0</td>\n",
       "      <td>0</td>\n",
       "      <td>0</td>\n",
       "      <td>0</td>\n",
       "      <td>0</td>\n",
       "      <td>0</td>\n",
       "      <td>0</td>\n",
       "      <td>0</td>\n",
       "      <td>0</td>\n",
       "      <td>...</td>\n",
       "      <td>1</td>\n",
       "      <td>1</td>\n",
       "      <td>0</td>\n",
       "      <td>0</td>\n",
       "      <td>0</td>\n",
       "      <td>0</td>\n",
       "      <td>0</td>\n",
       "      <td>0</td>\n",
       "      <td>0</td>\n",
       "      <td>0</td>\n",
       "    </tr>\n",
       "    <tr>\n",
       "      <th>5</th>\n",
       "      <td>0</td>\n",
       "      <td>0</td>\n",
       "      <td>0</td>\n",
       "      <td>0</td>\n",
       "      <td>0</td>\n",
       "      <td>0</td>\n",
       "      <td>1</td>\n",
       "      <td>0</td>\n",
       "      <td>0</td>\n",
       "      <td>1</td>\n",
       "      <td>...</td>\n",
       "      <td>0</td>\n",
       "      <td>0</td>\n",
       "      <td>0</td>\n",
       "      <td>0</td>\n",
       "      <td>1</td>\n",
       "      <td>0</td>\n",
       "      <td>0</td>\n",
       "      <td>0</td>\n",
       "      <td>0</td>\n",
       "      <td>0</td>\n",
       "    </tr>\n",
       "  </tbody>\n",
       "</table>\n",
       "<p>5 rows × 28 columns</p>\n",
       "</div>"
      ],
      "text/plain": [
       "   Website_Atedra  Website_Craigslist.ca  Website_Expedia  Website_Kijiji  \\\n",
       "1               0                      0                0               0   \n",
       "2               0                      0                0               0   \n",
       "3               0                      0                0               0   \n",
       "4               0                      0                0               0   \n",
       "5               0                      0                0               0   \n",
       "\n",
       "   Website_Twitter  DayRange_Afternoon  DayRange_Late Night  BannerArea_1.0  \\\n",
       "1                0                   1                    0               0   \n",
       "2                0                   0                    1               0   \n",
       "3                0                   0                    1               0   \n",
       "4                0                   0                    0               0   \n",
       "5                0                   0                    1               0   \n",
       "\n",
       "   BannerArea_15000.0  BannerArea_75000.0   ...    Year_2018  Month_1  \\\n",
       "1                   0                   0   ...            0        0   \n",
       "2                   0                   1   ...            0        0   \n",
       "3                   0                   0   ...            0        0   \n",
       "4                   0                   0   ...            1        1   \n",
       "5                   0                   1   ...            0        0   \n",
       "\n",
       "   Month_8  Month_9  Month_10  Month_11  Month_12  Day_5  Day_7  Day_11  \n",
       "1        0        0         1         0         0      0      0       0  \n",
       "2        1        0         0         0         0      0      0       0  \n",
       "3        0        0         0         0         1      0      0       0  \n",
       "4        0        0         0         0         0      0      0       0  \n",
       "5        0        0         1         0         0      0      0       0  \n",
       "\n",
       "[5 rows x 28 columns]"
      ]
     },
     "execution_count": 489,
     "metadata": {},
     "output_type": "execute_result"
    }
   ],
   "source": [
    "features.head()"
   ]
  },
  {
   "cell_type": "code",
   "execution_count": 490,
   "metadata": {
    "nbpresent": {
     "id": "14f6bd4b-8ab8-414a-8ff6-334a4cf746d0"
    }
   },
   "outputs": [
    {
     "data": {
      "text/plain": [
       "(1000000, 28)"
      ]
     },
     "execution_count": 490,
     "metadata": {},
     "output_type": "execute_result"
    }
   ],
   "source": [
    "features.shape"
   ]
  },
  {
   "cell_type": "markdown",
   "metadata": {},
   "source": [
    "66 features dropped after Chi2 selection with alpha value 0.05"
   ]
  },
  {
   "cell_type": "markdown",
   "metadata": {
    "nbpresent": {
     "id": "f99c0fd7-67ff-440e-b731-d9dead7db52a"
    }
   },
   "source": [
    "##### Dimensionality Reduction\n",
    "Next step is dimensionality reduction with PCA"
   ]
  },
  {
   "cell_type": "code",
   "execution_count": 491,
   "metadata": {
    "nbpresent": {
     "id": "802fb924-78ce-4957-ad51-32f93a3a3625"
    }
   },
   "outputs": [],
   "source": [
    "pca = PCA(n_components = 18)\n",
    "features_pca = pca.fit_transform(features)"
   ]
  },
  {
   "cell_type": "code",
   "execution_count": 492,
   "metadata": {
    "nbpresent": {
     "id": "5adaaf24-6d2d-419d-ba77-f6d31e79f4b5"
    }
   },
   "outputs": [
    {
     "data": {
      "text/plain": [
       "0.9933519010560574"
      ]
     },
     "execution_count": 492,
     "metadata": {},
     "output_type": "execute_result"
    }
   ],
   "source": [
    "pca.explained_variance_ratio_.sum()"
   ]
  },
  {
   "cell_type": "markdown",
   "metadata": {},
   "source": [
    "When we set the number of principle components equals to 18, all the dimensions variance explanation sum just reached 99%. Therefore, we choose 18 major components"
   ]
  },
  {
   "cell_type": "markdown",
   "metadata": {
    "nbpresent": {
     "id": "a9387dbf-1179-4905-a07a-614537519dc2"
    }
   },
   "source": [
    "##### Normalization\n",
    "Normalize all the final features to unit norm distribution. That would help in faster learning and increase generality"
   ]
  },
  {
   "cell_type": "code",
   "execution_count": 493,
   "metadata": {
    "nbpresent": {
     "id": "8590c068-5178-4b0c-bf3f-deb309e9e739"
    }
   },
   "outputs": [],
   "source": [
    "final_features = normalize(features_pca)"
   ]
  },
  {
   "cell_type": "code",
   "execution_count": 494,
   "metadata": {
    "nbpresent": {
     "id": "0029f1b2-5a99-472d-aed7-b26a1fbe9167"
    }
   },
   "outputs": [
    {
     "data": {
      "text/plain": [
       "(1000000, 18)"
      ]
     },
     "execution_count": 494,
     "metadata": {},
     "output_type": "execute_result"
    }
   ],
   "source": [
    "final_features.shape"
   ]
  },
  {
   "cell_type": "markdown",
   "metadata": {
    "nbpresent": {
     "id": "276afd71-2e65-4690-9181-3d95f0792885"
    }
   },
   "source": [
    "### Modelling\n",
    "Since our data is extremely unbalanced, we need to perform carefully with modelling.  \n",
    "We could not use accuracy as metric for normally balanced dataset anymore. The metric balanced precision and recall is f_beta and AUC (area under curve) of ROC (Receiver Operating Characteristic). In this CTR mission, we would want to focus more on the recall, therefore, we could use a larger beta (40 for default) for threshold selection.  \n",
    "During learning, there are 4 major ways to deal with it. \n",
    "- down/over sampling\n",
    "- weight adjustment\n",
    "- balanced ensumble method\n",
    "- anomly detection method (Use SVM, Distribution Analysis, Dense-based algorithm or Cluster-based algorithm)  \n",
    "\n",
    "In this section, I choose weight adjustment method since it's a build-in parameter for many classifiers (class_weight in Logistic Regression from sklearn, and scale_pos_weight in XGBoost). Therefore, it is relatively easy to realize. But, with more time provided, I'll most of the methods, especially SVM. It supports with low data sample sizes very well since it only needs support vector data to create the model. It has great generality and proven worked well on my another Abnormal-Behavior-Detection project\n"
   ]
  },
  {
   "cell_type": "markdown",
   "metadata": {
    "nbpresent": {
     "id": "be68417f-1ba0-4370-a20e-61eb428b1672"
    }
   },
   "source": [
    "##### Dataset Split"
   ]
  },
  {
   "cell_type": "code",
   "execution_count": 495,
   "metadata": {
    "nbpresent": {
     "id": "5b8d1ca9-0b21-446b-9398-972c7799e7c1"
    }
   },
   "outputs": [],
   "source": [
    "X_train, X_test, y_train, y_test = train_test_split(final_features, labels, test_size=0.1, random_state=255)"
   ]
  },
  {
   "cell_type": "code",
   "execution_count": 496,
   "metadata": {},
   "outputs": [],
   "source": [
    "#used for fbeta metric\n",
    "beta = 40"
   ]
  },
  {
   "cell_type": "markdown",
   "metadata": {
    "nbpresent": {
     "id": "f422c69f-7310-423f-a70b-34904a102bc4"
    }
   },
   "source": [
    "##### Baseline Model - Logistic Regression"
   ]
  },
  {
   "cell_type": "code",
   "execution_count": 497,
   "metadata": {
    "nbpresent": {
     "id": "4dcdc59c-c132-42fd-b7ec-28463e4736e4"
    }
   },
   "outputs": [],
   "source": [
    "#C for penalty coefficient\n",
    "lrHyperParamCandidates = {'C' : np.logspace(-2,1.5,10)}"
   ]
  },
  {
   "cell_type": "code",
   "execution_count": 498,
   "metadata": {
    "nbpresent": {
     "id": "a0575d11-df22-4834-9b06-6a36f0738611"
    }
   },
   "outputs": [],
   "source": [
    "lr = LR(penalty='l1', solver='liblinear', class_weight='balanced')"
   ]
  },
  {
   "cell_type": "code",
   "execution_count": 501,
   "metadata": {
    "nbpresent": {
     "id": "3e20486e-904e-412e-a399-99b38905dc88"
    }
   },
   "outputs": [],
   "source": [
    "#AUC of ROC as scoring metrc\n",
    "clf = GridSearchCV(lr, lrHyperParamCandidates, scoring='roc_auc', cv=10, n_jobs=-1, verbose=3)"
   ]
  },
  {
   "cell_type": "code",
   "execution_count": 502,
   "metadata": {
    "nbpresent": {
     "id": "8a7359fa-6f2d-424d-9348-8e4be9798f79"
    },
    "scrolled": true
   },
   "outputs": [
    {
     "name": "stdout",
     "output_type": "stream",
     "text": [
      "Fitting 3 folds for each of 10 candidates, totalling 30 fits\n",
      "[CV] C=0.01 ..........................................................\n",
      "[CV] C=0.01 ..........................................................\n",
      "[CV] C=0.01 ..........................................................\n",
      "[CV] C=0.024484367468222266 ..........................................\n",
      "[CV] C=0.024484367468222266 ..........................................\n",
      "[CV] C=0.024484367468222266 ..........................................\n",
      "[CV] C=0.05994842503189409 ...........................................\n",
      "[CV] C=0.05994842503189409 ...........................................\n",
      "[CV] C=0.05994842503189409 ...........................................\n",
      "[CV] C=0.14677992676220697 ...........................................\n",
      "[CV] C=0.14677992676220697 ...........................................\n",
      "[CV] C=0.14677992676220697 ...........................................\n",
      "[CV] ................. C=0.01, score=0.8116601445440679, total= 1.7min\n",
      "[CV] C=0.35938136638046275 ...........................................\n",
      "[CV] ................. C=0.01, score=0.7811520539577386, total= 2.3min\n",
      "[CV] C=0.35938136638046275 ...........................................\n",
      "[CV] .................. C=0.01, score=0.783656437579116, total= 2.4min\n",
      "[CV] C=0.35938136638046275 ...........................................\n",
      "[CV] . C=0.024484367468222266, score=0.8111402562456214, total= 2.4min\n",
      "[CV] C=0.8799225435691069 ............................................\n",
      "[CV] . C=0.024484367468222266, score=0.7805411326887468, total= 3.6min\n",
      "[CV] C=0.8799225435691069 ............................................\n",
      "[CV] .. C=0.05994842503189409, score=0.8109749589092893, total= 3.6min\n",
      "[CV] C=0.8799225435691069 ............................................\n",
      "[CV] .. C=0.14677992676220697, score=0.7804621700757477, total= 4.3min\n",
      "[CV] C=2.1544346900318843 ............................................\n",
      "[CV] .. C=0.05994842503189409, score=0.7802180034945476, total= 4.9min\n",
      "[CV] C=2.1544346900318843 ............................................\n",
      "[CV] .. C=0.14677992676220697, score=0.8119967030694917, total= 5.3min\n",
      "[CV] C=2.1544346900318843 ............................................\n",
      "[CV] . C=0.024484367468222266, score=0.7829650239445558, total= 5.6min\n",
      "[CV] C=5.27499706370262 ..............................................\n",
      "[CV] .. C=0.35938136638046275, score=0.8120446956483927, total= 3.7min\n",
      "[CV] C=5.27499706370262 ..............................................\n",
      "[CV] ... C=0.8799225435691069, score=0.7804272321131719, total= 2.9min\n",
      "[CV] C=5.27499706370262 ..............................................\n",
      "[CV] .. C=0.35938136638046275, score=0.7806598701059146, total= 6.9min\n",
      "[CV] C=12.91549665014884 .............................................\n",
      "[CV] .. C=0.05994842503189409, score=0.7831401579855382, total= 9.3min\n",
      "[CV] C=12.91549665014884 .............................................\n",
      "[CV] ... C=2.1544346900318843, score=0.8115990502728838, total= 5.5min\n",
      "[CV] C=12.91549665014884 .............................................\n",
      "[CV] ..... C=5.27499706370262, score=0.8115501889437777, total= 6.0min\n",
      "[CV] C=31.622776601683793 ............................................\n",
      "[CV] .... C=0.8799225435691069, score=0.784665796831176, total=11.9min\n",
      "[CV] C=31.622776601683793 ............................................\n",
      "[CV] ... C=2.1544346900318843, score=0.7813350086649904, total= 9.4min\n",
      "[CV] C=31.622776601683793 ............................................\n"
     ]
    },
    {
     "name": "stderr",
     "output_type": "stream",
     "text": [
      "[Parallel(n_jobs=-1)]: Done  18 out of  30 | elapsed: 14.8min remaining:  9.9min\n"
     ]
    },
    {
     "name": "stdout",
     "output_type": "stream",
     "text": [
      "[CV] ..... C=12.91549665014884, score=0.811576134051256, total= 5.8min\n",
      "[CV] .. C=0.14677992676220697, score=0.7842622290979235, total=15.9min\n",
      "[CV] .... C=0.8799225435691069, score=0.810106114785194, total=13.4min\n",
      "[CV] ..... C=5.27499706370262, score=0.7817853280092387, total=10.6min\n",
      "[CV] ... C=2.1544346900318843, score=0.7846803836167152, total=12.9min\n",
      "[CV] .. C=0.35938136638046275, score=0.7841451643555641, total=16.1min\n",
      "[CV] ..... C=5.27499706370262, score=0.7848457005194933, total=12.8min\n",
      "[CV] ... C=31.622776601683793, score=0.8116031357468216, total= 4.5min\n",
      "[CV] .... C=12.91549665014884, score=0.7818433935881701, total= 8.7min\n",
      "[CV] .... C=12.91549665014884, score=0.7848570457971349, total=10.1min\n",
      "[CV] ... C=31.622776601683793, score=0.7818351756534244, total= 5.5min\n",
      "[CV] ... C=31.622776601683793, score=0.7848519056917544, total= 8.4min\n"
     ]
    },
    {
     "name": "stderr",
     "output_type": "stream",
     "text": [
      "[Parallel(n_jobs=-1)]: Done  30 out of  30 | elapsed: 20.4min finished\n"
     ]
    },
    {
     "data": {
      "text/plain": [
       "GridSearchCV(cv=None, error_score='raise',\n",
       "       estimator=LogisticRegression(C=1.0, class_weight='balanced', dual=False,\n",
       "          fit_intercept=True, intercept_scaling=1, max_iter=100,\n",
       "          multi_class='ovr', n_jobs=1, penalty='l1', random_state=None,\n",
       "          solver='liblinear', tol=0.0001, verbose=0, warm_start=False),\n",
       "       fit_params=None, iid=True, n_jobs=-1,\n",
       "       param_grid={'C': array([1.00000e-02, 2.44844e-02, 5.99484e-02, 1.46780e-01, 3.59381e-01,\n",
       "       8.79923e-01, 2.15443e+00, 5.27500e+00, 1.29155e+01, 3.16228e+01])},\n",
       "       pre_dispatch='2*n_jobs', refit=True, return_train_score='warn',\n",
       "       scoring='roc_auc', verbose=3)"
      ]
     },
     "execution_count": 502,
     "metadata": {},
     "output_type": "execute_result"
    }
   ],
   "source": [
    "clf.fit(X_train,y_train)"
   ]
  },
  {
   "cell_type": "code",
   "execution_count": 503,
   "metadata": {
    "nbpresent": {
     "id": "fcbcb742-b9a9-43eb-985d-4f844d6867dd"
    }
   },
   "outputs": [],
   "source": [
    "lr_best = clf.best_estimator_"
   ]
  },
  {
   "cell_type": "code",
   "execution_count": 504,
   "metadata": {
    "nbpresent": {
     "id": "91421a66-e341-4f76-b17e-02fffe456b81"
    }
   },
   "outputs": [
    {
     "data": {
      "text/plain": [
       "LogisticRegression(C=31.622776601683793, class_weight='balanced', dual=False,\n",
       "          fit_intercept=True, intercept_scaling=1, max_iter=100,\n",
       "          multi_class='ovr', n_jobs=1, penalty='l1', random_state=None,\n",
       "          solver='liblinear', tol=0.0001, verbose=0, warm_start=False)"
      ]
     },
     "execution_count": 504,
     "metadata": {},
     "output_type": "execute_result"
    }
   ],
   "source": [
    "lr_best"
   ]
  },
  {
   "cell_type": "code",
   "execution_count": 505,
   "metadata": {
    "nbpresent": {
     "id": "9ec5c839-4b91-42d0-9297-ec7e02244060"
    }
   },
   "outputs": [],
   "source": [
    "train_proba = lr_best.predict_proba(X_train)[:,1]"
   ]
  },
  {
   "cell_type": "code",
   "execution_count": 506,
   "metadata": {
    "nbpresent": {
     "id": "c7f10683-95f4-4f24-8c05-80fab794d94c"
    }
   },
   "outputs": [],
   "source": [
    "pred_thresholds = np.linspace(0.1,1,100)"
   ]
  },
  {
   "cell_type": "code",
   "execution_count": 507,
   "metadata": {
    "nbpresent": {
     "id": "0ee99db1-74b3-4b48-97d9-80cd6cf3e1fd"
    }
   },
   "outputs": [],
   "source": [
    "#find fbeta score for each threshold candidate\n",
    "def findThreshold(threshold):\n",
    "    pred = binarize(train_proba.reshape(-1,1),threshold)\n",
    "    fbeta = fbeta_score(y_train,pred,beta)\n",
    "    return fbeta"
   ]
  },
  {
   "cell_type": "code",
   "execution_count": 508,
   "metadata": {
    "nbpresent": {
     "id": "86961e8f-786e-495c-89c9-f7f5acd82fc8"
    }
   },
   "outputs": [
    {
     "name": "stderr",
     "output_type": "stream",
     "text": [
      "/anaconda/envs/py35/lib/python3.5/site-packages/sklearn/metrics/classification.py:1135: UndefinedMetricWarning: F-score is ill-defined and being set to 0.0 due to no predicted samples.\n",
      "  'precision', 'predicted', average, warn_for)\n"
     ]
    }
   ],
   "source": [
    "#choose the best by vectorize testing each threshold candidate\n",
    "best_threshold = list(pred_thresholds)[np.argmax(np.vectorize(findThreshold)(pred_thresholds))]"
   ]
  },
  {
   "cell_type": "code",
   "execution_count": 509,
   "metadata": {},
   "outputs": [],
   "source": [
    "test_proba = lr_best.predict_proba(X_test)[:,1]"
   ]
  },
  {
   "cell_type": "code",
   "execution_count": 510,
   "metadata": {
    "nbpresent": {
     "id": "c8b1d5fd-7685-44f7-bf1e-be2bf23bc3b3"
    }
   },
   "outputs": [],
   "source": [
    "y_pred = binarize(test_proba.reshape(-1,1),best_threshold)"
   ]
  },
  {
   "cell_type": "code",
   "execution_count": 511,
   "metadata": {
    "nbpresent": {
     "id": "dc6ddd4e-4cf0-4420-9d59-b73cbdb04d21"
    }
   },
   "outputs": [
    {
     "data": {
      "text/plain": [
       "0.43908600132798287"
      ]
     },
     "execution_count": 511,
     "metadata": {},
     "output_type": "execute_result"
    }
   ],
   "source": [
    "fbeta_lr = fbeta_score(y_test,y_pred,beta)\n",
    "fbeta_lr"
   ]
  },
  {
   "cell_type": "code",
   "execution_count": 512,
   "metadata": {
    "nbpresent": {
     "id": "6d00b269-ce87-4f39-a1fc-9e656b4fa978"
    },
    "scrolled": true
   },
   "outputs": [
    {
     "data": {
      "text/plain": [
       "array([[78711, 21259],\n",
       "       [   11,    19]])"
      ]
     },
     "execution_count": 512,
     "metadata": {},
     "output_type": "execute_result"
    }
   ],
   "source": [
    "confusion_matrix(y_test,y_pred)"
   ]
  },
  {
   "cell_type": "code",
   "execution_count": 513,
   "metadata": {
    "nbpresent": {
     "id": "08fb5e30-3d5c-4d34-9bee-76a6e081c6bb"
    }
   },
   "outputs": [],
   "source": [
    "def roc_plot(fpr,tpr,name,auc):\n",
    "        plt.figure(figsize=(20,5))\n",
    "        plt.plot(fpr,tpr)\n",
    "        plt.ylim([0.0,1.0])\n",
    "        plt.ylim([0.0, 1.0])\n",
    "        plt.title('ROC of {}      AUC: {}'.format(name,auc))\n",
    "        plt.xlabel('False Positive Rate')\n",
    "        plt.ylabel('True Positive Rate')\n",
    "        plt.grid(True)\n",
    "        plt.show()"
   ]
  },
  {
   "cell_type": "code",
   "execution_count": 514,
   "metadata": {
    "nbpresent": {
     "id": "0f55f2cd-a58c-4379-9367-5a41fc9af447"
    }
   },
   "outputs": [
    {
     "data": {
      "image/png": "[encoded data removed]",
      "text/plain": [
       "<matplotlib.figure.Figure at 0x7f3fae5e7908>"
      ]
     },
     "metadata": {},
     "output_type": "display_data"
    }
   ],
   "source": [
    "lr_auc = roc_auc_score(y_test,test_proba)\n",
    "fpr, tpr, thresholds = roc_curve(y_test,test_proba,pos_label=1)\n",
    "roc_plot(fpr,tpr,'Logistic Regression',lr_auc)"
   ]
  },
  {
   "cell_type": "markdown",
   "metadata": {},
   "source": [
    "The AUC of ROC of best Logistic Regression model reached 0.802, which is a not bad value for unbalanced dataset. It owes to the delicated feature engineering"
   ]
  },
  {
   "cell_type": "markdown",
   "metadata": {
    "nbpresent": {
     "id": "9aa380ec-e0a7-499d-beaf-4b8bbc99dcc9"
    }
   },
   "source": [
    "##### XGBoost"
   ]
  },
  {
   "cell_type": "code",
   "execution_count": 515,
   "metadata": {
    "nbpresent": {
     "id": "c4b38bc4-48ae-48aa-ad74-337d48c3840b"
    }
   },
   "outputs": [],
   "source": [
    "xgb = XG(scale_pos_weight=4693.84, objective=\"binary:logistic\")"
   ]
  },
  {
   "cell_type": "code",
   "execution_count": 516,
   "metadata": {
    "nbpresent": {
     "id": "fd4f3353-c539-44ac-bbb1-1468c06a5dd6"
    }
   },
   "outputs": [],
   "source": [
    "xgHyperParamCandidates = {'booster':['gbtree','gblinear'],'max_delta_step':[0,1,2,4,8],\\\n",
    "                          'reg_alpha':np.logspace(-1,1,10)}"
   ]
  },
  {
   "cell_type": "code",
   "execution_count": 517,
   "metadata": {
    "nbpresent": {
     "id": "20cb70b7-4c40-4558-8953-0c62336440bb"
    }
   },
   "outputs": [],
   "source": [
    "clf = GridSearchCV(xgb, xgHyperParamCandidates, scoring='roc_auc', n_jobs=-1, verbose=3)"
   ]
  },
  {
   "cell_type": "code",
   "execution_count": 518,
   "metadata": {
    "nbpresent": {
     "id": "4afc7a81-77c4-4ace-b4dd-7469882aa55c"
    }
   },
   "outputs": [
    {
     "name": "stdout",
     "output_type": "stream",
     "text": [
      "Fitting 3 folds for each of 100 candidates, totalling 300 fits\n",
      "[CV] booster=gbtree, max_delta_step=0, reg_alpha=0.1 .................\n",
      "[CV] booster=gbtree, max_delta_step=0, reg_alpha=0.1 .................\n",
      "[CV] booster=gbtree, max_delta_step=0, reg_alpha=0.1 .................\n",
      "[CV] booster=gbtree, max_delta_step=0, reg_alpha=0.16681005372000587 .\n",
      "[CV] booster=gbtree, max_delta_step=0, reg_alpha=0.16681005372000587 .\n",
      "[CV] booster=gbtree, max_delta_step=0, reg_alpha=0.16681005372000587 .\n",
      "[CV] booster=gbtree, max_delta_step=0, reg_alpha=0.2782559402207124 ..\n",
      "[CV] booster=gbtree, max_delta_step=0, reg_alpha=0.2782559402207124 ..\n",
      "[CV] booster=gbtree, max_delta_step=0, reg_alpha=0.2782559402207124 ..\n",
      "[CV] booster=gbtree, max_delta_step=0, reg_alpha=0.46415888336127786 .\n",
      "[CV] booster=gbtree, max_delta_step=0, reg_alpha=0.46415888336127786 .\n",
      "[CV] booster=gbtree, max_delta_step=0, reg_alpha=0.46415888336127786 .\n",
      "[CV]  booster=gbtree, max_delta_step=0, reg_alpha=0.2782559402207124, score=0.7148043092420762, total= 2.1min\n",
      "[CV] booster=gbtree, max_delta_step=0, reg_alpha=0.774263682681127 ...\n",
      "[CV]  booster=gbtree, max_delta_step=0, reg_alpha=0.16681005372000587, score=0.7148042166275648, total= 2.1min\n",
      "[CV] booster=gbtree, max_delta_step=0, reg_alpha=0.774263682681127 ...\n",
      "[CV]  booster=gbtree, max_delta_step=0, reg_alpha=0.1, score=0.7643737079058598, total= 2.2min\n",
      "[CV] booster=gbtree, max_delta_step=0, reg_alpha=0.774263682681127 ...\n",
      "[CV]  booster=gbtree, max_delta_step=0, reg_alpha=0.2782559402207124, score=0.7573957761552863, total= 2.2min\n",
      "[CV] booster=gbtree, max_delta_step=0, reg_alpha=1.291549665014884 ...\n",
      "[CV]  booster=gbtree, max_delta_step=0, reg_alpha=0.46415888336127786, score=0.7572338129413633, total= 2.2min\n",
      "[CV] booster=gbtree, max_delta_step=0, reg_alpha=1.291549665014884 ...\n",
      "[CV]  booster=gbtree, max_delta_step=0, reg_alpha=0.16681005372000587, score=0.76424644731637, total= 2.2min\n",
      "[CV] booster=gbtree, max_delta_step=0, reg_alpha=1.291549665014884 ...\n",
      "[CV]  booster=gbtree, max_delta_step=0, reg_alpha=0.1, score=0.7212743590057054, total= 2.2min\n",
      "[CV] booster=gbtree, max_delta_step=0, reg_alpha=2.1544346900318834 ..\n",
      "[CV]  booster=gbtree, max_delta_step=0, reg_alpha=0.16681005372000587, score=0.7574023035216926, total= 2.2min\n",
      "[CV] booster=gbtree, max_delta_step=0, reg_alpha=2.1544346900318834 ..\n",
      "[CV]  booster=gbtree, max_delta_step=0, reg_alpha=0.1, score=0.7574023035216926, total= 2.2min\n"
     ]
    },
    {
     "name": "stderr",
     "output_type": "stream",
     "text": [
      "[Parallel(n_jobs=-1)]: Done   8 tasks      | elapsed:  2.2min\n"
     ]
    },
    {
     "name": "stdout",
     "output_type": "stream",
     "text": [
      "[CV] booster=gbtree, max_delta_step=0, reg_alpha=2.1544346900318834 ..\n",
      "[CV]  booster=gbtree, max_delta_step=0, reg_alpha=0.46415888336127786, score=0.7654734554133368, total= 2.2min\n",
      "[CV] booster=gbtree, max_delta_step=0, reg_alpha=3.593813663804626 ...\n",
      "[CV]  booster=gbtree, max_delta_step=0, reg_alpha=0.2782559402207124, score=0.7656067268350978, total= 2.2min\n",
      "[CV] booster=gbtree, max_delta_step=0, reg_alpha=3.593813663804626 ...\n",
      "[CV]  booster=gbtree, max_delta_step=0, reg_alpha=0.46415888336127786, score=0.717192374417501, total= 2.2min\n",
      "[CV] booster=gbtree, max_delta_step=0, reg_alpha=3.593813663804626 ...\n",
      "[CV]  booster=gbtree, max_delta_step=0, reg_alpha=0.774263682681127, score=0.7153397368858778, total= 2.1min\n",
      "[CV] booster=gbtree, max_delta_step=0, reg_alpha=5.994842503189409 ...\n",
      "[CV]  booster=gbtree, max_delta_step=0, reg_alpha=0.774263682681127, score=0.7572259237503111, total= 2.1min\n",
      "[CV] booster=gbtree, max_delta_step=0, reg_alpha=5.994842503189409 ...\n",
      "[CV]  booster=gbtree, max_delta_step=0, reg_alpha=1.291549665014884, score=0.7153665950941722, total= 2.2min\n",
      "[CV] booster=gbtree, max_delta_step=0, reg_alpha=5.994842503189409 ...\n",
      "[CV]  booster=gbtree, max_delta_step=0, reg_alpha=2.1544346900318834, score=0.7591912949914579, total= 2.2min\n",
      "[CV] booster=gbtree, max_delta_step=0, reg_alpha=10.0 ................\n",
      "[CV]  booster=gbtree, max_delta_step=0, reg_alpha=0.774263682681127, score=0.7641575292624221, total= 2.2min\n",
      "[CV] booster=gbtree, max_delta_step=0, reg_alpha=10.0 ................\n",
      "[CV]  booster=gbtree, max_delta_step=0, reg_alpha=2.1544346900318834, score=0.7166640086301906, total= 2.2min\n",
      "[CV] booster=gbtree, max_delta_step=0, reg_alpha=10.0 ................\n",
      "[CV]  booster=gbtree, max_delta_step=0, reg_alpha=1.291549665014884, score=0.7581813376583633, total= 2.2min\n",
      "[CV] booster=gbtree, max_delta_step=1, reg_alpha=0.1 .................\n",
      "[CV]  booster=gbtree, max_delta_step=0, reg_alpha=3.593813663804626, score=0.7181908283108485, total= 2.2min\n",
      "[CV] booster=gbtree, max_delta_step=1, reg_alpha=0.1 .................\n",
      "[CV]  booster=gbtree, max_delta_step=0, reg_alpha=3.593813663804626, score=0.7667862822288616, total= 2.2min\n",
      "[CV] booster=gbtree, max_delta_step=1, reg_alpha=0.1 .................\n",
      "[CV]  booster=gbtree, max_delta_step=0, reg_alpha=1.291549665014884, score=0.7664843553063064, total= 2.2min\n",
      "[CV] booster=gbtree, max_delta_step=1, reg_alpha=0.16681005372000587 .\n",
      "[CV]  booster=gbtree, max_delta_step=0, reg_alpha=3.593813663804626, score=0.7596614766903285, total= 2.2min\n",
      "[CV] booster=gbtree, max_delta_step=1, reg_alpha=0.16681005372000587 .\n",
      "[CV]  booster=gbtree, max_delta_step=0, reg_alpha=2.1544346900318834, score=0.7626887495252381, total= 2.2min\n",
      "[CV] booster=gbtree, max_delta_step=1, reg_alpha=0.16681005372000587 .\n",
      "[CV]  booster=gbtree, max_delta_step=0, reg_alpha=5.994842503189409, score=0.7185744607705304, total= 2.2min\n",
      "[CV] booster=gbtree, max_delta_step=1, reg_alpha=0.2782559402207124 ..\n",
      "[CV]  booster=gbtree, max_delta_step=0, reg_alpha=5.994842503189409, score=0.7591402500469712, total= 2.2min\n",
      "[CV] booster=gbtree, max_delta_step=1, reg_alpha=0.2782559402207124 ..\n",
      "[CV]  booster=gbtree, max_delta_step=0, reg_alpha=5.994842503189409, score=0.763343812843721, total= 2.2min\n",
      "[CV] booster=gbtree, max_delta_step=1, reg_alpha=0.2782559402207124 ..\n",
      "[CV]  booster=gbtree, max_delta_step=0, reg_alpha=10.0, score=0.7207425896351025, total= 2.2min\n",
      "[CV] booster=gbtree, max_delta_step=1, reg_alpha=0.46415888336127786 .\n",
      "[CV]  booster=gbtree, max_delta_step=1, reg_alpha=0.1, score=0.730634490903588, total= 2.2min\n",
      "[CV] booster=gbtree, max_delta_step=1, reg_alpha=0.46415888336127786 .\n",
      "[CV]  booster=gbtree, max_delta_step=0, reg_alpha=10.0, score=0.7597231344751592, total= 2.2min\n",
      "[CV] booster=gbtree, max_delta_step=1, reg_alpha=0.46415888336127786 .\n",
      "[CV]  booster=gbtree, max_delta_step=1, reg_alpha=0.1, score=0.7863073133881121, total= 2.2min\n",
      "[CV] booster=gbtree, max_delta_step=1, reg_alpha=0.774263682681127 ...\n",
      "[CV]  booster=gbtree, max_delta_step=0, reg_alpha=10.0, score=0.7632979332880266, total= 2.2min\n",
      "[CV] booster=gbtree, max_delta_step=1, reg_alpha=0.774263682681127 ...\n",
      "[CV]  booster=gbtree, max_delta_step=1, reg_alpha=0.1, score=0.7690347091752725, total= 2.2min\n",
      "[CV] booster=gbtree, max_delta_step=1, reg_alpha=0.774263682681127 ...\n",
      "[CV]  booster=gbtree, max_delta_step=1, reg_alpha=0.16681005372000587, score=0.730634490903588, total= 2.2min\n",
      "[CV] booster=gbtree, max_delta_step=1, reg_alpha=1.291549665014884 ...\n",
      "[CV]  booster=gbtree, max_delta_step=1, reg_alpha=0.16681005372000587, score=0.7690347091752725, total= 2.2min\n",
      "[CV] booster=gbtree, max_delta_step=1, reg_alpha=1.291549665014884 ...\n",
      "[CV]  booster=gbtree, max_delta_step=1, reg_alpha=0.16681005372000587, score=0.7863073133881121, total= 2.2min\n",
      "[CV] booster=gbtree, max_delta_step=1, reg_alpha=1.291549665014884 ...\n",
      "[CV]  booster=gbtree, max_delta_step=1, reg_alpha=0.2782559402207124, score=0.730634490903588, total= 2.0min\n",
      "[CV] booster=gbtree, max_delta_step=1, reg_alpha=2.1544346900318834 ..\n",
      "[CV]  booster=gbtree, max_delta_step=1, reg_alpha=0.2782559402207124, score=0.7863145451465766, total= 2.1min\n",
      "[CV] booster=gbtree, max_delta_step=1, reg_alpha=2.1544346900318834 ..\n",
      "[CV]  booster=gbtree, max_delta_step=1, reg_alpha=0.2782559402207124, score=0.7692794392719982, total= 2.0min\n",
      "[CV] booster=gbtree, max_delta_step=1, reg_alpha=2.1544346900318834 ..\n",
      "[CV]  booster=gbtree, max_delta_step=1, reg_alpha=0.46415888336127786, score=0.7863145451465766, total= 2.1min\n",
      "[CV] booster=gbtree, max_delta_step=1, reg_alpha=3.593813663804626 ...\n",
      "[CV]  booster=gbtree, max_delta_step=1, reg_alpha=0.46415888336127786, score=0.730634490903588, total= 2.1min\n",
      "[CV] booster=gbtree, max_delta_step=1, reg_alpha=3.593813663804626 ...\n",
      "[CV]  booster=gbtree, max_delta_step=1, reg_alpha=0.774263682681127, score=0.7841415895658687, total= 2.1min\n",
      "[CV] booster=gbtree, max_delta_step=1, reg_alpha=3.593813663804626 ...\n",
      "[CV]  booster=gbtree, max_delta_step=1, reg_alpha=0.774263682681127, score=0.7691500889791014, total= 2.1min\n",
      "[CV] booster=gbtree, max_delta_step=1, reg_alpha=5.994842503189409 ...\n",
      "[CV]  booster=gbtree, max_delta_step=1, reg_alpha=1.291549665014884, score=0.7848095880344264, total= 2.1min\n",
      "[CV] booster=gbtree, max_delta_step=1, reg_alpha=5.994842503189409 ...\n",
      "[CV]  booster=gbtree, max_delta_step=1, reg_alpha=0.774263682681127, score=0.730634490903588, total= 2.1min\n",
      "[CV] booster=gbtree, max_delta_step=1, reg_alpha=5.994842503189409 ...\n",
      "[CV]  booster=gbtree, max_delta_step=1, reg_alpha=0.46415888336127786, score=0.7691500889791014, total= 2.1min\n",
      "[CV] booster=gbtree, max_delta_step=1, reg_alpha=10.0 ................\n",
      "[CV]  booster=gbtree, max_delta_step=1, reg_alpha=1.291549665014884, score=0.730634490903588, total= 2.1min\n",
      "[CV] booster=gbtree, max_delta_step=1, reg_alpha=10.0 ................\n",
      "[CV]  booster=gbtree, max_delta_step=1, reg_alpha=1.291549665014884, score=0.7691500889791014, total= 2.1min\n",
      "[CV] booster=gbtree, max_delta_step=1, reg_alpha=10.0 ................\n",
      "[CV]  booster=gbtree, max_delta_step=1, reg_alpha=2.1544346900318834, score=0.730634490903588, total= 2.1min\n",
      "[CV] booster=gbtree, max_delta_step=2, reg_alpha=0.1 .................\n",
      "[CV]  booster=gbtree, max_delta_step=1, reg_alpha=2.1544346900318834, score=0.7694264933443181, total= 2.0min\n",
      "[CV] booster=gbtree, max_delta_step=2, reg_alpha=0.1 .................\n",
      "[CV]  booster=gbtree, max_delta_step=1, reg_alpha=2.1544346900318834, score=0.7848095880344264, total= 2.1min\n",
      "[CV] booster=gbtree, max_delta_step=2, reg_alpha=0.1 .................\n",
      "[CV]  booster=gbtree, max_delta_step=1, reg_alpha=3.593813663804626, score=0.7694264933443181, total= 2.1min\n",
      "[CV] booster=gbtree, max_delta_step=2, reg_alpha=0.16681005372000587 .\n",
      "[CV]  booster=gbtree, max_delta_step=1, reg_alpha=3.593813663804626, score=0.7305541015077273, total= 2.1min\n",
      "[CV] booster=gbtree, max_delta_step=2, reg_alpha=0.16681005372000587 .\n",
      "[CV]  booster=gbtree, max_delta_step=1, reg_alpha=3.593813663804626, score=0.7832432548942686, total= 2.1min\n",
      "[CV] booster=gbtree, max_delta_step=2, reg_alpha=0.16681005372000587 .\n",
      "[CV]  booster=gbtree, max_delta_step=1, reg_alpha=5.994842503189409, score=0.7344606742114153, total= 2.1min\n"
     ]
    },
    {
     "name": "stdout",
     "output_type": "stream",
     "text": [
      "[CV] booster=gbtree, max_delta_step=2, reg_alpha=0.2782559402207124 ..\n",
      "[CV]  booster=gbtree, max_delta_step=1, reg_alpha=10.0, score=0.7376661319104781, total= 2.1min\n",
      "[CV] booster=gbtree, max_delta_step=2, reg_alpha=0.2782559402207124 ..\n",
      "[CV]  booster=gbtree, max_delta_step=1, reg_alpha=10.0, score=0.7702618111914935, total= 2.1min\n",
      "[CV] booster=gbtree, max_delta_step=2, reg_alpha=0.2782559402207124 ..\n",
      "[CV]  booster=gbtree, max_delta_step=1, reg_alpha=5.994842503189409, score=0.7694264933443181, total= 2.1min\n",
      "[CV] booster=gbtree, max_delta_step=2, reg_alpha=0.46415888336127786 .\n",
      "[CV]  booster=gbtree, max_delta_step=1, reg_alpha=10.0, score=0.7759473028335016, total= 2.1min\n",
      "[CV] booster=gbtree, max_delta_step=2, reg_alpha=0.46415888336127786 .\n",
      "[CV]  booster=gbtree, max_delta_step=1, reg_alpha=5.994842503189409, score=0.7804233386878086, total= 2.2min\n",
      "[CV] booster=gbtree, max_delta_step=2, reg_alpha=0.46415888336127786 .\n",
      "[CV]  booster=gbtree, max_delta_step=2, reg_alpha=0.1, score=0.7192383678952166, total= 2.0min\n",
      "[CV] booster=gbtree, max_delta_step=2, reg_alpha=0.774263682681127 ...\n",
      "[CV]  booster=gbtree, max_delta_step=2, reg_alpha=0.1, score=0.7632655221360135, total= 2.1min\n",
      "[CV] booster=gbtree, max_delta_step=2, reg_alpha=0.774263682681127 ...\n",
      "[CV]  booster=gbtree, max_delta_step=2, reg_alpha=0.1, score=0.763258463721434, total= 2.1min\n",
      "[CV] booster=gbtree, max_delta_step=2, reg_alpha=0.774263682681127 ...\n",
      "[CV]  booster=gbtree, max_delta_step=2, reg_alpha=0.2782559402207124, score=0.7606814363906501, total= 2.1min\n",
      "[CV] booster=gbtree, max_delta_step=2, reg_alpha=1.291549665014884 ...\n",
      "[CV]  booster=gbtree, max_delta_step=2, reg_alpha=0.46415888336127786, score=0.7632507153829595, total= 2.0min\n",
      "[CV] booster=gbtree, max_delta_step=2, reg_alpha=1.291549665014884 ...\n",
      "[CV]  booster=gbtree, max_delta_step=2, reg_alpha=0.2782559402207124, score=0.7632522180910274, total= 2.1min\n",
      "[CV] booster=gbtree, max_delta_step=2, reg_alpha=1.291549665014884 ...\n",
      "[CV]  booster=gbtree, max_delta_step=2, reg_alpha=0.46415888336127786, score=0.7637075046728194, total= 2.1min\n",
      "[CV] booster=gbtree, max_delta_step=2, reg_alpha=2.1544346900318834 ..\n",
      "[CV]  booster=gbtree, max_delta_step=2, reg_alpha=0.46415888336127786, score=0.7195386704483024, total= 2.1min\n",
      "[CV] booster=gbtree, max_delta_step=2, reg_alpha=2.1544346900318834 ..\n",
      "[CV]  booster=gbtree, max_delta_step=2, reg_alpha=0.2782559402207124, score=0.7192446193747335, total= 2.1min\n",
      "[CV] booster=gbtree, max_delta_step=2, reg_alpha=2.1544346900318834 ..\n",
      "[CV]  booster=gbtree, max_delta_step=2, reg_alpha=0.16681005372000587, score=0.7192383678952167, total= 2.2min\n",
      "[CV] booster=gbtree, max_delta_step=2, reg_alpha=3.593813663804626 ...\n",
      "[CV]  booster=gbtree, max_delta_step=2, reg_alpha=0.16681005372000587, score=0.763258463721434, total= 2.2min\n",
      "[CV] booster=gbtree, max_delta_step=2, reg_alpha=3.593813663804626 ...\n",
      "[CV]  booster=gbtree, max_delta_step=2, reg_alpha=0.16681005372000587, score=0.76068143639065, total= 2.3min\n",
      "[CV] booster=gbtree, max_delta_step=2, reg_alpha=3.593813663804626 ...\n",
      "[CV]  booster=gbtree, max_delta_step=2, reg_alpha=0.774263682681127, score=0.7202914411966388, total= 2.1min\n",
      "[CV] booster=gbtree, max_delta_step=2, reg_alpha=5.994842503189409 ...\n",
      "[CV]  booster=gbtree, max_delta_step=2, reg_alpha=0.774263682681127, score=0.7636888617630117, total= 2.1min\n",
      "[CV] booster=gbtree, max_delta_step=2, reg_alpha=5.994842503189409 ...\n",
      "[CV]  booster=gbtree, max_delta_step=2, reg_alpha=0.774263682681127, score=0.7637598986198002, total= 2.1min\n",
      "[CV] booster=gbtree, max_delta_step=2, reg_alpha=5.994842503189409 ...\n",
      "[CV]  booster=gbtree, max_delta_step=2, reg_alpha=2.1544346900318834, score=0.7167565305270396, total= 2.0min\n",
      "[CV] booster=gbtree, max_delta_step=2, reg_alpha=10.0 ................\n",
      "[CV]  booster=gbtree, max_delta_step=2, reg_alpha=1.291549665014884, score=0.7196906508614447, total= 2.1min\n",
      "[CV] booster=gbtree, max_delta_step=2, reg_alpha=10.0 ................\n",
      "[CV]  booster=gbtree, max_delta_step=2, reg_alpha=1.291549665014884, score=0.7551515830577555, total= 2.1min\n",
      "[CV] booster=gbtree, max_delta_step=2, reg_alpha=10.0 ................\n",
      "[CV]  booster=gbtree, max_delta_step=2, reg_alpha=2.1544346900318834, score=0.7627095924439206, total= 2.0min\n",
      "[CV] booster=gbtree, max_delta_step=4, reg_alpha=0.1 .................\n",
      "[CV]  booster=gbtree, max_delta_step=2, reg_alpha=1.291549665014884, score=0.7661991929706322, total= 2.1min\n",
      "[CV] booster=gbtree, max_delta_step=4, reg_alpha=0.1 .................\n",
      "[CV]  booster=gbtree, max_delta_step=2, reg_alpha=2.1544346900318834, score=0.765880806698772, total= 2.1min\n",
      "[CV] booster=gbtree, max_delta_step=4, reg_alpha=0.1 .................\n",
      "[CV]  booster=gbtree, max_delta_step=2, reg_alpha=3.593813663804626, score=0.7241155869852163, total= 2.1min\n",
      "[CV] booster=gbtree, max_delta_step=4, reg_alpha=0.16681005372000587 .\n",
      "[CV]  booster=gbtree, max_delta_step=2, reg_alpha=3.593813663804626, score=0.7596296851287668, total= 2.1min\n",
      "[CV] booster=gbtree, max_delta_step=4, reg_alpha=0.16681005372000587 .\n",
      "[CV]  booster=gbtree, max_delta_step=2, reg_alpha=3.593813663804626, score=0.7637589359474443, total= 2.1min\n",
      "[CV] booster=gbtree, max_delta_step=4, reg_alpha=0.16681005372000587 .\n",
      "[CV]  booster=gbtree, max_delta_step=2, reg_alpha=5.994842503189409, score=0.7206955877705872, total= 2.0min\n",
      "[CV] booster=gbtree, max_delta_step=4, reg_alpha=0.2782559402207124 ..\n",
      "[CV]  booster=gbtree, max_delta_step=2, reg_alpha=5.994842503189409, score=0.7663532205475794, total= 2.0min\n",
      "[CV] booster=gbtree, max_delta_step=4, reg_alpha=0.2782559402207124 ..\n",
      "[CV]  booster=gbtree, max_delta_step=2, reg_alpha=10.0, score=0.7161321234914486, total= 2.0min\n",
      "[CV] booster=gbtree, max_delta_step=4, reg_alpha=0.2782559402207124 ..\n",
      "[CV]  booster=gbtree, max_delta_step=2, reg_alpha=5.994842503189409, score=0.759920246852788, total= 2.1min\n",
      "[CV] booster=gbtree, max_delta_step=4, reg_alpha=0.46415888336127786 .\n",
      "[CV]  booster=gbtree, max_delta_step=2, reg_alpha=10.0, score=0.7646292621966362, total= 2.1min\n",
      "[CV] booster=gbtree, max_delta_step=4, reg_alpha=0.46415888336127786 .\n",
      "[CV]  booster=gbtree, max_delta_step=2, reg_alpha=10.0, score=0.7574206646746773, total= 2.1min\n",
      "[CV] booster=gbtree, max_delta_step=4, reg_alpha=0.46415888336127786 .\n",
      "[CV]  booster=gbtree, max_delta_step=4, reg_alpha=0.1, score=0.7561568679235307, total= 2.1min\n",
      "[CV] booster=gbtree, max_delta_step=4, reg_alpha=0.774263682681127 ...\n",
      "[CV]  booster=gbtree, max_delta_step=4, reg_alpha=0.1, score=0.7212671813810749, total= 2.1min\n",
      "[CV] booster=gbtree, max_delta_step=4, reg_alpha=0.774263682681127 ...\n",
      "[CV]  booster=gbtree, max_delta_step=4, reg_alpha=0.1, score=0.7674300987166498, total= 2.1min\n",
      "[CV] booster=gbtree, max_delta_step=4, reg_alpha=0.774263682681127 ...\n",
      "[CV]  booster=gbtree, max_delta_step=4, reg_alpha=0.16681005372000587, score=0.7148042166275648, total= 2.1min\n",
      "[CV] booster=gbtree, max_delta_step=4, reg_alpha=1.291549665014884 ...\n",
      "[CV]  booster=gbtree, max_delta_step=4, reg_alpha=0.16681005372000587, score=0.7558581587313693, total= 2.0min\n",
      "[CV] booster=gbtree, max_delta_step=4, reg_alpha=1.291549665014884 ...\n",
      "[CV]  booster=gbtree, max_delta_step=4, reg_alpha=0.16681005372000587, score=0.7675559974769531, total= 2.1min\n",
      "[CV] booster=gbtree, max_delta_step=4, reg_alpha=1.291549665014884 ...\n",
      "[CV]  booster=gbtree, max_delta_step=4, reg_alpha=0.2782559402207124, score=0.7148043092420762, total= 2.1min\n",
      "[CV] booster=gbtree, max_delta_step=4, reg_alpha=2.1544346900318834 ..\n",
      "[CV]  booster=gbtree, max_delta_step=4, reg_alpha=0.2782559402207124, score=0.7558581587313693, total= 2.1min\n",
      "[CV] booster=gbtree, max_delta_step=4, reg_alpha=2.1544346900318834 ..\n",
      "[CV]  booster=gbtree, max_delta_step=4, reg_alpha=0.2782559402207124, score=0.7675504092813261, total= 2.0min\n",
      "[CV] booster=gbtree, max_delta_step=4, reg_alpha=2.1544346900318834 ..\n",
      "[CV]  booster=gbtree, max_delta_step=4, reg_alpha=0.46415888336127786, score=0.7169993657758262, total= 2.1min\n",
      "[CV] booster=gbtree, max_delta_step=4, reg_alpha=3.593813663804626 ...\n",
      "[CV]  booster=gbtree, max_delta_step=4, reg_alpha=0.774263682681127, score=0.7590015552507051, total= 2.0min\n",
      "[CV] booster=gbtree, max_delta_step=4, reg_alpha=3.593813663804626 ...\n"
     ]
    },
    {
     "name": "stdout",
     "output_type": "stream",
     "text": [
      "[CV]  booster=gbtree, max_delta_step=4, reg_alpha=0.46415888336127786, score=0.7641497339643204, total= 2.0min\n",
      "[CV] booster=gbtree, max_delta_step=4, reg_alpha=3.593813663804626 ...\n",
      "[CV]  booster=gbtree, max_delta_step=4, reg_alpha=0.774263682681127, score=0.7615673771094734, total= 2.0min\n",
      "[CV] booster=gbtree, max_delta_step=4, reg_alpha=5.994842503189409 ...\n",
      "[CV]  booster=gbtree, max_delta_step=4, reg_alpha=0.774263682681127, score=0.7153390422770426, total= 2.1min\n",
      "[CV] booster=gbtree, max_delta_step=4, reg_alpha=5.994842503189409 ...\n"
     ]
    },
    {
     "name": "stderr",
     "output_type": "stream",
     "text": [
      "[Parallel(n_jobs=-1)]: Done 104 tasks      | elapsed: 19.4min\n"
     ]
    },
    {
     "name": "stdout",
     "output_type": "stream",
     "text": [
      "[CV]  booster=gbtree, max_delta_step=4, reg_alpha=1.291549665014884, score=0.7153665950941723, total= 2.0min\n",
      "[CV] booster=gbtree, max_delta_step=4, reg_alpha=5.994842503189409 ...\n",
      "[CV]  booster=gbtree, max_delta_step=4, reg_alpha=0.46415888336127786, score=0.7558109175039971, total= 2.1min\n",
      "[CV] booster=gbtree, max_delta_step=4, reg_alpha=10.0 ................\n",
      "[CV]  booster=gbtree, max_delta_step=4, reg_alpha=1.291549665014884, score=0.7575284366595869, total= 2.1min\n",
      "[CV] booster=gbtree, max_delta_step=4, reg_alpha=10.0 ................\n",
      "[CV]  booster=gbtree, max_delta_step=4, reg_alpha=1.291549665014884, score=0.7628416970307615, total= 2.0min\n",
      "[CV] booster=gbtree, max_delta_step=4, reg_alpha=10.0 ................\n",
      "[CV]  booster=gbtree, max_delta_step=4, reg_alpha=2.1544346900318834, score=0.7166640086301906, total= 2.1min\n",
      "[CV] booster=gbtree, max_delta_step=8, reg_alpha=0.1 .................\n",
      "[CV]  booster=gbtree, max_delta_step=4, reg_alpha=2.1544346900318834, score=0.7570923475363347, total= 2.1min\n",
      "[CV] booster=gbtree, max_delta_step=8, reg_alpha=0.1 .................\n",
      "[CV]  booster=gbtree, max_delta_step=4, reg_alpha=3.593813663804626, score=0.7181908283108485, total= 2.1min\n",
      "[CV] booster=gbtree, max_delta_step=8, reg_alpha=0.1 .................\n",
      "[CV]  booster=gbtree, max_delta_step=4, reg_alpha=2.1544346900318834, score=0.7628733947790662, total= 2.1min\n",
      "[CV] booster=gbtree, max_delta_step=8, reg_alpha=0.16681005372000587 .\n",
      "[CV]  booster=gbtree, max_delta_step=4, reg_alpha=5.994842503189409, score=0.7174864023374421, total= 2.1min\n",
      "[CV] booster=gbtree, max_delta_step=8, reg_alpha=0.16681005372000587 .\n",
      "[CV]  booster=gbtree, max_delta_step=4, reg_alpha=5.994842503189409, score=0.7608754270038894, total= 2.1min\n",
      "[CV] booster=gbtree, max_delta_step=8, reg_alpha=0.16681005372000587 .\n",
      "[CV]  booster=gbtree, max_delta_step=4, reg_alpha=3.593813663804626, score=0.766757402058184, total= 2.1min\n",
      "[CV] booster=gbtree, max_delta_step=8, reg_alpha=0.2782559402207124 ..\n",
      "[CV]  booster=gbtree, max_delta_step=4, reg_alpha=5.994842503189409, score=0.7568390951116646, total= 2.1min\n",
      "[CV] booster=gbtree, max_delta_step=8, reg_alpha=0.2782559402207124 ..\n",
      "[CV]  booster=gbtree, max_delta_step=4, reg_alpha=10.0, score=0.7207425896351025, total= 2.1min\n",
      "[CV] booster=gbtree, max_delta_step=8, reg_alpha=0.2782559402207124 ..\n",
      "[CV]  booster=gbtree, max_delta_step=4, reg_alpha=3.593813663804626, score=0.7546988702819292, total= 2.2min\n",
      "[CV] booster=gbtree, max_delta_step=8, reg_alpha=0.46415888336127786 .\n",
      "[CV]  booster=gbtree, max_delta_step=4, reg_alpha=10.0, score=0.7565024191875644, total= 2.1min\n",
      "[CV] booster=gbtree, max_delta_step=8, reg_alpha=0.46415888336127786 .\n",
      "[CV]  booster=gbtree, max_delta_step=4, reg_alpha=10.0, score=0.7613248071555953, total= 2.1min\n",
      "[CV] booster=gbtree, max_delta_step=8, reg_alpha=0.46415888336127786 .\n",
      "[CV]  booster=gbtree, max_delta_step=8, reg_alpha=0.1, score=0.7212743590057054, total= 2.0min\n",
      "[CV] booster=gbtree, max_delta_step=8, reg_alpha=0.774263682681127 ...\n",
      "[CV]  booster=gbtree, max_delta_step=8, reg_alpha=0.1, score=0.7574023035216926, total= 2.0min\n",
      "[CV] booster=gbtree, max_delta_step=8, reg_alpha=0.774263682681127 ...\n",
      "[CV]  booster=gbtree, max_delta_step=8, reg_alpha=0.16681005372000587, score=0.7148042166275648, total= 2.0min\n",
      "[CV] booster=gbtree, max_delta_step=8, reg_alpha=0.774263682681127 ...\n",
      "[CV]  booster=gbtree, max_delta_step=8, reg_alpha=0.1, score=0.7643737079058598, total= 2.2min\n",
      "[CV] booster=gbtree, max_delta_step=8, reg_alpha=1.291549665014884 ...\n",
      "[CV]  booster=gbtree, max_delta_step=8, reg_alpha=0.2782559402207124, score=0.7148043092420762, total= 2.0min\n",
      "[CV] booster=gbtree, max_delta_step=8, reg_alpha=1.291549665014884 ...\n",
      "[CV]  booster=gbtree, max_delta_step=8, reg_alpha=0.16681005372000587, score=0.7574023035216926, total= 2.1min\n",
      "[CV] booster=gbtree, max_delta_step=8, reg_alpha=1.291549665014884 ...\n",
      "[CV]  booster=gbtree, max_delta_step=8, reg_alpha=0.2782559402207124, score=0.7656067268350978, total= 2.1min\n",
      "[CV] booster=gbtree, max_delta_step=8, reg_alpha=2.1544346900318834 ..\n",
      "[CV]  booster=gbtree, max_delta_step=8, reg_alpha=0.46415888336127786, score=0.717192374417501, total= 2.1min\n",
      "[CV] booster=gbtree, max_delta_step=8, reg_alpha=2.1544346900318834 ..\n",
      "[CV]  booster=gbtree, max_delta_step=8, reg_alpha=0.16681005372000587, score=0.76424644731637, total= 2.1min\n",
      "[CV] booster=gbtree, max_delta_step=8, reg_alpha=2.1544346900318834 ..\n",
      "[CV]  booster=gbtree, max_delta_step=8, reg_alpha=0.2782559402207124, score=0.7573957761552863, total= 2.2min\n",
      "[CV] booster=gbtree, max_delta_step=8, reg_alpha=3.593813663804626 ...\n",
      "[CV]  booster=gbtree, max_delta_step=8, reg_alpha=0.46415888336127786, score=0.7572338129413633, total= 2.1min\n",
      "[CV] booster=gbtree, max_delta_step=8, reg_alpha=3.593813663804626 ...\n",
      "[CV]  booster=gbtree, max_delta_step=8, reg_alpha=0.46415888336127786, score=0.7654734554133368, total= 2.1min\n",
      "[CV] booster=gbtree, max_delta_step=8, reg_alpha=3.593813663804626 ...\n",
      "[CV]  booster=gbtree, max_delta_step=8, reg_alpha=0.774263682681127, score=0.7153397368858778, total= 2.0min\n",
      "[CV] booster=gbtree, max_delta_step=8, reg_alpha=5.994842503189409 ...\n",
      "[CV]  booster=gbtree, max_delta_step=8, reg_alpha=0.774263682681127, score=0.7572259237503111, total= 2.1min\n",
      "[CV] booster=gbtree, max_delta_step=8, reg_alpha=5.994842503189409 ...\n",
      "[CV]  booster=gbtree, max_delta_step=8, reg_alpha=0.774263682681127, score=0.7641575292624221, total= 2.2min\n",
      "[CV] booster=gbtree, max_delta_step=8, reg_alpha=5.994842503189409 ...\n",
      "[CV]  booster=gbtree, max_delta_step=8, reg_alpha=1.291549665014884, score=0.7153665950941722, total= 2.1min\n",
      "[CV] booster=gbtree, max_delta_step=8, reg_alpha=10.0 ................\n",
      "[CV]  booster=gbtree, max_delta_step=8, reg_alpha=1.291549665014884, score=0.7581813376583633, total= 2.1min\n",
      "[CV] booster=gbtree, max_delta_step=8, reg_alpha=10.0 ................\n",
      "[CV]  booster=gbtree, max_delta_step=8, reg_alpha=1.291549665014884, score=0.7664843553063064, total= 2.1min\n",
      "[CV] booster=gbtree, max_delta_step=8, reg_alpha=10.0 ................\n",
      "[CV]  booster=gbtree, max_delta_step=8, reg_alpha=2.1544346900318834, score=0.7591912949914579, total= 2.1min\n",
      "[CV] booster=gblinear, max_delta_step=0, reg_alpha=0.1 ...............\n",
      "[CV]  booster=gbtree, max_delta_step=8, reg_alpha=2.1544346900318834, score=0.7166640086301906, total= 2.1min\n",
      "[CV] booster=gblinear, max_delta_step=0, reg_alpha=0.1 ...............\n",
      "[CV]  booster=gbtree, max_delta_step=8, reg_alpha=2.1544346900318834, score=0.7626887495252381, total= 2.1min\n",
      "[CV] booster=gblinear, max_delta_step=0, reg_alpha=0.1 ...............\n",
      "[CV]  booster=gbtree, max_delta_step=8, reg_alpha=3.593813663804626, score=0.7596614766903285, total= 2.1min\n",
      "[CV] booster=gblinear, max_delta_step=0, reg_alpha=0.16681005372000587 \n",
      "[CV]  booster=gbtree, max_delta_step=8, reg_alpha=3.593813663804626, score=0.7181908283108485, total= 2.1min\n",
      "[CV] booster=gblinear, max_delta_step=0, reg_alpha=0.16681005372000587 \n",
      "[CV]  booster=gbtree, max_delta_step=8, reg_alpha=3.593813663804626, score=0.7667862822288616, total= 2.1min\n",
      "[CV] booster=gblinear, max_delta_step=0, reg_alpha=0.16681005372000587 \n",
      "[CV]  booster=gblinear, max_delta_step=0, reg_alpha=0.1, score=0.7836881580492567, total=  49.4s\n",
      "[CV] booster=gblinear, max_delta_step=0, reg_alpha=0.2782559402207124 \n",
      "[CV]  booster=gblinear, max_delta_step=0, reg_alpha=0.1, score=0.8127295290871421, total=  51.5s\n",
      "[CV] booster=gblinear, max_delta_step=0, reg_alpha=0.2782559402207124 \n",
      "[CV]  booster=gblinear, max_delta_step=0, reg_alpha=0.16681005372000587, score=0.7836881580492567, total=  48.7s\n",
      "[CV] booster=gblinear, max_delta_step=0, reg_alpha=0.2782559402207124 \n",
      "[CV]  booster=gblinear, max_delta_step=0, reg_alpha=0.1, score=0.7803960039611385, total=  52.7s\n",
      "[CV] booster=gblinear, max_delta_step=0, reg_alpha=0.46415888336127786 \n",
      "[CV]  booster=gblinear, max_delta_step=0, reg_alpha=0.16681005372000587, score=0.8127295290871421, total=  51.8s\n",
      "[CV] booster=gblinear, max_delta_step=0, reg_alpha=0.46415888336127786 \n",
      "[CV]  booster=gblinear, max_delta_step=0, reg_alpha=0.16681005372000587, score=0.7804549382931716, total=  51.9s\n",
      "[CV] booster=gblinear, max_delta_step=0, reg_alpha=0.46415888336127786 \n"
     ]
    },
    {
     "name": "stdout",
     "output_type": "stream",
     "text": [
      "[CV]  booster=gbtree, max_delta_step=8, reg_alpha=5.994842503189409, score=0.7185744607705304, total= 2.0min\n",
      "[CV] booster=gblinear, max_delta_step=0, reg_alpha=0.774263682681127 .\n",
      "[CV]  booster=gblinear, max_delta_step=0, reg_alpha=0.2782559402207124, score=0.7836881580492567, total=  51.5s\n",
      "[CV] booster=gblinear, max_delta_step=0, reg_alpha=0.774263682681127 .\n",
      "[CV]  booster=gblinear, max_delta_step=0, reg_alpha=0.2782559402207124, score=0.7804549382931716, total=  50.0s\n",
      "[CV] booster=gblinear, max_delta_step=0, reg_alpha=0.774263682681127 .\n",
      "[CV]  booster=gblinear, max_delta_step=0, reg_alpha=0.2782559402207124, score=0.8127295290871421, total=  50.8s\n",
      "[CV] booster=gblinear, max_delta_step=0, reg_alpha=1.291549665014884 .\n",
      "[CV]  booster=gblinear, max_delta_step=0, reg_alpha=0.46415888336127786, score=0.7836881580492567, total=  48.9s\n",
      "[CV] booster=gblinear, max_delta_step=0, reg_alpha=1.291549665014884 .\n",
      "[CV]  booster=gbtree, max_delta_step=8, reg_alpha=5.994842503189409, score=0.7591402500469712, total= 2.0min\n",
      "[CV] booster=gblinear, max_delta_step=0, reg_alpha=1.291549665014884 .\n",
      "[CV]  booster=gblinear, max_delta_step=0, reg_alpha=0.46415888336127786, score=0.81272849597879, total=  49.7s\n",
      "[CV] booster=gblinear, max_delta_step=0, reg_alpha=2.1544346900318834 \n",
      "[CV]  booster=gbtree, max_delta_step=8, reg_alpha=5.994842503189409, score=0.763343812843721, total= 2.0min\n",
      "[CV] booster=gblinear, max_delta_step=0, reg_alpha=2.1544346900318834 \n",
      "[CV]  booster=gbtree, max_delta_step=8, reg_alpha=10.0, score=0.7207425896351025, total= 2.0min\n",
      "[CV] booster=gblinear, max_delta_step=0, reg_alpha=2.1544346900318834 \n",
      "[CV]  booster=gblinear, max_delta_step=0, reg_alpha=0.46415888336127786, score=0.7804549382931716, total=  48.9s\n",
      "[CV] booster=gblinear, max_delta_step=0, reg_alpha=3.593813663804626 .\n",
      "[CV]  booster=gbtree, max_delta_step=8, reg_alpha=10.0, score=0.7597231344751592, total= 2.0min\n",
      "[CV] booster=gblinear, max_delta_step=0, reg_alpha=3.593813663804626 .\n",
      "[CV]  booster=gbtree, max_delta_step=8, reg_alpha=10.0, score=0.7632979332880266, total= 2.0min\n",
      "[CV] booster=gblinear, max_delta_step=0, reg_alpha=3.593813663804626 .\n",
      "[CV]  booster=gblinear, max_delta_step=0, reg_alpha=0.774263682681127, score=0.7836872319041432, total=  48.1s\n",
      "[CV] booster=gblinear, max_delta_step=0, reg_alpha=5.994842503189409 .\n",
      "[CV]  booster=gblinear, max_delta_step=0, reg_alpha=0.774263682681127, score=0.8127276507083202, total=  49.4s\n",
      "[CV] booster=gblinear, max_delta_step=0, reg_alpha=5.994842503189409 .\n",
      "[CV]  booster=gblinear, max_delta_step=0, reg_alpha=1.291549665014884, score=0.8127276507083202, total=  48.7s\n",
      "[CV] booster=gblinear, max_delta_step=0, reg_alpha=5.994842503189409 .\n",
      "[CV]  booster=gblinear, max_delta_step=0, reg_alpha=0.774263682681127, score=0.7804549382931716, total=  49.7s\n",
      "[CV] booster=gblinear, max_delta_step=0, reg_alpha=10.0 ..............\n",
      "[CV]  booster=gblinear, max_delta_step=0, reg_alpha=1.291549665014884, score=0.7836872319041432, total=  50.3s\n",
      "[CV] booster=gblinear, max_delta_step=0, reg_alpha=10.0 ..............\n",
      "[CV]  booster=gblinear, max_delta_step=0, reg_alpha=1.291549665014884, score=0.7804390189795787, total=  50.5s\n",
      "[CV] booster=gblinear, max_delta_step=0, reg_alpha=10.0 ..............\n",
      "[CV]  booster=gblinear, max_delta_step=0, reg_alpha=2.1544346900318834, score=0.7836869540606091, total=  49.2s\n",
      "[CV] booster=gblinear, max_delta_step=1, reg_alpha=0.1 ...............\n",
      "[CV]  booster=gblinear, max_delta_step=0, reg_alpha=2.1544346900318834, score=0.8127276507083202, total=  51.2s\n",
      "[CV] booster=gblinear, max_delta_step=1, reg_alpha=0.1 ...............\n",
      "[CV]  booster=gblinear, max_delta_step=0, reg_alpha=3.593813663804626, score=0.7836867688315865, total=  50.8s\n",
      "[CV] booster=gblinear, max_delta_step=1, reg_alpha=0.1 ...............\n",
      "[CV]  booster=gblinear, max_delta_step=0, reg_alpha=2.1544346900318834, score=0.7804387372218158, total=  52.1s\n",
      "[CV] booster=gblinear, max_delta_step=1, reg_alpha=0.16681005372000587 \n",
      "[CV]  booster=gblinear, max_delta_step=0, reg_alpha=3.593813663804626, score=0.8126898013750578, total=  49.1s\n",
      "[CV] booster=gblinear, max_delta_step=1, reg_alpha=0.16681005372000587 \n",
      "[CV]  booster=gblinear, max_delta_step=0, reg_alpha=3.593813663804626, score=0.7804361544423244, total=  51.3s\n",
      "[CV] booster=gblinear, max_delta_step=1, reg_alpha=0.16681005372000587 \n",
      "[CV]  booster=gblinear, max_delta_step=0, reg_alpha=5.994842503189409, score=0.7836836199382002, total=  49.3s\n",
      "[CV] booster=gblinear, max_delta_step=1, reg_alpha=0.2782559402207124 \n",
      "[CV]  booster=gblinear, max_delta_step=0, reg_alpha=5.994842503189409, score=0.8126850115090618, total=  50.1s\n",
      "[CV] booster=gblinear, max_delta_step=1, reg_alpha=0.2782559402207124 \n",
      "[CV]  booster=gblinear, max_delta_step=0, reg_alpha=10.0, score=0.8127948966701463, total=  48.7s\n",
      "[CV] booster=gblinear, max_delta_step=1, reg_alpha=0.2782559402207124 \n",
      "[CV]  booster=gblinear, max_delta_step=0, reg_alpha=10.0, score=0.783669635146985, total=  50.0s\n",
      "[CV] booster=gblinear, max_delta_step=1, reg_alpha=0.46415888336127786 \n",
      "[CV]  booster=gblinear, max_delta_step=0, reg_alpha=5.994842503189409, score=0.7804375632311379, total=  51.6s\n",
      "[CV] booster=gblinear, max_delta_step=1, reg_alpha=0.46415888336127786 \n",
      "[CV]  booster=gblinear, max_delta_step=0, reg_alpha=10.0, score=0.7804399581721209, total=  51.0s\n",
      "[CV] booster=gblinear, max_delta_step=1, reg_alpha=0.46415888336127786 \n",
      "[CV]  booster=gblinear, max_delta_step=1, reg_alpha=0.1, score=0.7836881580492567, total=  50.2s\n",
      "[CV] booster=gblinear, max_delta_step=1, reg_alpha=0.774263682681127 .\n",
      "[CV]  booster=gblinear, max_delta_step=1, reg_alpha=0.1, score=0.8127295290871421, total=  50.2s\n",
      "[CV] booster=gblinear, max_delta_step=1, reg_alpha=0.774263682681127 .\n",
      "[CV]  booster=gblinear, max_delta_step=1, reg_alpha=0.16681005372000587, score=0.8127295290871421, total=  49.0s\n",
      "[CV] booster=gblinear, max_delta_step=1, reg_alpha=0.774263682681127 .\n",
      "[CV]  booster=gblinear, max_delta_step=1, reg_alpha=0.16681005372000587, score=0.7836881580492567, total=  49.8s\n",
      "[CV] booster=gblinear, max_delta_step=1, reg_alpha=1.291549665014884 .\n",
      "[CV]  booster=gblinear, max_delta_step=1, reg_alpha=0.1, score=0.7803960039611385, total=  52.0s\n",
      "[CV] booster=gblinear, max_delta_step=1, reg_alpha=1.291549665014884 .\n",
      "[CV]  booster=gblinear, max_delta_step=1, reg_alpha=0.16681005372000587, score=0.7804549382931716, total=  50.5s\n",
      "[CV] booster=gblinear, max_delta_step=1, reg_alpha=1.291549665014884 .\n",
      "[CV]  booster=gblinear, max_delta_step=1, reg_alpha=0.2782559402207124, score=0.7836881580492567, total=  49.4s\n",
      "[CV] booster=gblinear, max_delta_step=1, reg_alpha=2.1544346900318834 \n",
      "[CV]  booster=gblinear, max_delta_step=1, reg_alpha=0.2782559402207124, score=0.7804549382931716, total=  49.4s\n",
      "[CV] booster=gblinear, max_delta_step=1, reg_alpha=2.1544346900318834 \n",
      "[CV]  booster=gblinear, max_delta_step=1, reg_alpha=0.2782559402207124, score=0.8127295290871421, total=  52.1s\n",
      "[CV] booster=gblinear, max_delta_step=1, reg_alpha=2.1544346900318834 \n",
      "[CV]  booster=gblinear, max_delta_step=1, reg_alpha=0.46415888336127786, score=0.7836881580492567, total=  50.2s\n",
      "[CV] booster=gblinear, max_delta_step=1, reg_alpha=3.593813663804626 .\n",
      "[CV]  booster=gblinear, max_delta_step=1, reg_alpha=0.46415888336127786, score=0.81272849597879, total=  50.9s\n",
      "[CV] booster=gblinear, max_delta_step=1, reg_alpha=3.593813663804626 .\n",
      "[CV]  booster=gblinear, max_delta_step=1, reg_alpha=0.774263682681127, score=0.7836872319041432, total=  49.6s\n",
      "[CV] booster=gblinear, max_delta_step=1, reg_alpha=3.593813663804626 .\n",
      "[CV]  booster=gblinear, max_delta_step=1, reg_alpha=0.46415888336127786, score=0.7804549382931716, total=  51.8s\n",
      "[CV] booster=gblinear, max_delta_step=1, reg_alpha=5.994842503189409 .\n",
      "[CV]  booster=gblinear, max_delta_step=1, reg_alpha=0.774263682681127, score=0.8127276507083202, total=  50.5s\n",
      "[CV] booster=gblinear, max_delta_step=1, reg_alpha=5.994842503189409 .\n",
      "[CV]  booster=gblinear, max_delta_step=1, reg_alpha=0.774263682681127, score=0.7804549382931716, total=  51.3s\n",
      "[CV] booster=gblinear, max_delta_step=1, reg_alpha=5.994842503189409 .\n",
      "[CV]  booster=gblinear, max_delta_step=1, reg_alpha=1.291549665014884, score=0.7836872319041432, total=  50.8s\n"
     ]
    },
    {
     "name": "stdout",
     "output_type": "stream",
     "text": [
      "[CV] booster=gblinear, max_delta_step=1, reg_alpha=10.0 ..............\n",
      "[CV]  booster=gblinear, max_delta_step=1, reg_alpha=1.291549665014884, score=0.8127276507083202, total=  50.1s\n",
      "[CV] booster=gblinear, max_delta_step=1, reg_alpha=10.0 ..............\n",
      "[CV]  booster=gblinear, max_delta_step=1, reg_alpha=1.291549665014884, score=0.7804390189795787, total=  51.6s\n",
      "[CV] booster=gblinear, max_delta_step=1, reg_alpha=10.0 ..............\n",
      "[CV]  booster=gblinear, max_delta_step=1, reg_alpha=2.1544346900318834, score=0.7836869540606091, total=  49.8s\n",
      "[CV] booster=gblinear, max_delta_step=2, reg_alpha=0.1 ...............\n",
      "[CV]  booster=gblinear, max_delta_step=1, reg_alpha=2.1544346900318834, score=0.8127276507083202, total=  48.9s\n",
      "[CV] booster=gblinear, max_delta_step=2, reg_alpha=0.1 ...............\n",
      "[CV]  booster=gblinear, max_delta_step=1, reg_alpha=2.1544346900318834, score=0.7804387372218158, total=  50.6s\n",
      "[CV] booster=gblinear, max_delta_step=2, reg_alpha=0.1 ...............\n",
      "[CV]  booster=gblinear, max_delta_step=1, reg_alpha=3.593813663804626, score=0.7836867688315865, total=  51.8s\n",
      "[CV] booster=gblinear, max_delta_step=2, reg_alpha=0.16681005372000587 \n",
      "[CV]  booster=gblinear, max_delta_step=1, reg_alpha=3.593813663804626, score=0.8126898013750578, total=  51.5s\n",
      "[CV] booster=gblinear, max_delta_step=2, reg_alpha=0.16681005372000587 \n",
      "[CV]  booster=gblinear, max_delta_step=1, reg_alpha=3.593813663804626, score=0.7804361544423244, total=  51.3s\n",
      "[CV] booster=gblinear, max_delta_step=2, reg_alpha=0.16681005372000587 \n",
      "[CV]  booster=gblinear, max_delta_step=1, reg_alpha=5.994842503189409, score=0.7836836199382002, total=  50.9s\n",
      "[CV] booster=gblinear, max_delta_step=2, reg_alpha=0.2782559402207124 \n",
      "[CV]  booster=gblinear, max_delta_step=1, reg_alpha=5.994842503189409, score=0.8126850115090618, total=  50.7s\n",
      "[CV] booster=gblinear, max_delta_step=2, reg_alpha=0.2782559402207124 \n",
      "[CV]  booster=gblinear, max_delta_step=1, reg_alpha=5.994842503189409, score=0.7804375632311379, total=  48.6s\n",
      "[CV] booster=gblinear, max_delta_step=2, reg_alpha=0.2782559402207124 \n",
      "[CV]  booster=gblinear, max_delta_step=1, reg_alpha=10.0, score=0.8127948966701463, total=  50.6s\n",
      "[CV] booster=gblinear, max_delta_step=2, reg_alpha=0.46415888336127786 \n",
      "[CV]  booster=gblinear, max_delta_step=1, reg_alpha=10.0, score=0.783669635146985, total=  51.5s\n",
      "[CV] booster=gblinear, max_delta_step=2, reg_alpha=0.46415888336127786 \n",
      "[CV]  booster=gblinear, max_delta_step=1, reg_alpha=10.0, score=0.7804399581721209, total=  51.7s\n",
      "[CV] booster=gblinear, max_delta_step=2, reg_alpha=0.46415888336127786 \n",
      "[CV]  booster=gblinear, max_delta_step=2, reg_alpha=0.1, score=0.7836881580492567, total=  50.6s\n",
      "[CV] booster=gblinear, max_delta_step=2, reg_alpha=0.774263682681127 .\n",
      "[CV]  booster=gblinear, max_delta_step=2, reg_alpha=0.1, score=0.8127295290871421, total=  48.3s\n",
      "[CV] booster=gblinear, max_delta_step=2, reg_alpha=0.774263682681127 .\n",
      "[CV]  booster=gblinear, max_delta_step=2, reg_alpha=0.1, score=0.7803960039611385, total=  50.3s\n",
      "[CV] booster=gblinear, max_delta_step=2, reg_alpha=0.774263682681127 .\n",
      "[CV]  booster=gblinear, max_delta_step=2, reg_alpha=0.16681005372000587, score=0.7804549382931716, total=  48.4s\n",
      "[CV] booster=gblinear, max_delta_step=2, reg_alpha=1.291549665014884 .\n",
      "[CV]  booster=gblinear, max_delta_step=2, reg_alpha=0.16681005372000587, score=0.8127295290871421, total=  51.0s\n",
      "[CV] booster=gblinear, max_delta_step=2, reg_alpha=1.291549665014884 .\n",
      "[CV]  booster=gblinear, max_delta_step=2, reg_alpha=0.2782559402207124, score=0.7836881580492567, total=  50.1s\n",
      "[CV] booster=gblinear, max_delta_step=2, reg_alpha=1.291549665014884 .\n",
      "[CV]  booster=gblinear, max_delta_step=2, reg_alpha=0.16681005372000587, score=0.7836881580492567, total=  53.3s\n",
      "[CV] booster=gblinear, max_delta_step=2, reg_alpha=2.1544346900318834 \n",
      "[CV]  booster=gblinear, max_delta_step=2, reg_alpha=0.2782559402207124, score=0.8127295290871421, total=  48.5s\n",
      "[CV] booster=gblinear, max_delta_step=2, reg_alpha=2.1544346900318834 \n",
      "[CV]  booster=gblinear, max_delta_step=2, reg_alpha=0.2782559402207124, score=0.7804549382931716, total=  48.8s\n",
      "[CV] booster=gblinear, max_delta_step=2, reg_alpha=2.1544346900318834 \n",
      "[CV]  booster=gblinear, max_delta_step=2, reg_alpha=0.46415888336127786, score=0.7836881580492567, total=  49.7s\n",
      "[CV] booster=gblinear, max_delta_step=2, reg_alpha=3.593813663804626 .\n",
      "[CV]  booster=gblinear, max_delta_step=2, reg_alpha=0.46415888336127786, score=0.81272849597879, total=  50.9s\n",
      "[CV] booster=gblinear, max_delta_step=2, reg_alpha=3.593813663804626 .\n",
      "[CV]  booster=gblinear, max_delta_step=2, reg_alpha=0.46415888336127786, score=0.7804549382931716, total=  53.6s\n",
      "[CV] booster=gblinear, max_delta_step=2, reg_alpha=3.593813663804626 .\n",
      "[CV]  booster=gblinear, max_delta_step=2, reg_alpha=0.774263682681127, score=0.7836872319041432, total=  50.1s\n",
      "[CV] booster=gblinear, max_delta_step=2, reg_alpha=5.994842503189409 .\n",
      "[CV]  booster=gblinear, max_delta_step=2, reg_alpha=0.774263682681127, score=0.8127276507083202, total=  49.3s\n",
      "[CV] booster=gblinear, max_delta_step=2, reg_alpha=5.994842503189409 .\n",
      "[CV]  booster=gblinear, max_delta_step=2, reg_alpha=0.774263682681127, score=0.7804549382931716, total=  50.5s\n",
      "[CV] booster=gblinear, max_delta_step=2, reg_alpha=5.994842503189409 .\n",
      "[CV]  booster=gblinear, max_delta_step=2, reg_alpha=1.291549665014884, score=0.7836872319041432, total=  49.1s\n",
      "[CV] booster=gblinear, max_delta_step=2, reg_alpha=10.0 ..............\n",
      "[CV]  booster=gblinear, max_delta_step=2, reg_alpha=1.291549665014884, score=0.7804390189795787, total=  48.5s\n",
      "[CV] booster=gblinear, max_delta_step=2, reg_alpha=10.0 ..............\n",
      "[CV]  booster=gblinear, max_delta_step=2, reg_alpha=2.1544346900318834, score=0.7836869540606091, total=  48.4s\n",
      "[CV] booster=gblinear, max_delta_step=2, reg_alpha=10.0 ..............\n",
      "[CV]  booster=gblinear, max_delta_step=2, reg_alpha=1.291549665014884, score=0.8127276507083202, total=  50.0s\n",
      "[CV] booster=gblinear, max_delta_step=4, reg_alpha=0.1 ...............\n",
      "[CV]  booster=gblinear, max_delta_step=2, reg_alpha=2.1544346900318834, score=0.8127276507083202, total=  49.8s\n",
      "[CV] booster=gblinear, max_delta_step=4, reg_alpha=0.1 ...............\n",
      "[CV]  booster=gblinear, max_delta_step=2, reg_alpha=2.1544346900318834, score=0.7804387372218158, total=  50.2s\n",
      "[CV] booster=gblinear, max_delta_step=4, reg_alpha=0.1 ...............\n",
      "[CV]  booster=gblinear, max_delta_step=2, reg_alpha=3.593813663804626, score=0.7836867688315865, total=  49.4s\n",
      "[CV] booster=gblinear, max_delta_step=4, reg_alpha=0.16681005372000587 \n",
      "[CV]  booster=gblinear, max_delta_step=2, reg_alpha=3.593813663804626, score=0.8126898013750578, total=  48.6s\n",
      "[CV] booster=gblinear, max_delta_step=4, reg_alpha=0.16681005372000587 \n",
      "[CV]  booster=gblinear, max_delta_step=2, reg_alpha=3.593813663804626, score=0.7804361544423244, total=  50.3s\n",
      "[CV] booster=gblinear, max_delta_step=4, reg_alpha=0.16681005372000587 \n",
      "[CV]  booster=gblinear, max_delta_step=2, reg_alpha=5.994842503189409, score=0.7836836199382002, total=  47.5s\n",
      "[CV] booster=gblinear, max_delta_step=4, reg_alpha=0.2782559402207124 \n",
      "[CV]  booster=gblinear, max_delta_step=2, reg_alpha=5.994842503189409, score=0.8126850115090618, total=  48.3s\n",
      "[CV] booster=gblinear, max_delta_step=4, reg_alpha=0.2782559402207124 \n",
      "[CV]  booster=gblinear, max_delta_step=2, reg_alpha=5.994842503189409, score=0.7804375632311379, total=  50.8s\n",
      "[CV] booster=gblinear, max_delta_step=4, reg_alpha=0.2782559402207124 \n",
      "[CV]  booster=gblinear, max_delta_step=2, reg_alpha=10.0, score=0.783669635146985, total=  49.9s\n",
      "[CV] booster=gblinear, max_delta_step=4, reg_alpha=0.46415888336127786 \n",
      "[CV]  booster=gblinear, max_delta_step=2, reg_alpha=10.0, score=0.7804399581721209, total=  48.5s\n",
      "[CV] booster=gblinear, max_delta_step=4, reg_alpha=0.46415888336127786 \n",
      "[CV]  booster=gblinear, max_delta_step=4, reg_alpha=0.1, score=0.7836881580492567, total=  48.6s\n",
      "[CV] booster=gblinear, max_delta_step=4, reg_alpha=0.46415888336127786 \n",
      "[CV]  booster=gblinear, max_delta_step=2, reg_alpha=10.0, score=0.8127948966701463, total=  50.4s\n",
      "[CV] booster=gblinear, max_delta_step=4, reg_alpha=0.774263682681127 .\n",
      "[CV]  booster=gblinear, max_delta_step=4, reg_alpha=0.1, score=0.8127295290871421, total=  49.3s\n"
     ]
    },
    {
     "name": "stdout",
     "output_type": "stream",
     "text": [
      "[CV] booster=gblinear, max_delta_step=4, reg_alpha=0.774263682681127 .\n",
      "[CV]  booster=gblinear, max_delta_step=4, reg_alpha=0.1, score=0.7803960039611385, total=  49.2s\n",
      "[CV] booster=gblinear, max_delta_step=4, reg_alpha=0.774263682681127 .\n",
      "[CV]  booster=gblinear, max_delta_step=4, reg_alpha=0.16681005372000587, score=0.7836881580492567, total=  48.8s\n",
      "[CV] booster=gblinear, max_delta_step=4, reg_alpha=1.291549665014884 .\n",
      "[CV]  booster=gblinear, max_delta_step=4, reg_alpha=0.16681005372000587, score=0.8127295290871421, total=  50.0s\n",
      "[CV] booster=gblinear, max_delta_step=4, reg_alpha=1.291549665014884 .\n",
      "[CV]  booster=gblinear, max_delta_step=4, reg_alpha=0.16681005372000587, score=0.7804549382931716, total=  47.6s\n",
      "[CV] booster=gblinear, max_delta_step=4, reg_alpha=1.291549665014884 .\n",
      "[CV]  booster=gblinear, max_delta_step=4, reg_alpha=0.2782559402207124, score=0.7836881580492567, total=  48.7s\n",
      "[CV] booster=gblinear, max_delta_step=4, reg_alpha=2.1544346900318834 \n",
      "[CV]  booster=gblinear, max_delta_step=4, reg_alpha=0.2782559402207124, score=0.8127295290871421, total=  49.8s\n",
      "[CV] booster=gblinear, max_delta_step=4, reg_alpha=2.1544346900318834 \n",
      "[CV]  booster=gblinear, max_delta_step=4, reg_alpha=0.46415888336127786, score=0.7836881580492567, total=  49.9s\n",
      "[CV] booster=gblinear, max_delta_step=4, reg_alpha=2.1544346900318834 \n",
      "[CV]  booster=gblinear, max_delta_step=4, reg_alpha=0.2782559402207124, score=0.7804549382931716, total=  50.5s\n",
      "[CV] booster=gblinear, max_delta_step=4, reg_alpha=3.593813663804626 .\n",
      "[CV]  booster=gblinear, max_delta_step=4, reg_alpha=0.46415888336127786, score=0.7804549382931716, total=  49.8s\n",
      "[CV] booster=gblinear, max_delta_step=4, reg_alpha=3.593813663804626 .\n",
      "[CV]  booster=gblinear, max_delta_step=4, reg_alpha=0.46415888336127786, score=0.81272849597879, total=  51.5s\n",
      "[CV] booster=gblinear, max_delta_step=4, reg_alpha=3.593813663804626 .\n",
      "[CV]  booster=gblinear, max_delta_step=4, reg_alpha=0.774263682681127, score=0.7836872319041432, total=  50.5s\n",
      "[CV] booster=gblinear, max_delta_step=4, reg_alpha=5.994842503189409 .\n",
      "[CV]  booster=gblinear, max_delta_step=4, reg_alpha=0.774263682681127, score=0.8127276507083202, total=  50.8s\n",
      "[CV] booster=gblinear, max_delta_step=4, reg_alpha=5.994842503189409 .\n",
      "[CV]  booster=gblinear, max_delta_step=4, reg_alpha=0.774263682681127, score=0.7804549382931716, total=  50.2s\n",
      "[CV] booster=gblinear, max_delta_step=4, reg_alpha=5.994842503189409 .\n",
      "[CV]  booster=gblinear, max_delta_step=4, reg_alpha=1.291549665014884, score=0.7836872319041432, total=  48.8s\n",
      "[CV] booster=gblinear, max_delta_step=4, reg_alpha=10.0 ..............\n",
      "[CV]  booster=gblinear, max_delta_step=4, reg_alpha=1.291549665014884, score=0.8127276507083202, total=  53.0s\n",
      "[CV] booster=gblinear, max_delta_step=4, reg_alpha=10.0 ..............\n",
      "[CV]  booster=gblinear, max_delta_step=4, reg_alpha=1.291549665014884, score=0.7804390189795787, total=  48.9s\n",
      "[CV] booster=gblinear, max_delta_step=4, reg_alpha=10.0 ..............\n",
      "[CV]  booster=gblinear, max_delta_step=4, reg_alpha=2.1544346900318834, score=0.7836869540606091, total=  49.3s\n",
      "[CV] booster=gblinear, max_delta_step=8, reg_alpha=0.1 ...............\n",
      "[CV]  booster=gblinear, max_delta_step=4, reg_alpha=2.1544346900318834, score=0.8127276507083202, total=  46.9s\n",
      "[CV] booster=gblinear, max_delta_step=8, reg_alpha=0.1 ...............\n",
      "[CV]  booster=gblinear, max_delta_step=4, reg_alpha=3.593813663804626, score=0.7836867688315865, total=  42.0s\n",
      "[CV] booster=gblinear, max_delta_step=8, reg_alpha=0.1 ...............\n",
      "[CV]  booster=gblinear, max_delta_step=4, reg_alpha=2.1544346900318834, score=0.7804387372218158, total=  44.1s\n",
      "[CV] booster=gblinear, max_delta_step=8, reg_alpha=0.16681005372000587 \n",
      "[CV]  booster=gblinear, max_delta_step=4, reg_alpha=3.593813663804626, score=0.7804361544423244, total=  42.2s\n",
      "[CV] booster=gblinear, max_delta_step=8, reg_alpha=0.16681005372000587 \n",
      "[CV]  booster=gblinear, max_delta_step=4, reg_alpha=5.994842503189409, score=0.7836836199382002, total=  41.7s\n",
      "[CV] booster=gblinear, max_delta_step=8, reg_alpha=0.16681005372000587 \n"
     ]
    },
    {
     "name": "stderr",
     "output_type": "stream",
     "text": [
      "[Parallel(n_jobs=-1)]: Done 264 tasks      | elapsed: 35.0min\n"
     ]
    },
    {
     "name": "stdout",
     "output_type": "stream",
     "text": [
      "[CV]  booster=gblinear, max_delta_step=4, reg_alpha=3.593813663804626, score=0.8126898013750578, total=  45.0s\n",
      "[CV] booster=gblinear, max_delta_step=8, reg_alpha=0.2782559402207124 \n",
      "[CV]  booster=gblinear, max_delta_step=4, reg_alpha=5.994842503189409, score=0.7804375632311379, total=  40.4s\n",
      "[CV] booster=gblinear, max_delta_step=8, reg_alpha=0.2782559402207124 \n",
      "[CV]  booster=gblinear, max_delta_step=4, reg_alpha=10.0, score=0.783669635146985, total=  39.3s\n",
      "[CV] booster=gblinear, max_delta_step=8, reg_alpha=0.2782559402207124 \n",
      "[CV]  booster=gblinear, max_delta_step=4, reg_alpha=5.994842503189409, score=0.8126850115090618, total=  43.0s\n",
      "[CV] booster=gblinear, max_delta_step=8, reg_alpha=0.46415888336127786 \n",
      "[CV]  booster=gblinear, max_delta_step=4, reg_alpha=10.0, score=0.8127948966701463, total=  45.2s\n",
      "[CV] booster=gblinear, max_delta_step=8, reg_alpha=0.46415888336127786 \n",
      "[CV]  booster=gblinear, max_delta_step=4, reg_alpha=10.0, score=0.7804399581721209, total=  42.5s\n",
      "[CV] booster=gblinear, max_delta_step=8, reg_alpha=0.46415888336127786 \n",
      "[CV]  booster=gblinear, max_delta_step=8, reg_alpha=0.1, score=0.7836881580492567, total=  43.9s\n",
      "[CV] booster=gblinear, max_delta_step=8, reg_alpha=0.774263682681127 .\n",
      "[CV]  booster=gblinear, max_delta_step=8, reg_alpha=0.1, score=0.8127295290871421, total=  46.3s\n",
      "[CV] booster=gblinear, max_delta_step=8, reg_alpha=0.774263682681127 .\n",
      "[CV]  booster=gblinear, max_delta_step=8, reg_alpha=0.16681005372000587, score=0.7804549382931716, total=  45.5s\n",
      "[CV] booster=gblinear, max_delta_step=8, reg_alpha=0.774263682681127 .\n",
      "[CV]  booster=gblinear, max_delta_step=8, reg_alpha=0.16681005372000587, score=0.7836881580492567, total=  47.7s\n",
      "[CV] booster=gblinear, max_delta_step=8, reg_alpha=1.291549665014884 .\n",
      "[CV]  booster=gblinear, max_delta_step=8, reg_alpha=0.16681005372000587, score=0.8127295290871421, total=  47.4s\n",
      "[CV] booster=gblinear, max_delta_step=8, reg_alpha=1.291549665014884 .\n",
      "[CV]  booster=gblinear, max_delta_step=8, reg_alpha=0.1, score=0.7803960039611385, total=  49.9s\n",
      "[CV] booster=gblinear, max_delta_step=8, reg_alpha=1.291549665014884 .\n",
      "[CV]  booster=gblinear, max_delta_step=8, reg_alpha=0.2782559402207124, score=0.7836881580492567, total=  47.5s\n",
      "[CV] booster=gblinear, max_delta_step=8, reg_alpha=2.1544346900318834 \n",
      "[CV]  booster=gblinear, max_delta_step=8, reg_alpha=0.2782559402207124, score=0.8127295290871421, total=  47.1s\n",
      "[CV] booster=gblinear, max_delta_step=8, reg_alpha=2.1544346900318834 \n",
      "[CV]  booster=gblinear, max_delta_step=8, reg_alpha=0.2782559402207124, score=0.7804549382931716, total=  50.3s\n",
      "[CV] booster=gblinear, max_delta_step=8, reg_alpha=2.1544346900318834 \n",
      "[CV]  booster=gblinear, max_delta_step=8, reg_alpha=0.46415888336127786, score=0.7836881580492567, total=  50.3s\n",
      "[CV] booster=gblinear, max_delta_step=8, reg_alpha=3.593813663804626 .\n",
      "[CV]  booster=gblinear, max_delta_step=8, reg_alpha=0.46415888336127786, score=0.81272849597879, total=  49.3s\n",
      "[CV] booster=gblinear, max_delta_step=8, reg_alpha=3.593813663804626 .\n",
      "[CV]  booster=gblinear, max_delta_step=8, reg_alpha=0.46415888336127786, score=0.7804549382931716, total=  50.4s\n",
      "[CV] booster=gblinear, max_delta_step=8, reg_alpha=3.593813663804626 .\n",
      "[CV]  booster=gblinear, max_delta_step=8, reg_alpha=0.774263682681127, score=0.7836872319041432, total=  49.2s\n",
      "[CV] booster=gblinear, max_delta_step=8, reg_alpha=5.994842503189409 .\n",
      "[CV]  booster=gblinear, max_delta_step=8, reg_alpha=0.774263682681127, score=0.8127276507083202, total=  51.0s\n",
      "[CV] booster=gblinear, max_delta_step=8, reg_alpha=5.994842503189409 .\n",
      "[CV]  booster=gblinear, max_delta_step=8, reg_alpha=0.774263682681127, score=0.7804549382931716, total=  50.8s\n",
      "[CV] booster=gblinear, max_delta_step=8, reg_alpha=5.994842503189409 .\n",
      "[CV]  booster=gblinear, max_delta_step=8, reg_alpha=1.291549665014884, score=0.7804390189795787, total=  49.1s\n",
      "[CV] booster=gblinear, max_delta_step=8, reg_alpha=10.0 ..............\n",
      "[CV]  booster=gblinear, max_delta_step=8, reg_alpha=1.291549665014884, score=0.8127276507083202, total=  51.6s\n",
      "[CV] booster=gblinear, max_delta_step=8, reg_alpha=10.0 ..............\n",
      "[CV]  booster=gblinear, max_delta_step=8, reg_alpha=1.291549665014884, score=0.7836872319041432, total=  52.6s\n",
      "[CV] booster=gblinear, max_delta_step=8, reg_alpha=10.0 ..............\n",
      "[CV]  booster=gblinear, max_delta_step=8, reg_alpha=2.1544346900318834, score=0.7836869540606091, total=  50.9s\n",
      "[CV]  booster=gblinear, max_delta_step=8, reg_alpha=2.1544346900318834, score=0.8127276507083202, total=  51.2s\n",
      "[CV]  booster=gblinear, max_delta_step=8, reg_alpha=2.1544346900318834, score=0.7804387372218158, total=  49.6s\n",
      "[CV]  booster=gblinear, max_delta_step=8, reg_alpha=3.593813663804626, score=0.7836867688315865, total=  50.2s\n",
      "[CV]  booster=gblinear, max_delta_step=8, reg_alpha=3.593813663804626, score=0.8126898013750578, total=  47.8s\n",
      "[CV]  booster=gblinear, max_delta_step=8, reg_alpha=3.593813663804626, score=0.7804361544423244, total=  47.4s\n",
      "[CV]  booster=gblinear, max_delta_step=8, reg_alpha=5.994842503189409, score=0.7836836199382002, total=  44.4s\n",
      "[CV]  booster=gblinear, max_delta_step=8, reg_alpha=5.994842503189409, score=0.8126850115090618, total=  34.5s\n",
      "[CV]  booster=gblinear, max_delta_step=8, reg_alpha=10.0, score=0.783669635146985, total=  30.9s\n",
      "[CV]  booster=gblinear, max_delta_step=8, reg_alpha=5.994842503189409, score=0.7804375632311379, total=  31.6s\n",
      "[CV]  booster=gblinear, max_delta_step=8, reg_alpha=10.0, score=0.8127948966701463, total=  29.9s\n",
      "[CV]  booster=gblinear, max_delta_step=8, reg_alpha=10.0, score=0.7804399581721209, total=  29.6s\n"
     ]
    },
    {
     "name": "stderr",
     "output_type": "stream",
     "text": [
      "[Parallel(n_jobs=-1)]: Done 300 out of 300 | elapsed: 37.2min finished\n"
     ]
    },
    {
     "data": {
      "text/plain": [
       "GridSearchCV(cv=None, error_score='raise',\n",
       "       estimator=XGBClassifier(base_score=0.5, booster='gbtree', colsample_bylevel=1,\n",
       "       colsample_bytree=1, gamma=0, learning_rate=0.1, max_delta_step=0,\n",
       "       max_depth=3, min_child_weight=1, missing=None, n_estimators=100,\n",
       "       n_jobs=1, nthread=None, objective='binary:logistic', random_state=0,\n",
       "       reg_alpha=0, reg_lambda=1, scale_pos_weight=4693.84, seed=None,\n",
       "       silent=True, subsample=1),\n",
       "       fit_params=None, iid=True, n_jobs=-1,\n",
       "       param_grid={'booster': ['gbtree', 'gblinear'], 'max_delta_step': [0, 1, 2, 4, 8], 'reg_alpha': array([ 0.1    ,  0.16681,  0.27826,  0.46416,  0.77426,  1.29155,\n",
       "        2.15443,  3.59381,  5.99484, 10.     ])},\n",
       "       pre_dispatch='2*n_jobs', refit=True, return_train_score='warn',\n",
       "       scoring='roc_auc', verbose=3)"
      ]
     },
     "execution_count": 518,
     "metadata": {},
     "output_type": "execute_result"
    }
   ],
   "source": [
    "clf.fit(X_train,y_train)"
   ]
  },
  {
   "cell_type": "code",
   "execution_count": 519,
   "metadata": {
    "nbpresent": {
     "id": "25ac4564-4c7d-433e-bc15-3dca05d23ec9"
    }
   },
   "outputs": [],
   "source": [
    "xgb_best = clf.best_estimator_"
   ]
  },
  {
   "cell_type": "code",
   "execution_count": 520,
   "metadata": {},
   "outputs": [
    {
     "data": {
      "text/plain": [
       "XGBClassifier(base_score=0.5, booster='gblinear', colsample_bylevel=1,\n",
       "       colsample_bytree=1, gamma=0, learning_rate=0.1, max_delta_step=0,\n",
       "       max_depth=3, min_child_weight=1, missing=None, n_estimators=100,\n",
       "       n_jobs=1, nthread=None, objective='binary:logistic', random_state=0,\n",
       "       reg_alpha=10.0, reg_lambda=1, scale_pos_weight=4693.84, seed=None,\n",
       "       silent=True, subsample=1)"
      ]
     },
     "execution_count": 520,
     "metadata": {},
     "output_type": "execute_result"
    }
   ],
   "source": [
    "xgb_best"
   ]
  },
  {
   "cell_type": "code",
   "execution_count": 521,
   "metadata": {
    "scrolled": true
   },
   "outputs": [],
   "source": [
    "train_proba = xgb_best.predict_proba(X_train)[:,1]"
   ]
  },
  {
   "cell_type": "code",
   "execution_count": 522,
   "metadata": {},
   "outputs": [
    {
     "name": "stderr",
     "output_type": "stream",
     "text": [
      "/anaconda/envs/py35/lib/python3.5/site-packages/sklearn/metrics/classification.py:1135: UndefinedMetricWarning: F-score is ill-defined and being set to 0.0 due to no predicted samples.\n",
      "  'precision', 'predicted', average, warn_for)\n"
     ]
    }
   ],
   "source": [
    "best_threshold = list(pred_thresholds)[np.argmax(np.vectorize(findThreshold)(pred_thresholds))]"
   ]
  },
  {
   "cell_type": "code",
   "execution_count": 523,
   "metadata": {},
   "outputs": [],
   "source": [
    "test_proba = xgb_best.predict_proba(X_test)[:,1]"
   ]
  },
  {
   "cell_type": "code",
   "execution_count": 524,
   "metadata": {},
   "outputs": [],
   "source": [
    "y_pred = binarize(test_proba.reshape(-1,1),best_threshold)"
   ]
  },
  {
   "cell_type": "code",
   "execution_count": 525,
   "metadata": {},
   "outputs": [
    {
     "data": {
      "text/plain": [
       "0.4413988246390481"
      ]
     },
     "execution_count": 525,
     "metadata": {},
     "output_type": "execute_result"
    }
   ],
   "source": [
    "fbeta_xgb = fbeta_score(y_test,y_pred,beta)\n",
    "fbeta_xgb"
   ]
  },
  {
   "cell_type": "code",
   "execution_count": 526,
   "metadata": {
    "scrolled": true
   },
   "outputs": [
    {
     "data": {
      "text/plain": [
       "array([[79074, 20896],\n",
       "       [   11,    19]])"
      ]
     },
     "execution_count": 526,
     "metadata": {},
     "output_type": "execute_result"
    }
   ],
   "source": [
    "confusion_matrix(y_test,y_pred)"
   ]
  },
  {
   "cell_type": "code",
   "execution_count": 528,
   "metadata": {},
   "outputs": [
    {
     "data": {
      "image/png": "[encoded data removed]",
      "text/plain": [
       "<matplotlib.figure.Figure at 0x7f3fae5e47f0>"
      ]
     },
     "metadata": {},
     "output_type": "display_data"
    }
   ],
   "source": [
    "xgb_auc = roc_auc_score(y_test,test_proba)\n",
    "fpr, tpr, thresholds = roc_curve(y_test,test_proba,pos_label=1)\n",
    "roc_plot(fpr,tpr,'Logistic Regression',xgb_auc)"
   ]
  },
  {
   "cell_type": "markdown",
   "metadata": {},
   "source": [
    "XGBoost seems has lower value on AUC of ROC compared to Logistic Regression. However, we cannot conclude that LR is better than XGB (the difference is too low). From the f40 score we could derive an opposite conclusion. Besides, from the confusion matrix, we could see that with the same recall, XGB has lower False Positive samples. Therefore, XGB is in the position of slight advantages over LR."
   ]
  }
 ],
 "metadata": {
  "kernelspec": {
   "display_name": "Python [default]",
   "language": "python",
   "name": "python3"
  },
  "language_info": {
   "codemirror_mode": {
    "name": "ipython",
    "version": 3
   },
   "file_extension": ".py",
   "mimetype": "text/x-python",
   "name": "python",
   "nbconvert_exporter": "python",
   "pygments_lexer": "ipython3",
   "version": "3.5.4"
  }
 },
 "nbformat": 4,
 "nbformat_minor": 2
}
